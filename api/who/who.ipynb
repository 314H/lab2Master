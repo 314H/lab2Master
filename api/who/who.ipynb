{
 "cells": [
  {
   "cell_type": "markdown",
   "metadata": {},
   "source": [
    "# World Health Organization Data\n",
    "\n",
    "## Global Health Observatory\n",
    "\n",
    "* [Data query API](https://apps.who.int/gho/data/node.resources.api)\n",
    "* [GHO OData API ](https://www.who.int/data/gho/info/gho-odata-api)\n",
    "\n",
    "Exemplos de API: [https://www.who.int/data/gho/info/athena-api-examples](https://www.who.int/data/gho/info/athena-api-examples).\n",
    "\n",
    "Para se determinar o tipo de informação para acesso veja a [lista de dimensões e códigos](https://apps.who.int/gho/athena/api/GHO). Utilize o código disponível no campo `<Code label=\"\">`. Por exemplo, no campo `<Code Label=\"WHOSIS_000001\">` é possível encontrar o código `WHOSIS_000001` que indica `Life expectancy at birth (years)`.\n",
    "\n",
    "Depois de estabelecida a informação, podem ser configurados parâmetros, com o sufixo `?` depois da URL. Os parâmetros são separados por `&`.\n",
    "\n",
    "Os códigos dos países são encontrados em: [https://apps.who.int/gho/athena/api/COUNTRY](https://apps.who.int/gho/athena/api/COUNTRY)."
   ]
  },
  {
   "cell_type": "markdown",
   "metadata": {},
   "source": [
    "## Importando dados em JSON no Python\n",
    "\n",
    "![JSON](json.png)"
   ]
  },
  {
   "cell_type": "code",
   "execution_count": null,
   "metadata": {},
   "outputs": [],
   "source": [
    "import io\n",
    "import requests\n",
    "import json\n",
    "url = \"https://apps.who.int/gho/athena/api/GHO/WHOSIS_000001?filter=COUNTRY:BRA&format=json\"\n",
    "js = requests.get(url).content\n",
    "print(js.decode(\"utf-8\"))"
   ]
  },
  {
   "cell_type": "markdown",
   "metadata": {},
   "source": [
    "### Mostrando o Copyright"
   ]
  },
  {
   "cell_type": "code",
   "execution_count": 1,
   "metadata": {},
   "outputs": [
    {
     "name": "stdout",
     "output_type": "stream",
     "text": [
      "(c) World Health Organization\n"
     ]
    }
   ],
   "source": [
    "import io\n",
    "import requests\n",
    "import json\n",
    "url = \"https://apps.who.int/gho/athena/api/GHO/WHOSIS_000001?filter=COUNTRY:BRA&format=json\"\n",
    "data = requests.get(url)\n",
    "js = data.json()\n",
    "print(js[\"copyright\"])"
   ]
  },
  {
   "cell_type": "markdown",
   "metadata": {},
   "source": [
    "## Importando dados em CSV no Python\n",
    "\n",
    "![CSV](csv.png)"
   ]
  },
  {
   "cell_type": "code",
   "execution_count": 1,
   "metadata": {},
   "outputs": [
    {
     "name": "stdout",
     "output_type": "stream",
     "text": [
      "              GHO PUBLISHSTATE  YEAR REGION COUNTRY   SEX  Display Value  \\\n",
      "0   WHOSIS_000001    PUBLISHED  2000    AMR     BRA   MLE           67.9   \n",
      "1   WHOSIS_000001    PUBLISHED  2010    AMR     BRA   MLE           70.6   \n",
      "2   WHOSIS_000001    PUBLISHED  2015    AMR     BRA   MLE           71.7   \n",
      "3   WHOSIS_000001    PUBLISHED  2019    AMR     BRA   MLE           72.4   \n",
      "4   WHOSIS_000001    PUBLISHED  2000    AMR     BRA  FMLE           75.2   \n",
      "5   WHOSIS_000001    PUBLISHED  2010    AMR     BRA  FMLE           77.7   \n",
      "6   WHOSIS_000001    PUBLISHED  2015    AMR     BRA  FMLE           78.6   \n",
      "7   WHOSIS_000001    PUBLISHED  2019    AMR     BRA  FMLE           79.4   \n",
      "8   WHOSIS_000001    PUBLISHED  2000    AMR     BRA  BTSX           71.5   \n",
      "9   WHOSIS_000001    PUBLISHED  2010    AMR     BRA  BTSX           74.1   \n",
      "10  WHOSIS_000001    PUBLISHED  2015    AMR     BRA  BTSX           75.1   \n",
      "11  WHOSIS_000001    PUBLISHED  2019    AMR     BRA  BTSX           75.9   \n",
      "\n",
      "     Numeric  Low  High  Comments  \n",
      "0   67.89800  NaN   NaN       NaN  \n",
      "1   70.57493  NaN   NaN       NaN  \n",
      "2   71.66687  NaN   NaN       NaN  \n",
      "3   72.44810  NaN   NaN       NaN  \n",
      "4   75.18223  NaN   NaN       NaN  \n",
      "5   77.68340  NaN   NaN       NaN  \n",
      "6   78.64028  NaN   NaN       NaN  \n",
      "7   79.38875  NaN   NaN       NaN  \n",
      "8   71.46612  NaN   NaN       NaN  \n",
      "9   74.09258  NaN   NaN       NaN  \n",
      "10  75.13264  NaN   NaN       NaN  \n",
      "11  75.90331  NaN   NaN       NaN  \n"
     ]
    }
   ],
   "source": [
    "import pandas as pd\n",
    "import io\n",
    "import requests\n",
    "url = \"https://apps.who.int/gho/athena/api/GHO/WHOSIS_000001?filter=COUNTRY:BRA&format=csv\"\n",
    "data = requests.get(url).content\n",
    "csv = pd.read_csv(io.StringIO(data.decode(\"utf-8\")))\n",
    "print(csv)"
   ]
  },
  {
   "cell_type": "markdown",
   "metadata": {},
   "source": [
    "# Mostrando o Copyright"
   ]
  },
  {
   "cell_type": "code",
   "execution_count": null,
   "metadata": {},
   "outputs": [],
   "source": []
  },
  {
   "cell_type": "markdown",
   "metadata": {},
   "source": [
    "# Importando dados em XML no Python\n",
    "\n",
    "![XML](xml.png)"
   ]
  },
  {
   "cell_type": "code",
   "execution_count": 11,
   "metadata": {},
   "outputs": [
    {
     "name": "stdout",
     "output_type": "stream",
     "text": [
      "<xml.etree.ElementTree.ElementTree object at 0x7ff5cb490b50>\n"
     ]
    }
   ],
   "source": [
    "import io\n",
    "import requests\n",
    "import xml.etree.ElementTree as et\n",
    "url = \"https://apps.who.int/gho/athena/api/GHO/WHOSIS_000001?filter=COUNTRY:BRA\"\n",
    "data = requests.get(url).content\n",
    "x = et.parse(io.StringIO(data.decode(\"utf-8\")))\n",
    "print(x)"
   ]
  }
 ],
 "metadata": {
  "kernelspec": {
   "display_name": "Python 3",
   "language": "python",
   "name": "python3"
  },
  "language_info": {
   "codemirror_mode": {
    "name": "ipython",
    "version": 3
   },
   "file_extension": ".py",
   "mimetype": "text/x-python",
   "name": "python",
   "nbconvert_exporter": "python",
   "pygments_lexer": "ipython3",
   "version": "3.8.10"
  }
 },
 "nbformat": 4,
 "nbformat_minor": 4
}
