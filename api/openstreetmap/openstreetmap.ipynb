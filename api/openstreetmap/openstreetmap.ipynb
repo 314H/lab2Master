{
 "cells": [
  {
   "cell_type": "code",
   "execution_count": 1,
   "metadata": {},
   "outputs": [
    {
     "name": "stdout",
     "output_type": "stream",
     "text": [
      "<?xml version=\"1.0\" encoding=\"UTF-8\"?>\n",
      "<osm generator=\"OpenStreetMap server\" copyright=\"OpenStreetMap and contributors\" attribution=\"http://www.openstreetmap.org/copyright\" license=\"http://opendatacommons.org/licenses/odbl/1-0/\">\n",
      "  <api>\n",
      "    <version>0.6</version>\n",
      "  </api>\n",
      "</osm>\n",
      "\n"
     ]
    }
   ],
   "source": [
    "import requests\n",
    "url = \"https://api.openstreetmap.org/api/versions\"\n",
    "data = requests.get(url).content\n",
    "print(data.decode(\"utf-8\"))"
   ]
  },
  {
   "cell_type": "code",
   "execution_count": 2,
   "metadata": {},
   "outputs": [
    {
     "name": "stdout",
     "output_type": "stream",
     "text": [
      "osm {'generator': 'OpenStreetMap server', 'copyright': 'OpenStreetMap and contributors', 'attribution': 'http://www.openstreetmap.org/copyright', 'license': 'http://opendatacommons.org/licenses/odbl/1-0/'}\n"
     ]
    }
   ],
   "source": [
    "import requests\n",
    "import io\n",
    "import xml.etree.ElementTree as ET\n",
    "url = \"https://api.openstreetmap.org/api/versions\"\n",
    "data = requests.get(url).content\n",
    "tree = ET.parse(io.StringIO(data.decode(\"utf-8\")))\n",
    "root = tree.getroot()\n",
    "print(root.tag, root.attrib)"
   ]
  },
  {
   "cell_type": "code",
   "execution_count": 3,
   "metadata": {},
   "outputs": [
    {
     "name": "stdout",
     "output_type": "stream",
     "text": [
      "api {}\n"
     ]
    }
   ],
   "source": [
    "for child in root:\n",
    "    print(child.tag, child.attrib)"
   ]
  },
  {
   "cell_type": "code",
   "execution_count": 6,
   "metadata": {},
   "outputs": [
    {
     "name": "stdout",
     "output_type": "stream",
     "text": [
      "<Element 'api' at 0x7f854caf3bf0>\n"
     ]
    }
   ],
   "source": [
    "for version in root.findall('api'):\n",
    "    print(version)"
   ]
  },
  {
   "cell_type": "code",
   "execution_count": null,
   "metadata": {},
   "outputs": [],
   "source": []
  }
 ],
 "metadata": {
  "kernelspec": {
   "display_name": "Python 3",
   "language": "python",
   "name": "python3"
  },
  "language_info": {
   "codemirror_mode": {
    "name": "ipython",
    "version": 3
   },
   "file_extension": ".py",
   "mimetype": "text/x-python",
   "name": "python",
   "nbconvert_exporter": "python",
   "pygments_lexer": "ipython3",
   "version": "3.8.10"
  }
 },
 "nbformat": 4,
 "nbformat_minor": 4
}
