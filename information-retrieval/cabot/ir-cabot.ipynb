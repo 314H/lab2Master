{
 "cells": [
  {
   "cell_type": "markdown",
   "metadata": {},
   "source": [
    "# Accessing Solr via [pysolr]()"
   ]
  },
  {
   "cell_type": "markdown",
   "metadata": {},
   "source": [
    "## Downloading, unziping and starting Solr in cluster mode"
   ]
  },
  {
   "cell_type": "code",
   "execution_count": null,
   "metadata": {},
   "outputs": [],
   "source": [
    "! wget  http://ftp.unicamp.br/pub/apache/lucene/solr/8.1.1/solr-8.1.1.zip -q\n",
    "! unzip -qq solr-8.1.1.zip && rm solr-8.1.1.zip\n",
    "! ./solr-8.1.1/bin/solr start -c"
   ]
  },
  {
   "cell_type": "markdown",
   "metadata": {},
   "source": [
    "## Creating a collection"
   ]
  },
  {
   "cell_type": "code",
   "execution_count": null,
   "metadata": {},
   "outputs": [],
   "source": [
    "! ./solr-8.1.1/bin/solr create -c cabot -p 8983"
   ]
  },
  {
   "cell_type": "markdown",
   "metadata": {},
   "source": [
    "## Connecting to the Solr server"
   ]
  },
  {
   "cell_type": "code",
   "execution_count": null,
   "metadata": {},
   "outputs": [],
   "source": [
    "import pysolr\n",
    "solr_server_url = 'http://localhost:8983/solr/'\n",
    "solr_collection = \"cabot\"\n",
    "solr = pysolr.Solr(solr_server_url + solr_collection)"
   ]
  },
  {
   "cell_type": "code",
   "execution_count": null,
   "metadata": {},
   "outputs": [],
   "source": [
    "import pandas as pd\n",
    "cabot_book = pd.read_csv(\"../../data/case-teaching-cabot/case-teaching-cabot.csv\")\n",
    "cabot_book"
   ]
  },
  {
   "cell_type": "code",
   "execution_count": null,
   "metadata": {},
   "outputs": [],
   "source": [
    "for index, row in cabot_book.iterrows():\n",
    "    print(index, row['case'])"
   ]
  },
  {
   "cell_type": "code",
   "execution_count": null,
   "metadata": {},
   "outputs": [],
   "source": [
    "for index, row in cabot_book.iterrows():\n",
    "    solr.add([{\n",
    "                \"id\": index+1,\n",
    "                \"case\": row['case']\n",
    "              }], commit=True)"
   ]
  },
  {
   "cell_type": "code",
   "execution_count": null,
   "metadata": {},
   "outputs": [],
   "source": [
    "result = solr.search('*:*')\n",
    "print(result.hits)\n",
    "print(result['case'])"
   ]
  },
  {
   "cell_type": "code",
   "execution_count": null,
   "metadata": {},
   "outputs": [],
   "source": [
    "results = solr.search('*:*')\n",
    "\n",
    "print(\"Found {0} documents\".format(len(results)))\n",
    "\n",
    "for result in results:\n",
    "    print(\"The document {0} has the following 'case': {1}\".format(result['id'], result['case']))"
   ]
  }
 ],
 "metadata": {
  "kernelspec": {
   "display_name": "Python 3",
   "language": "python",
   "name": "python3"
  },
  "language_info": {
   "codemirror_mode": {
    "name": "ipython",
    "version": 3
   },
   "file_extension": ".py",
   "mimetype": "text/x-python",
   "name": "python",
   "nbconvert_exporter": "python",
   "pygments_lexer": "ipython3",
   "version": "3.7.3"
  }
 },
 "nbformat": 4,
 "nbformat_minor": 2
}
