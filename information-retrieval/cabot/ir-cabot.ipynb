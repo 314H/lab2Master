{
 "cells": [
  {
   "cell_type": "markdown",
   "metadata": {},
   "source": [
    "# IR in the Richard Cabot book\n",
    "\n",
    "Case teaching in medicine; by Cabot, Richard C. (Richard Clarke), 1868-1939.\n",
    "\n",
    "Accessing Solr via [pysolr]()"
   ]
  },
  {
   "cell_type": "markdown",
   "metadata": {},
   "source": [
    "## Downloading, unziping and starting Solr in cluster mode"
   ]
  },
  {
   "cell_type": "code",
   "execution_count": 1,
   "metadata": {},
   "outputs": [
    {
     "name": "stdout",
     "output_type": "stream",
     "text": [
      "\r\n",
      "Port 8983 is already being used by another process (pid: 98)\r\n",
      "Please choose a different port using the -p option.\r\n",
      "\r\n"
     ]
    }
   ],
   "source": [
    "! wget  http://ftp.unicamp.br/pub/apache/lucene/solr/8.1.1/solr-8.1.1.zip -q\n",
    "! unzip -qq solr-8.1.1.zip && rm solr-8.1.1.zip\n",
    "! ./solr-8.1.1/bin/solr start -c"
   ]
  },
  {
   "cell_type": "markdown",
   "metadata": {},
   "source": [
    "## Creating a collection"
   ]
  },
  {
   "cell_type": "code",
   "execution_count": 2,
   "metadata": {},
   "outputs": [
    {
     "name": "stdout",
     "output_type": "stream",
     "text": [
      "WARNING: Using _default configset with data driven schema functionality. NOT RECOMMENDED for production use.\n",
      "         To turn off: bin/solr config -c cabot -p 8983 -action set-user-property -property update.autoCreateFields -value false\n",
      "Created collection 'cabot' with 1 shard(s), 1 replica(s) with config-set 'cabot'\n"
     ]
    }
   ],
   "source": [
    "! ./solr-8.1.1/bin/solr create -c cabot -p 8983"
   ]
  },
  {
   "cell_type": "markdown",
   "metadata": {},
   "source": [
    "## Connecting to the Solr server"
   ]
  },
  {
   "cell_type": "code",
   "execution_count": 3,
   "metadata": {},
   "outputs": [],
   "source": [
    "import pysolr\n",
    "solr_server_url = 'http://localhost:8983/solr/'\n",
    "solr_collection = \"cabot\"\n",
    "solr = pysolr.Solr(solr_server_url + solr_collection)"
   ]
  },
  {
   "cell_type": "markdown",
   "metadata": {},
   "source": [
    "## Loading the CSV via Pandas"
   ]
  },
  {
   "cell_type": "code",
   "execution_count": 4,
   "metadata": {},
   "outputs": [
    {
     "data": {
      "text/html": [
       "<div>\n",
       "<style scoped>\n",
       "    .dataframe tbody tr th:only-of-type {\n",
       "        vertical-align: middle;\n",
       "    }\n",
       "\n",
       "    .dataframe tbody tr th {\n",
       "        vertical-align: top;\n",
       "    }\n",
       "\n",
       "    .dataframe thead th {\n",
       "        text-align: right;\n",
       "    }\n",
       "</style>\n",
       "<table border=\"1\" class=\"dataframe\">\n",
       "  <thead>\n",
       "    <tr style=\"text-align: right;\">\n",
       "      <th></th>\n",
       "      <th>case</th>\n",
       "    </tr>\n",
       "  </thead>\n",
       "  <tbody>\n",
       "    <tr>\n",
       "      <th>0</th>\n",
       "      <td>CASE 1\\n\\nA liquor dealer, 47 years old, is se...</td>\n",
       "    </tr>\n",
       "    <tr>\n",
       "      <th>1</th>\n",
       "      <td>CASE 2\\n\\nA fireman of 26 w&amp;s exercising engin...</td>\n",
       "    </tr>\n",
       "    <tr>\n",
       "      <th>2</th>\n",
       "      <td>CASE 3\\n\\nA medical s,tudent of 25 has been tr...</td>\n",
       "    </tr>\n",
       "    <tr>\n",
       "      <th>3</th>\n",
       "      <td>CASE 4 \\n\\nA married woman, 43 years old, is s...</td>\n",
       "    </tr>\n",
       "    <tr>\n",
       "      <th>4</th>\n",
       "      <td>CASE 5 \\n\\nA vigorous man of 62 comee of a gou...</td>\n",
       "    </tr>\n",
       "    <tr>\n",
       "      <th>5</th>\n",
       "      <td>CASE 6 \\n\\nA child, 7 years of age, of healthy...</td>\n",
       "    </tr>\n",
       "    <tr>\n",
       "      <th>6</th>\n",
       "      <td>CASE 7 \\n\\nA married woman of 50, has had thre...</td>\n",
       "    </tr>\n",
       "    <tr>\n",
       "      <th>7</th>\n",
       "      <td>CASE 8 \\n\\nA coachman, 42 years old, of good f...</td>\n",
       "    </tr>\n",
       "    <tr>\n",
       "      <th>8</th>\n",
       "      <td>CASE 9 \\n\\nJ. B., male, aged 32 (occupation, c...</td>\n",
       "    </tr>\n",
       "    <tr>\n",
       "      <th>9</th>\n",
       "      <td>CASE 10 \\n\\nThe patient is a contractor of 50....</td>\n",
       "    </tr>\n",
       "    <tr>\n",
       "      <th>10</th>\n",
       "      <td>CASE 11 \\n\\nA female domestic, 29 years old, s...</td>\n",
       "    </tr>\n",
       "    <tr>\n",
       "      <th>11</th>\n",
       "      <td>CASE 12 \\n\\nA Bchool-teacher, single, 24 years...</td>\n",
       "    </tr>\n",
       "    <tr>\n",
       "      <th>12</th>\n",
       "      <td>CASE 13 \\n\\nA factory overseer of 63 had long ...</td>\n",
       "    </tr>\n",
       "    <tr>\n",
       "      <th>13</th>\n",
       "      <td>CASE 14 \\n\\nJ. S-i aged 40 years, a merchant, ...</td>\n",
       "    </tr>\n",
       "    <tr>\n",
       "      <th>14</th>\n",
       "      <td>CASE 15\\n\\nA paper hanger, 45 years old, is se...</td>\n",
       "    </tr>\n",
       "    <tr>\n",
       "      <th>15</th>\n",
       "      <td>CASE 16 \\n\\nA clergyman, 60 yeara o)d, gave th...</td>\n",
       "    </tr>\n",
       "    <tr>\n",
       "      <th>16</th>\n",
       "      <td>CASE 17 \\n\\nA manufacturer, of 64, of good inh...</td>\n",
       "    </tr>\n",
       "    <tr>\n",
       "      <th>17</th>\n",
       "      <td>CASE 18 \\n\\nMrs, J., 65, an active, spare, ene...</td>\n",
       "    </tr>\n",
       "    <tr>\n",
       "      <th>18</th>\n",
       "      <td>CASE 19 \\n\\nA middle-aged man was Been writhin...</td>\n",
       "    </tr>\n",
       "    <tr>\n",
       "      <th>19</th>\n",
       "      <td>CASE 20 \\n\\nA married womac, aged 27, is seen ...</td>\n",
       "    </tr>\n",
       "    <tr>\n",
       "      <th>20</th>\n",
       "      <td>CASE 21 \\n\\nA painter, 23 years old. Family hi...</td>\n",
       "    </tr>\n",
       "    <tr>\n",
       "      <th>21</th>\n",
       "      <td>CASE 22 \\n\\nA lawyer, aged 68, has always wori...</td>\n",
       "    </tr>\n",
       "    <tr>\n",
       "      <th>22</th>\n",
       "      <td>CASE 23 \\n\\nMan, 50 years old, a hard drinker,...</td>\n",
       "    </tr>\n",
       "    <tr>\n",
       "      <th>23</th>\n",
       "      <td>CASE 24\\n\\nA tall boy of 19 is brought to the ...</td>\n",
       "    </tr>\n",
       "    <tr>\n",
       "      <th>24</th>\n",
       "      <td>CASE 25 \\n\\nA lawyer of 47, of good family his...</td>\n",
       "    </tr>\n",
       "    <tr>\n",
       "      <th>25</th>\n",
       "      <td>CASE 26 \\n\\nA boy, 14 years old, of gouty fami...</td>\n",
       "    </tr>\n",
       "    <tr>\n",
       "      <th>26</th>\n",
       "      <td>CASE 27 \\n\\nYoung salesman, always well till p...</td>\n",
       "    </tr>\n",
       "    <tr>\n",
       "      <th>27</th>\n",
       "      <td>CASE 28 \\n\\nA broker of 26, moderately alcohol...</td>\n",
       "    </tr>\n",
       "    <tr>\n",
       "      <th>28</th>\n",
       "      <td>CASE 29 \\n\\nPatient a man 55 years old; rather...</td>\n",
       "    </tr>\n",
       "    <tr>\n",
       "      <th>29</th>\n",
       "      <td>CASE 30 \\n\\nA. R,, aged 50, waa seen June 3, H...</td>\n",
       "    </tr>\n",
       "    <tr>\n",
       "      <th>...</th>\n",
       "      <td>...</td>\n",
       "    </tr>\n",
       "    <tr>\n",
       "      <th>48</th>\n",
       "      <td>CASE 49 \\n\\nA shoemaker of 24, who haa previou...</td>\n",
       "    </tr>\n",
       "    <tr>\n",
       "      <th>49</th>\n",
       "      <td>CASE 50 \\n\\nA married lady, childless, 55 year...</td>\n",
       "    </tr>\n",
       "    <tr>\n",
       "      <th>50</th>\n",
       "      <td>CASE 51 \\n\\nA bank president, 74 years old, of...</td>\n",
       "    </tr>\n",
       "    <tr>\n",
       "      <th>51</th>\n",
       "      <td>CASE 52 \\n\\nA well-developed and fairly well-n...</td>\n",
       "    </tr>\n",
       "    <tr>\n",
       "      <th>52</th>\n",
       "      <td>CASE 53 \\n\\nSingle Iftdy, 57 years old, always...</td>\n",
       "    </tr>\n",
       "    <tr>\n",
       "      <th>53</th>\n",
       "      <td>CASE 54 \\n\\nA sailor, 39 years old, is seen on...</td>\n",
       "    </tr>\n",
       "    <tr>\n",
       "      <th>54</th>\n",
       "      <td>CASE 55 \\n\\nA woman of 41, with good family hi...</td>\n",
       "    </tr>\n",
       "    <tr>\n",
       "      <th>55</th>\n",
       "      <td>CASE 56 \\n\\nA clerk, married, twenty-four, i9 ...</td>\n",
       "    </tr>\n",
       "    <tr>\n",
       "      <th>56</th>\n",
       "      <td>CASE 57 \\n\\nAn electrician, 31 years old, of g...</td>\n",
       "    </tr>\n",
       "    <tr>\n",
       "      <th>57</th>\n",
       "      <td>CASE 58 \\n\\nA plumber of 40, of good family an...</td>\n",
       "    </tr>\n",
       "    <tr>\n",
       "      <th>58</th>\n",
       "      <td>CASE 59 \\n\\nA business man, 58, with good fami...</td>\n",
       "    </tr>\n",
       "    <tr>\n",
       "      <th>59</th>\n",
       "      <td>CASE 60 \\n\\nP. J, G., 20 years old, a piano va...</td>\n",
       "    </tr>\n",
       "    <tr>\n",
       "      <th>60</th>\n",
       "      <td>CASE 61 \\n\\nFebruary 16 a lady of 30, married ...</td>\n",
       "    </tr>\n",
       "    <tr>\n",
       "      <th>61</th>\n",
       "      <td>CASE 62 \\n\\nA cigarmaker, 51 years of age, is ...</td>\n",
       "    </tr>\n",
       "    <tr>\n",
       "      <th>62</th>\n",
       "      <td>CASE 63 \\n\\nA physician, 51 yeais old, is seen...</td>\n",
       "    </tr>\n",
       "    <tr>\n",
       "      <th>63</th>\n",
       "      <td>CASE 64 \\n\\nA Degress of 67 has had \"falling o...</td>\n",
       "    </tr>\n",
       "    <tr>\n",
       "      <th>64</th>\n",
       "      <td>CASE 65 \\n\\nA laborer of 29 was seen March 5. ...</td>\n",
       "    </tr>\n",
       "    <tr>\n",
       "      <th>65</th>\n",
       "      <td>CASE 66 \\n\\nA prominent manufacturer, 62, of g...</td>\n",
       "    </tr>\n",
       "    <tr>\n",
       "      <th>66</th>\n",
       "      <td>CASE 67 \\n\\nA gentlenmD of 82 is seen April 17...</td>\n",
       "    </tr>\n",
       "    <tr>\n",
       "      <th>67</th>\n",
       "      <td>CASE 68 \\n\\nA young married woman of 21 had an...</td>\n",
       "    </tr>\n",
       "    <tr>\n",
       "      <th>68</th>\n",
       "      <td>CASE 69 \\n\\nMan, 66 years old, has had for fif...</td>\n",
       "    </tr>\n",
       "    <tr>\n",
       "      <th>69</th>\n",
       "      <td>CASE 70 \\n\\nA girl of 19 is seen May 26. Her m...</td>\n",
       "    </tr>\n",
       "    <tr>\n",
       "      <th>70</th>\n",
       "      <td>CASE 71 \\n\\nA coachman of 45, of a very neurot...</td>\n",
       "    </tr>\n",
       "    <tr>\n",
       "      <th>71</th>\n",
       "      <td>CASE 72 \\n\\nA single man, 37, in business, six...</td>\n",
       "    </tr>\n",
       "    <tr>\n",
       "      <th>72</th>\n",
       "      <td>CASE 73 \\n\\nJuly 20, 1905, a girl of 16, previ...</td>\n",
       "    </tr>\n",
       "    <tr>\n",
       "      <th>73</th>\n",
       "      <td>CASE 74 \\n\\nA lithuanian teamster, 48, entered...</td>\n",
       "    </tr>\n",
       "    <tr>\n",
       "      <th>74</th>\n",
       "      <td>CASE 75 \\n\\nMrs. M., 51, is seen August 9, 190...</td>\n",
       "    </tr>\n",
       "    <tr>\n",
       "      <th>75</th>\n",
       "      <td>CASE 76 \\n\\nMr. v., a theatre usher of 47, unm...</td>\n",
       "    </tr>\n",
       "    <tr>\n",
       "      <th>76</th>\n",
       "      <td>CASE 77 \\n\\nCalled to see a young girl of 21, ...</td>\n",
       "    </tr>\n",
       "    <tr>\n",
       "      <th>77</th>\n",
       "      <td>CASE 78 \\n\\nFireman, 57 years old, had scarlet...</td>\n",
       "    </tr>\n",
       "  </tbody>\n",
       "</table>\n",
       "<p>78 rows × 1 columns</p>\n",
       "</div>"
      ],
      "text/plain": [
       "                                                 case\n",
       "0   CASE 1\\n\\nA liquor dealer, 47 years old, is se...\n",
       "1   CASE 2\\n\\nA fireman of 26 w&s exercising engin...\n",
       "2   CASE 3\\n\\nA medical s,tudent of 25 has been tr...\n",
       "3   CASE 4 \\n\\nA married woman, 43 years old, is s...\n",
       "4   CASE 5 \\n\\nA vigorous man of 62 comee of a gou...\n",
       "5   CASE 6 \\n\\nA child, 7 years of age, of healthy...\n",
       "6   CASE 7 \\n\\nA married woman of 50, has had thre...\n",
       "7   CASE 8 \\n\\nA coachman, 42 years old, of good f...\n",
       "8   CASE 9 \\n\\nJ. B., male, aged 32 (occupation, c...\n",
       "9   CASE 10 \\n\\nThe patient is a contractor of 50....\n",
       "10  CASE 11 \\n\\nA female domestic, 29 years old, s...\n",
       "11  CASE 12 \\n\\nA Bchool-teacher, single, 24 years...\n",
       "12  CASE 13 \\n\\nA factory overseer of 63 had long ...\n",
       "13  CASE 14 \\n\\nJ. S-i aged 40 years, a merchant, ...\n",
       "14  CASE 15\\n\\nA paper hanger, 45 years old, is se...\n",
       "15  CASE 16 \\n\\nA clergyman, 60 yeara o)d, gave th...\n",
       "16  CASE 17 \\n\\nA manufacturer, of 64, of good inh...\n",
       "17  CASE 18 \\n\\nMrs, J., 65, an active, spare, ene...\n",
       "18  CASE 19 \\n\\nA middle-aged man was Been writhin...\n",
       "19  CASE 20 \\n\\nA married womac, aged 27, is seen ...\n",
       "20  CASE 21 \\n\\nA painter, 23 years old. Family hi...\n",
       "21  CASE 22 \\n\\nA lawyer, aged 68, has always wori...\n",
       "22  CASE 23 \\n\\nMan, 50 years old, a hard drinker,...\n",
       "23  CASE 24\\n\\nA tall boy of 19 is brought to the ...\n",
       "24  CASE 25 \\n\\nA lawyer of 47, of good family his...\n",
       "25  CASE 26 \\n\\nA boy, 14 years old, of gouty fami...\n",
       "26  CASE 27 \\n\\nYoung salesman, always well till p...\n",
       "27  CASE 28 \\n\\nA broker of 26, moderately alcohol...\n",
       "28  CASE 29 \\n\\nPatient a man 55 years old; rather...\n",
       "29  CASE 30 \\n\\nA. R,, aged 50, waa seen June 3, H...\n",
       "..                                                ...\n",
       "48  CASE 49 \\n\\nA shoemaker of 24, who haa previou...\n",
       "49  CASE 50 \\n\\nA married lady, childless, 55 year...\n",
       "50  CASE 51 \\n\\nA bank president, 74 years old, of...\n",
       "51  CASE 52 \\n\\nA well-developed and fairly well-n...\n",
       "52  CASE 53 \\n\\nSingle Iftdy, 57 years old, always...\n",
       "53  CASE 54 \\n\\nA sailor, 39 years old, is seen on...\n",
       "54  CASE 55 \\n\\nA woman of 41, with good family hi...\n",
       "55  CASE 56 \\n\\nA clerk, married, twenty-four, i9 ...\n",
       "56  CASE 57 \\n\\nAn electrician, 31 years old, of g...\n",
       "57  CASE 58 \\n\\nA plumber of 40, of good family an...\n",
       "58  CASE 59 \\n\\nA business man, 58, with good fami...\n",
       "59  CASE 60 \\n\\nP. J, G., 20 years old, a piano va...\n",
       "60  CASE 61 \\n\\nFebruary 16 a lady of 30, married ...\n",
       "61  CASE 62 \\n\\nA cigarmaker, 51 years of age, is ...\n",
       "62  CASE 63 \\n\\nA physician, 51 yeais old, is seen...\n",
       "63  CASE 64 \\n\\nA Degress of 67 has had \"falling o...\n",
       "64  CASE 65 \\n\\nA laborer of 29 was seen March 5. ...\n",
       "65  CASE 66 \\n\\nA prominent manufacturer, 62, of g...\n",
       "66  CASE 67 \\n\\nA gentlenmD of 82 is seen April 17...\n",
       "67  CASE 68 \\n\\nA young married woman of 21 had an...\n",
       "68  CASE 69 \\n\\nMan, 66 years old, has had for fif...\n",
       "69  CASE 70 \\n\\nA girl of 19 is seen May 26. Her m...\n",
       "70  CASE 71 \\n\\nA coachman of 45, of a very neurot...\n",
       "71  CASE 72 \\n\\nA single man, 37, in business, six...\n",
       "72  CASE 73 \\n\\nJuly 20, 1905, a girl of 16, previ...\n",
       "73  CASE 74 \\n\\nA lithuanian teamster, 48, entered...\n",
       "74  CASE 75 \\n\\nMrs. M., 51, is seen August 9, 190...\n",
       "75  CASE 76 \\n\\nMr. v., a theatre usher of 47, unm...\n",
       "76  CASE 77 \\n\\nCalled to see a young girl of 21, ...\n",
       "77  CASE 78 \\n\\nFireman, 57 years old, had scarlet...\n",
       "\n",
       "[78 rows x 1 columns]"
      ]
     },
     "execution_count": 4,
     "metadata": {},
     "output_type": "execute_result"
    }
   ],
   "source": [
    "import pandas as pd\n",
    "cabot_book = pd.read_csv(\"../../data/case-teaching-cabot/case-teaching-cabot.csv\")\n",
    "cabot_book"
   ]
  },
  {
   "cell_type": "markdown",
   "metadata": {},
   "source": [
    "## Transferring CSV to Solr"
   ]
  },
  {
   "cell_type": "code",
   "execution_count": 5,
   "metadata": {},
   "outputs": [],
   "source": [
    "for index, row in cabot_book.iterrows():\n",
    "    solr.add([{\n",
    "                \"id\": index+1,\n",
    "                \"case\": row['case']\n",
    "              }], commit=True)"
   ]
  },
  {
   "cell_type": "markdown",
   "metadata": {},
   "source": [
    "# Querying in Solr\n",
    "\n",
    "The queries below follow the syntax described in: [Lucene Query Syntax](http://www.solrtutorial.com/solr-query-syntax.html).\n",
    "\n",
    "## Searching CASE 53"
   ]
  },
  {
   "cell_type": "code",
   "execution_count": 6,
   "metadata": {},
   "outputs": [
    {
     "name": "stdout",
     "output_type": "stream",
     "text": [
      "Found 1 documents\n",
      "[\"CASE 53 \\n\\nSingle Iftdy, 57 years old, always more or less of a nervoua invalid, \\nconsults a physician for palpitation and dyspncea on exertion. The \\nmenopause occurred five years ago, and since then she has been getting \\nvery stout and disinclined to exertion. She is thirsty and her skin is \\ndry and perspires very little. Of late, the feet have been swelling and \\nher face seems puffy all the time, not especially under the eyes. She \\nis troubled a great deal with headaches, worse, at night, and her hair has \\nbeen coming out of late. No sore throat, but the shin bones are tender \\nand the tissues over them pit slightly on pressure. The bowels are very \\ncostive, appetite capricious, sleep disturbed by headache. Her mem- \\nory is very poor and she takes little interest in anything. \\n\\nPhysical Examination: Heart's area cannot be marked out on ac- \\ncount of the great thickness of the fat layer. The apex is not seen \\nor felt; best heard in sixth space, one inch outside nipple. Sounds \\nheard feebly, action irregular. Pulmonic second sound accentuated; \\nno murmur. Lungs and abdomen negative. Temperature 97.8°, \\npulse 100. Urine 1018, acid, large trace of albumen, ho sugar. Amount \\ntwo quarts. Sediment: hyaline, granular casts, small diameter, some \\nwith cells adherent. Blood: Red 6,000,000; white 12,000. CEdema of \\nankles. Hands and feet cold. \\n\\n1. Cause of feeble heart sounds in this case? The thick fat I&yer. \\n\\n2. What are the common causes of teademess over the shins? (Edema, periostjtia. \\n\\n3. Why is the number of red cells bo large? This number is oftea found in periect \\n\\nhealth. Here it ia probably due to weak circulation and peripheral stasis. \\n\\n4. What causes of headache are common at 577 Arierio-BclepOBia, urtemia. \\n\\nfi. What further teats ate important for diagnosis? Measuteraent of the day and \\nthe night urine. The effects of thyroid extract. \\n\\n6. Diagnosis? Prognosis? Treatment? \\n\\nDiagnosis: (a) Obesity and its results, (6) arterio-eclerosb with involution \\npsychosis, and (c) myxtedema, should be considered. Neither of the first two \\noft«n produces dry skin or loss of hair. In favor of myxtedenia are the age \\nand sex, the cutaneous, facial, and mental changes, and the sub-normal tem- \\nperature.' The administration of thyroid extract was followed by a rapid and \\npermanent amelioration of all the symptoms (including those referable to the \\nheart and kidney), and the diagnosis of myxoedema was thus confirmed. \\nPrognosis: In most cases the symptoms can be permanently checked by the \\ncontinued use of thyroid extract; occasionally it is difficult rightly to gauge \\nthe dose, and a few patients do not at first bear the drug well. \\nTreatment: The thyroid preparations furnished by any of the leading pharma- \\nceutical firms are usually satisfactory. Beginning with two grains twice \\na day, the dose should be gradually increased until fifteen grains a day are \\ntaken. If at any time the pulse rises more than ten beats above its normal \\nlevel, the drug should be stopped until the rate becomes normal again. If \\nthis precaution is observed no serious symptoms of thyroidiam will occur. \\nIn the earlier stages of treatment, loss of weight is rapid and laudable. \"] \n",
      "\n"
     ]
    }
   ],
   "source": [
    "results = solr.search('case:\"CASE 53\"')\n",
    "\n",
    "print(\"Found {0} documents\".format(len(results)))\n",
    "\n",
    "for result in results:\n",
    "    print(result['case'], \"\\n\")"
   ]
  },
  {
   "cell_type": "markdown",
   "metadata": {},
   "source": [
    "## Documents about `arterio sclerosis`"
   ]
  },
  {
   "cell_type": "code",
   "execution_count": 7,
   "metadata": {},
   "outputs": [
    {
     "name": "stdout",
     "output_type": "stream",
     "text": [
      "Found 4 documents\n",
      "['CASE 29 \\n\\nPatient a man 55 years old; rather fat; subject to frequent attacks \\nof winter cough, with aathmatic tendency. For seven years the heart \\nhad been noticeably weak and irregular. Puke SO; first sound valvu- \\nlar. Apex beat art inch and a half directly below left nipple; no \\nmurmurs. No previous rheumatism. Several years ago there was \\nsudden and complete loss of memory, the same questions being re- \\npeated as soon as answered. The expression was at the time rather \\nvacant; the pupils were equal and responded to light; there was no \\nmotor paralysis. The amnesia lasted all day, disappearing the follow- \\ning morning. The pulse remained 50 for two days. The patient had \\nbeen previously very anffimic, and had had much fatigue and anxiety, \\nwith digestive disturbance. The urine always remained normal. In \\nthe following years there were occasional attacks of transient numbness \\nin the left arm and leg, and sometimes faint turns with pallor and \\nirregular, feeble pusle. Headache was a frequent symptom; dyspncea \\non exertion, impaired appetite, and insomnia were constant. There \\nwas no apparent loss of flesh. In 1897 life was endangered for two \\nweeks by cedema of both lungs, supervening on an attack of bronchitis. \\nIn the subsequent years the condition improved somewhat, so that the \\npatient could walk half a mile or more and was able to attend to con- \\nsiderable business. In autumn of 1904, be had several attacks of bron- \\nchitis, and, finally, an attack of complete hemiplegia resulted fatally \\nin twenty-four hours without recovery of consciousness. Respiration \\nwas of the Cheyne-Stokes type, and later stertorous. \\n\\n1. Significajice of etertoroiu reepiratioD? Any deep coma (even deep, healthy \\n\\nsleep) may produce it. \\n\\n2. What is meant by an aathmatic tendency — t\\'.e., on what physical signs should \\n\\nsuch a diagnosis be based? Squeaking and groaning rales present on slight \\nexertion or excitement, with or without typical asthmatic paroxysms at long \\nintervaJs. \\n\\n3. What are the relations ot bronchitis and other pulmonary lesions to disease of the \\n\\nheart? (a) Chronic bronchitis may lead to emphysema, and this to hyper- \\ntrophy, dilatation and weakening of the right ventricle with tricuspid leakage. \\n(j>} Mitral disease may favor the occurrence of bronchitis and pneumonia of \\nvarious types. Intracardiac thrombosis, occurring in weakened conditions \\nof the heart from valvular or myocardial disease, may result in pulmonary \\nembolism. Septic or bland emboli are occasionally washed into the lungs \\nfrom vegetations on the tricuspid valve. The rare lesions of the puhnonary \\nvalves involve malnutrition of the lungs and (in one case known to me) fre- \\nquent attacks of pneumonia. Phthisis and endocarditis rarely coexist. \\n\\n4. Diagnosis and Treatment? \\n\\nDiagnosis: The brain and heart seem to be the organs chiefly affected. In a man \\nof 65, weak, irregular heart and pulse, with dyspncea on exertion, but \\nwithout murmuis, are usually expUiued as reeulta of coronair sclerosia and \\nmjrocarditis. The \"aathmatic tendency,\" obetructii^ the puhnaiiBii7 circu- \\nlation and so increasing the work of the right ventricle, probably contribut«d \\nto weaken the heart. The acme of cardiac weakness (Miused the pulmonary \\noedema in 1897. The amneaia with bradycardia, the hemipartestheuie and faint \\nturns, and the tenninal coma of hemipl^pa, are results of cerebral arterio- \\nsclerosis with final hemorrhage. No other diagnosis is plausible, provided \\nthe urine remained normal and provided syphilis can tie excluded. \\nTreatment: The advance of arterio-sclerosis can perhaps be checked if life is \\nlived at a slower pace, avoiding strains of all kinds and following strictly the \\nlaws of hygiene. Small doses of KI and of nitroglycerine are pven by most \\ngood piuctititners for long periods.'] \n",
      "\n",
      "['CASE 66 \\n\\nA prominent manufacturer, 62, of good habits and family history. \\nNever previously sick. Has been much confined for a year and weight \\nhas increased from 164 to 174 lbs. Was seen February 15. \\n\\nShortly before Christmas he noticed shortness of breath on walking. \\nHis urine at that time was pronounced negative. The dyspnoea on \\nexertion got no better and substernal pain extending over the arms was \\nsoon superadded. This pain was not veiy severe, and came on only \\nduring exertion. About two weeks ago, after a hearty, rapid, and \\nrather indigestible mid-day dinner, he was taken at his mill, without \\nantecedent exertion, with a very severe attack of pain as above de- \\nscribed. When his physician reached him he was in a cold sweat and \\nseemed alarmingly ill. Pulse 80, regular. After two hours he was \\ndriven home four miles, arriving with pulse at 80 and temperature at \\n97.5°, The next day the pulse was 100, temperature 100°, rising to 120 \\nand 102° the next day. There was bloody expectoration, with signs \\nof consolidation at the right posterior base. For the past week the pulse \\nand temperature have been normal. When seen February 15 he stated \\nthat he felt perfectly well. He looked rather pale, lay in bed with his \\nhead low, breathing easily, not cyanotic. The pulse 80, intermitted \\noccasionally. The artery was soft, tension not high. No cedema. The \\nheart was not enlarged; sounds clear. A few rales without dulness \\nover the left posterior base. Percussion was dull with resistance an \\ninch below the right costal border, but the liver edge could not be felt. \\nThe urine, 52 to 54 oz. per diem, contained a decided trace of albumen \\nand a few hyaline casts, sp. gr. 1020, urea 2%. \\n\\n1. What diseases increase weight? Obesity, cardiac and renal disease, myxoedema. \\n\\n2. Causes of bloody expectoration? PhthisiB, pneumonia, infarction of the lung \\n\\ndue to congestion (as in mitral disease or from embolism), pulmonary abscess \\nor gangrene, wounds or malignant disease of the lung, ruptured esophageal \\nvarices (in cirrhotic liver), leaking aneurism, \\n\\n3. IMagnosis? Prognoais? Treatment? \\n\\nDiagnosis: In a man of 62 dyspncea and substernal pain produced by exertion, \\nextending to the arms and relieved by stopping, are-symptoms almost patho^ \\nnomic of coronary sclerosis with angina pectoris. The pain of aneurism is \\nsomewhat similar, but has not the close dependence on exertion. The severe \\nattack two weeks ago seems to have ended in pulmonary congestion and \\nhypostatic pneumonia. The examination of February 15 adds only the \\nevidence of an arterio-sclerotic kidney. It is surprising that arterial tension \\nappears low. Was the aortic second accentuated? \\n\\nPrognosis: With great care such cases may live many yeara, but any exertion \\nor excitement may prove fatal and the advance of the arterio-sclerosis lesions \\nin heart, brain, or kidney may kill at any time. \\n\\nTreatment: Avoid mental and physical strain. Use nitroglycerine in attacks \\nand KI st«adily. '] \n",
      "\n",
      "[\"CASE 78 \\n\\nFireman, 57 years old, had scarlet fever at 9 years, apparently \\nwithout ill results. Otherwise he has been always well till six months \\nago, when on a vacation he ate some canned oysters in the form of a \\nstew. One half hour afterwards breath was suddenly shut off. No \\npain, vomiting, or other symptoms. Troubled with respiration ever \\nsince when in midst of fire smoke. Lost 30 lbs, in three months. Four \\nweeks ago, when turning in bed, noticed a swelling in the left loin which \\nseemed to move with change of position. No pain or tenderness and \\nno change in urine. \\n\\nExamination: On left side two tumors are felt below the ribs; one \\nabove and in front feels like a spleen. The other is more rounded and \\ndeeper. Both move with respiration. The lower tumor is somewhat \\ntender and apparently elastic. Belly otherwise negative. Lungs nega- \\ntive. Heart not remarkable except for a loud ringing aortic second \\nsound. Brachials tortuous and move laterally. Urine 1018, 40 oz. in \\ntwenty-four hours. Slight trace of albumen. Few hyaline and fine \\ngranular casts, some with cells or fat on them. Blood normal, no fever. \\n\\n1. What are the common causes for the appearance of sli^t dyepncea in a man of \\n\\n57? Arterio-BcleroBis and its remilte, emphfBema, obeaitir. \\n\\n2. What was the action of the canned oyetersT Possibly dyspeptic flatulence, \\n\\nembarrassed cardiac action by direct pressure throu^ the diaphragm. Prob- \\nably, however, the aasociation was accidental. \\n\\n3. (a) What abdominal tumors move most freely with respiration? (6) What least \\n\\nfreely? (a) Those connected with the liver, stomach, and spleen; (b) those \\nconnected with the kidney and pancreas, \\n\\n4. Enumerate some of the conditions in which such a urine is often seen? In \\n\\npssMve congestion, fevera and after exertion, when'there is bile or sugar in \\nthe urine, in arterio-sclenMis and chronic interstitial nephritis, \\nfi. What imporlAnt and simple methods of examination have been omitted? In- \\nflation of the colon, palpation in a warm bath. \\n\\n6. What questions ^ould be asked with reference to the loss of weight? Have \\n\\nt^tpetite and sleep been as good as usualT \\n\\n7. Diagnosis? Prognosis? Treatment? \\n\\nDiagno»s: An abdominal tumor, painless, slow growing, and producing little \\nor no disturbance of any function, is the chief feature of the case. The tumor \\noccupies more nearly the position of the left kidney than of any other organ. \\nIt is rounded and elastic. Renal abscess, cyst, or hjrdronepbroHis suggest \\nthemselves. The absence of fever, pyuria, leucocytosis, and pain are against \\nabscess, and the absence of any pain or disturbance of micturition make hy- \\ndronephrosis unlikely. The inflated colon traverses the tumor. At opera- \\ntion a congenital cystic kidney weighing S70 grams was found and removed. \\nThe djrspnixa, however, continued, and a year latflr autopsy showed general \\narterio-sclerosis with cardiac hypertrophy and dilatation, general passive \\ncongestion and terminal streptococcus sepsis. \\n\\nPrognosis and Treatment are sufficiently suggested in what has been said.\"] \n",
      "\n",
      "['CASE 59 \\n\\nA business man, 58, with good family history and habita, had, about \\ntwenty-five years ago, a severe rheumatic fever, disabhng him for several \\nmonths. Ever since then his pulse has been more or less irregular; but \\nhe has suffered no inconvenience until about two years ago when he \\nnoticed that walking up hill caused dyspncea. Since then he has lost \\nupwards of fifty pounds in weight. For the past three months he has \\ndriven to his business for an hour a day only, and been kept awake by \\ndyspncea and pain in the right side of the abdomen. Appetite has been \\npoor and digestion impaired. \\n\\nPulse irregular, intermittent, rapd, not corresponding with the \\nheart-beat. Respiration easy when quiet, temperature 98.6°, \\n\\nComplexion sallow, with yellowish tinge to sclerotics. No cyanosis. \\nTongue heavily coated. Moderate cedema of lower legs. Lungs clear. \\nCardiac apex not defined to eye or touch. Percussion shows increase \\nin the transverse <Uameter of the heart, the action of which is so rapid \\nand irregular that only a doubtful systolic apex murmur can be \\nheard. The second sounds are clear, the pulmonic not specially \\n\\n\\n\\nThe belly is flabby, the navel not flushed. Pereuswon dulness in \\nthe flanks shifts with changing position. No fluctuation wave. Three \\ninches below the right costal border and across the epigastrium a solid \\nbody, tender, with a firm edge descending with inspiration, is felt. \\n\\nThe urine, normal in amount, specific gravity 1028, contains a \\nlarge trace of albumen, 2% of sugar, 1.26% urea, no bile, acetone, \\nor diacetic acid. Sediment, a few normal blood globules, a rare \\nhyaline cast. \\n\\n1. Common causea of sugar in the urine? Diabetes mellitus, neuroses (wony, \\n\\nfear, etc.), coma from any cause (including narcotics), pregnancy. \\n\\n2. How do you explain tlie loss of weight? Poor appetite and digestion combined \\n\\nwith arterio-ederosia and with glycoeuria. \\n\\n3. Commonest causes of pain in that r^on? Appendidtis, gall-stones, pelvic \\n\\ninflammation <in women). \\n\\n4. What caused the pain in the right side of the abdomen? Hepatic congestion. \\n\\n5. Diagnosis? Prognosis? Treatment? \\n\\nDiagnosis: Dyspncea, digestive disturbance, a dilated, rapid, and irregular \\nheart, swollen legs, ascites, enlarged liver with slight jaundice and a urine \\nshowing renal congestion,^ all point to an uncompensated cardiac lesion with \\npassive congestion of the lungs, stomach, liver, peritoneal cavity, kidney, \\nand legs. The exact condition of the heart cannot be stated. Its insufficient \\nstrength may be due to mitral regurgitation produced by the old rheumatic \\nendocarditis (see history) and compensated until two years ago. It is mora \\nlikely to be a myocardial weakness (with or without mitral disease) that pro- \\nduces the poor heart action. He is at the age for arterio-sclerosis and so for \\nmjrocardial weakneos, but we have no data here as to hig arteries. The \\n\\nglycosuria will probably persist. If so it ia to be classed as diabetes. \\nPrognosis: Impossible to state accurately. Probably he will not live over six \\n\\nmonths, but he may live years, or die suddenly in a few days. \\nTreatment: Rest, depletion, restriction of salt in diet; later, digitalis (cautiously) \\n\\nand Naubeim treatment, also with great caution. Genenl hygiene, diet, \\n\\nsleep, air, eQcourogement are of great importance. '] \n",
      "\n"
     ]
    }
   ],
   "source": [
    "results = solr.search('case:\"arterio sclerosis\"')\n",
    "\n",
    "print(\"Found {0} documents\".format(len(results)))\n",
    "\n",
    "for result in results:\n",
    "    print(result['case'], \"\\n\")"
   ]
  },
  {
   "cell_type": "code",
   "execution_count": 8,
   "metadata": {},
   "outputs": [
    {
     "name": "stdout",
     "output_type": "stream",
     "text": [
      "Found 7 documents\n",
      "[\"CASE 8 \\n\\nA coachman, 42 years old, of good family history, ia seen April 20. \\nHealth has always been good except for a severe attack of penumonia \\nthree years ago, which was followed by phlebitis in the left femoral vein. \\nThe left leg has remained somewhat swollen, and has been tense and \\nrather painful toward night. It has caused rather more discomfort \\nthan usual during the past few days. Yesterday morning he got up \\nfeeling as usual , but on reaching the house of bis employer felt nauseated \\nand had some diarrhuea, which continued during the day. He felt \\nfeverish and weak. Went to work again this momiag, but gave up \\nafter half an hour owing to nausea and pain in the lower abdomen, and \\nwent to bed. At eleven o'clock had a distinct chill. Was seen for the \\nfirst time at 12.45 p.m. The patient was a stout man who looked acutely \\nsick. The chest was negative. Owing to a thick fat layer, examina- \\ntion of the abdomen was not altogether satisfactory; it was some- \\nwhat distended and tympanitic and there was considerable tenderness \\nover the lower portion below the level of the iliac crests, but no \\narea of special tenderness, nor could a tumor be felt anjnvhere. The \\nleft leg was somewhat larger than the right throughout. The skin \\nbelow the knee pitted slightly on pressure. There was a little tender- \\nness over the femoral ring. The temperature was then 103, pulse 110, \\nrespirations 26. At 3 p.m. urgent summons were received to call \\nimmediately as the patient had had a convulsion, was breathing \\nrapidly and with great difficulty, and was very cyanotic. \\n\\n1. Wliat are tbe commonest causea of cyanosis? Heart disease (valvular or parietal), \\n\\nemphyeema, pneumonia, asthma, metluemoglobiiuemia (usually from acetaniltd \\nin headache powders). \\n\\n2. What important data do you miss in the account of this case? A leucocyte \\n\\ncount and urinary examination. \\n\\n3. Do you expect a 1^ to remain swollen three years aft«r an attack of phlebitis? \\n\\nYes; the leg does not often regain its normal size. \\n\\n4. Diagnosis? Prognosis? Treatment? \\n\\nDiagnosis: The symptoms at the first visit were very indecisive. Diarrhcea, \\nnausea, abdominal pain with fever and weakness, suggest nothing more than \\nacute gaatro-enteritis, and even the tenderness found in the lower abdomen \\nis not distinctive. Peritonitis (possibly from appendicitis) was considered. \\nBut the history of an old femoral thrombosis and the tenderness over the \\nfemoral ring lead us to think that the thrombus may have progressed up \\ninto the abdominal veins and to interpret the later puhnonary symptoms \\n(sudden onset of ds^ncea and cyanosis) as pulmonary embolism from the \\nthrombosed abdominal veins. Autopsy showed this condition, \\n\\nFrognods: Pulmonary embolism is almost invariably fatal within a few min- \\nutes or hours, but a few cases with all signs of the disease have recovered. \\n\\nTreatment; Oxygen is usually administered and may possibly be of some ser- \\nvice. Otherwise tbe treatment is purely expectant and symptomatic.\"] \n",
      "\n",
      "[\"CASE 38 \\n\\nA woman, apparently about 40, seen at hotel at 6 F.H., unconscious. \\nSemi-dilated pupils, equal and responding to very strong light stimulus. \\nThe face is pale; pulse 90, regular, small, and soft. Respiration is \\nshallow, with an occasional deep inspiration. Temperature normal. \\nNo blood or froth on lips; no odor to breath. No disparity between \\nsides of face. Limbs flaccid, but firm supraorbital pressure causes \\nmotion in one or another extremity, so also firm pinching of leg muscles. \\nNo reflexes, deep or superficial; no cedema; no glands. Old, white, \\nirregular scars seen near root of nose, on forehead and right cheek. \\nPhysical examination of thorax and abdomen negative. Urine by \\ncatheter, 1017, acid, no albumen, no sugar. \\n\\nIn the absence of all friends, the housekeeper states that the patient \\nand her husband came there from a neighboring town the evening \\nbefore. The husband was awakened in the night by some noise to find \\nhis wife unconscious. Later, she vomited, but she has had no convul- \\nsion as far as known, either now or previously. \\n\\n1. Important causes of comaT Apoplexy (including cerebral hemorrfjage, throm- \\n\\nboeiB and embolism), unemia and hepatic toxsmia, diabetes, cerebral concus' \\ndon and compresdon, sjmcope (fainting), poisoning by opium, alcohol, and \\nilluminating gas, sunstroke, epilepe^ (after the seizure), hysteria. \\n\\n2. What strong evidence have we against opium poisoning in this case? The effects \\n\\nof opium kill or wear olT within ei^t hours. This attack has lasted already \\nabout eii^teen hours. \\n\\n3. What can be inferred from the abolition of reflexes? Any deep coma may abolish \\n\\nthe reflexes, hence we can infer, from this fact only that the coma is deep. \\n\\n4. Diagnosis? Prognosis? Treatment? \\n\\nDiagnosis: Unemia, dialietea, and hepatic toxtemia are excluded by the examina- \\ntion of the mine, abdomen, and breath; syncope, alcohol, and opium by the \\nduraticm of the symptoms; sunstroke, concussion, epilepsy, compression, and \\ngas-poisoning Ijy the history of the case. The reflexes are never wholly \\nabsent, but rather increased in hysteria, which is also unlikely beoause of the \\ngeneral muscular flaccidity. Apoplexy (in the wide sense above deflned) is \\napparently the diagnosis. The white scars on the forehead suggest injuries \\nfrom a, fall in epilepsy, also healed syphilitic lesiona. The former explanation \\nis ruled out by the history; the latter gives a very natural reason for the coma \\nand for the lack of focal symptoms, which in apoplexy of syphilitic orig^ are \\noften absent. \\n\\nPrognosis: The majority of such cases recover from the attack within a few \\ndays or weeks, especially if vigorous antisyphilitic treatment is carried out. \\n\\nTreatment: Iodine and mercury should be pven subcutaneously as long as the \\npatient caimot swallow, later by mouth. Careful nurMng ia essential to pre- \\nvent bed-sores.\"] \n",
      "\n",
      "['CASE 55 \\n\\nA woman of 41, with good family history, has been married twice. \\nThe cause of the death of her first husband is unknown. During her \\nfirst marriage she had two miscarriages. By her second husband, who \\nappears healthy, she has never been pregnant. She has no rheumatic \\nhistory. For 10 years she has not been able to walk far without dysp- \\nno^, but her health was good until seven years ago, when at Carls- \\nbad she took several baths, and just after the last a sudden left \\nhemiplegia developed. For 4 months she could not be moved, and \\nthe left arm and leg, though useful, have never regained full power. \\nShe has always risen once in the night to urinate. Yesterday she was \\nas well as usual. She wakened her husband about 1 a.m. to-day, and \\nagain, later, spoke to him. By 4 a,m. she was semi-conscious, could \\nnot speak, and had a right hemiparesis, most marked in the face. \\n\\nNext mormng the color and nutrition were good, the face not \\nflushed, respiration easy, the breath free from odor. The tongue was \\nslowly protruded on demand, but her comprehension was much limited. \\nTemperature normal. The radial pulse could not be counted: the \\napex beat was sometimes 44, again 72 per minute. The first apex \\nsound was excessively sharp, the pulmonic second accentuated. No \\nmurmurs, no thrill. The heart did not seem enlarged. Complete \\naphasia and inability to swallow. She moved the right arm somewhat, \\nthe right leg a very little. Contractures of the left fingers. The su- \\nperficial reflexes were absent; no deep reflexes in the right arm or left \\nleg; knee-jerk present on right. Abdomen negative. The urine was \\n1012i in specific gravity, pale, with a slight trace of albumen, no sugar, \\na few hyaline and fine granular casts. \\n\\n1. Types of faciaJ paraljisis? Centr<d paralysis, usually appearing as part of hemi- \\n\\nplegia, aural paralyeig, occurring in catea of well-marked ear disease, and \\nperipheral paraly^, occurring without any other leaioD. \\n\\n2. What odors in the breath are of diagnostic or prognostic value? Those of \\n\\nalcohol, acetone, and illuminating gas in diagnosb; the foul, heavy odor of \\nmany serious diseases in prognosis. \\n\\n3. Diagnosis? Prognosis? Treatment? \\n\\nDiagnosis: The sharp first sound, accented pulmonic second with chronic \\ndyspncea and two attacks of hemiplegia point to mitral stenosis and cerebral \\nembolism. The presystolic murmur has disappeared owing to cardiac weak- \\nness. Cerebral syphilis is suggested only by the history of miscarriage. \\n\\nPrognosis: She may live yeara, but the paralysis is not likely to be recovered \\nfrom whoUy. \\n\\nTreatment: Feed by rectum until she can swallow, KI to exclude syphilis. '] \n",
      "\n",
      "['CASE 66 \\n\\nA prominent manufacturer, 62, of good habits and family history. \\nNever previously sick. Has been much confined for a year and weight \\nhas increased from 164 to 174 lbs. Was seen February 15. \\n\\nShortly before Christmas he noticed shortness of breath on walking. \\nHis urine at that time was pronounced negative. The dyspnoea on \\nexertion got no better and substernal pain extending over the arms was \\nsoon superadded. This pain was not veiy severe, and came on only \\nduring exertion. About two weeks ago, after a hearty, rapid, and \\nrather indigestible mid-day dinner, he was taken at his mill, without \\nantecedent exertion, with a very severe attack of pain as above de- \\nscribed. When his physician reached him he was in a cold sweat and \\nseemed alarmingly ill. Pulse 80, regular. After two hours he was \\ndriven home four miles, arriving with pulse at 80 and temperature at \\n97.5°, The next day the pulse was 100, temperature 100°, rising to 120 \\nand 102° the next day. There was bloody expectoration, with signs \\nof consolidation at the right posterior base. For the past week the pulse \\nand temperature have been normal. When seen February 15 he stated \\nthat he felt perfectly well. He looked rather pale, lay in bed with his \\nhead low, breathing easily, not cyanotic. The pulse 80, intermitted \\noccasionally. The artery was soft, tension not high. No cedema. The \\nheart was not enlarged; sounds clear. A few rales without dulness \\nover the left posterior base. Percussion was dull with resistance an \\ninch below the right costal border, but the liver edge could not be felt. \\nThe urine, 52 to 54 oz. per diem, contained a decided trace of albumen \\nand a few hyaline casts, sp. gr. 1020, urea 2%. \\n\\n1. What diseases increase weight? Obesity, cardiac and renal disease, myxoedema. \\n\\n2. Causes of bloody expectoration? PhthisiB, pneumonia, infarction of the lung \\n\\ndue to congestion (as in mitral disease or from embolism), pulmonary abscess \\nor gangrene, wounds or malignant disease of the lung, ruptured esophageal \\nvarices (in cirrhotic liver), leaking aneurism, \\n\\n3. IMagnosis? Prognoais? Treatment? \\n\\nDiagnosis: In a man of 62 dyspncea and substernal pain produced by exertion, \\nextending to the arms and relieved by stopping, are-symptoms almost patho^ \\nnomic of coronary sclerosis with angina pectoris. The pain of aneurism is \\nsomewhat similar, but has not the close dependence on exertion. The severe \\nattack two weeks ago seems to have ended in pulmonary congestion and \\nhypostatic pneumonia. The examination of February 15 adds only the \\nevidence of an arterio-sclerotic kidney. It is surprising that arterial tension \\nappears low. Was the aortic second accentuated? \\n\\nPrognosis: With great care such cases may live many yeara, but any exertion \\nor excitement may prove fatal and the advance of the arterio-sclerosis lesions \\nin heart, brain, or kidney may kill at any time. \\n\\nTreatment: Avoid mental and physical strain. Use nitroglycerine in attacks \\nand KI st«adily. '] \n",
      "\n",
      "['CASE 33 \\n\\nA married lady of 57, with a grown family of healthy children, began \\nabout three years ago to suffer from general headaches, during which \\nshe could understand and answer questions, though memory of what \\nwas asked and replied was lost. These headaches recurred irregularly, \\neach attack lasting twenty-four hours or more. Two years ago her \\nphysician suspected myxcedema, and great improvement in all respects \\nfollowed the taking of thyroid. The dosage was diminished and for \\nsome months back she has taken only two or three grains a day. \\n\\nAbout one month ago headache, more constant and less severe than \\nformerly, came on, and she failed in general health and strength without \\nany definite symptoms other than the headache. Six days ago she \\nbegan to get stupid and within twenty-four hours was in deep coma, \\nin which she still remains. There is incontinence of urine. The bowels \\nhave not moved for several days. Two days ago the pulse, respiration, \\nand temperature were all normal at 6 a.m. Between that hour and \\n9 A.M. the pulse rose to 110, respiration to 30, and temperature to \\n103°, remaining elevated ever since. Soon after the advent of coma the \\nthyroid extract was increased to 15 grains three times a day. Until \\nwithin twenty-four hours she has taken food fairly well. Pulse 130, \\nregular, respiration 36, temperature 102.8°. Lies on back with flaccid, \\nnon-«ensitive limbs; sides of face equal; pupils equal, moderately con- \\ntracted, responding slightly to strong light stimulus; all other reflexes \\nabsent, except the plantar. The eye fundus is negative. Visceral \\nexamination is negative, except for dulness, bronchial respiration, and \\nfine rales over the right lower back. The leucocytes are 23,000 per \\n\\n\\n\\n1. What is the condition of the right lung? Pneumonia, probably of the hypo- \\n\\nstfttic type. \\n\\n2. If BabiuBki\\'s reaction were present on one side, would your diagnosis be modi- \\n\\nfied? (See question 4.) \\n\\n3. Significance of the mode of onset in this case? A gradual onset of coma is \\n\\nagainst cerebral bemorrfiage or embolism. \\n\\n4. What can be inferred from the absence of focal c^mptoms? That there are \\n\\nprobably no lesions in the motor areas. The whole brain is probably affected \\nto some extent. \\n\\n5. IKagnoMs? Prognosis? Treatment? \\n\\nDiagnosis: Cerebral tumor or abscess is possible, but the absence of focal symp- \\ntoms, and especially of choked disk, are agamst these diagnoass. Unemia \\ncould explain all the symptoms, but the urine showed no characteristic \\nchanges.* The thyroid treatment could not by itself produce such symptoms. \\nThe fever and leucocytosis make it needful to consider meningitis, but the \\n\\nhe case Biven by Ihe altendipc pfaysidan^, hence ii \\n1b omined in ih ^ \\' \\ngradual onset and the abaenee of choked disk and of cnnial nerve symptoine \\nare against it. Kemig\\'a sign is apparent^ absent (flaccid limbs); in meningitiB \\nit is usually present. Cerebral arterio-acleroeiH, with or witliout syphilis and \\nwith or without definite foci of softening, seemed on the whole most likely. \\n\\nAutopsy showed a \"worm-eaten\" and greatly thickened cranium, with two \\nfoci of softening, narrowed cerebral arteries and amyloid spleen and kidneya. \\nHypostatic pneumonia on the right. \\n\\nPrognosis; Casee presenting similar symptoms have recovered under vigorous \\nantisypbilitic treatment (subcutaneously). \\n\\nTreatment; Iodine and mercury subcutaneously should be tried, though the \\nmercury is unlikely to have any effect.'] \n",
      "\n",
      "['CASE 29 \\n\\nPatient a man 55 years old; rather fat; subject to frequent attacks \\nof winter cough, with aathmatic tendency. For seven years the heart \\nhad been noticeably weak and irregular. Puke SO; first sound valvu- \\nlar. Apex beat art inch and a half directly below left nipple; no \\nmurmurs. No previous rheumatism. Several years ago there was \\nsudden and complete loss of memory, the same questions being re- \\npeated as soon as answered. The expression was at the time rather \\nvacant; the pupils were equal and responded to light; there was no \\nmotor paralysis. The amnesia lasted all day, disappearing the follow- \\ning morning. The pulse remained 50 for two days. The patient had \\nbeen previously very anffimic, and had had much fatigue and anxiety, \\nwith digestive disturbance. The urine always remained normal. In \\nthe following years there were occasional attacks of transient numbness \\nin the left arm and leg, and sometimes faint turns with pallor and \\nirregular, feeble pusle. Headache was a frequent symptom; dyspncea \\non exertion, impaired appetite, and insomnia were constant. There \\nwas no apparent loss of flesh. In 1897 life was endangered for two \\nweeks by cedema of both lungs, supervening on an attack of bronchitis. \\nIn the subsequent years the condition improved somewhat, so that the \\npatient could walk half a mile or more and was able to attend to con- \\nsiderable business. In autumn of 1904, be had several attacks of bron- \\nchitis, and, finally, an attack of complete hemiplegia resulted fatally \\nin twenty-four hours without recovery of consciousness. Respiration \\nwas of the Cheyne-Stokes type, and later stertorous. \\n\\n1. Significajice of etertoroiu reepiratioD? Any deep coma (even deep, healthy \\n\\nsleep) may produce it. \\n\\n2. What is meant by an aathmatic tendency — t\\'.e., on what physical signs should \\n\\nsuch a diagnosis be based? Squeaking and groaning rales present on slight \\nexertion or excitement, with or without typical asthmatic paroxysms at long \\nintervaJs. \\n\\n3. What are the relations ot bronchitis and other pulmonary lesions to disease of the \\n\\nheart? (a) Chronic bronchitis may lead to emphysema, and this to hyper- \\ntrophy, dilatation and weakening of the right ventricle with tricuspid leakage. \\n(j>} Mitral disease may favor the occurrence of bronchitis and pneumonia of \\nvarious types. Intracardiac thrombosis, occurring in weakened conditions \\nof the heart from valvular or myocardial disease, may result in pulmonary \\nembolism. Septic or bland emboli are occasionally washed into the lungs \\nfrom vegetations on the tricuspid valve. The rare lesions of the puhnonary \\nvalves involve malnutrition of the lungs and (in one case known to me) fre- \\nquent attacks of pneumonia. Phthisis and endocarditis rarely coexist. \\n\\n4. Diagnosis and Treatment? \\n\\nDiagnosis: The brain and heart seem to be the organs chiefly affected. In a man \\nof 65, weak, irregular heart and pulse, with dyspncea on exertion, but \\nwithout murmuis, are usually expUiued as reeulta of coronair sclerosia and \\nmjrocarditis. The \"aathmatic tendency,\" obetructii^ the puhnaiiBii7 circu- \\nlation and so increasing the work of the right ventricle, probably contribut«d \\nto weaken the heart. The acme of cardiac weakness (Miused the pulmonary \\noedema in 1897. The amneaia with bradycardia, the hemipartestheuie and faint \\nturns, and the tenninal coma of hemipl^pa, are results of cerebral arterio- \\nsclerosis with final hemorrhage. No other diagnosis is plausible, provided \\nthe urine remained normal and provided syphilis can tie excluded. \\nTreatment: The advance of arterio-sclerosis can perhaps be checked if life is \\nlived at a slower pace, avoiding strains of all kinds and following strictly the \\nlaws of hygiene. Small doses of KI and of nitroglycerine are pven by most \\ngood piuctititners for long periods.'] \n",
      "\n",
      "['CASE 40 \\n\\nA young man of 21 is seen January 10. At the age of twelve he had \\nvery severe scarlet fever, followed by endocarditis, for the results of \\nwhich he was under medical eare for about three years. Of recent \\nyears his health has been very good and he has ridden the wheel fast \\nand far without inconvenience. Rather more than two months ago he \\nwent to the doctor\\'s office with a \"cold\"; temperature normal. A few \\ndays later he returned with a temperature of 103°, and said be had had \\nnight sweats. He was sent home, sat about the house for two days and \\nthen took to his bed, which he has not left since. A four-hourly chart \\nhas been kept for sixty-two days, and shows & continuous fever, ranging \\nfrom 101 to 104, iisually higher in the afternoon. On the seventh and \\ntenth days after taking to his bed he had nosebleed. This he had \\noccasionally when well. Cough has been a fairly constant though not \\nprominent symptom, and twice has led to vomiting. The bowels have \\nbeen regular with the aid of an occasional enema. Delirium has been \\npractically absent. Eariy in his illness there were a few doubtful rose \\nspots. The spleen has never been palpable. He has once or twice \\ncomplained of some pain in his shoulders, but has had no other articular \\nsymptoms. \\n\\nThe pulse was about 90 at first, regular, of good strength. It has \\nlately become irregular and rapid, some of the heart-beats not reaching \\nthe wrist. Under digitalis, brandy, and strychnia, the pulse has Im- \\nproved very much and is now regular, 100. Ever since he took to his \\nbed he has been on an exclusive milk diet. The urine is sufficient in \\nquantity with a lai^ trace of albumen, granular and hyaline casts, \\nspecific gravity 1015. \\n\\nThe patient is pale, lies on his back, is not much emaciated, has a \\nclear tongue, and complains only of weakness. \\n\\nOn physical examination the lungs seem clear. The heart\\'s \"Impulse \\nis in the fifth space, half an inch to the left of the nipple. A systolic \\nmurmur is heard with maximum intensity over the impulse, transmitted \\ninto the axilla. Inside the left nipple is a doubtful presystolic murmur. \\nThe pulmonic second sound is accentuated, aortic second sound clear. \\nThe belly is slightly distended, duller at the flanks than in the centre, \\nthe dulness and resonance shifting somewhat with change of position. \\nThe blood shows a moderate leucocytosis and no Widai reaction. \\n\\n1. In what diseases do night sweata occur7 Those producing fever, proetr&tion, \\n\\nor both: phthisis, syphilis, rheumatism, pneumonia, and typhoid (especially \\nin convalescence), septicfemia in all fonns, alcoholism, neurasthenia, and others. \\n\\n2. Significance of the cou^ in thia case? The common causes of cough are (a) \\n\\nirritations of the upper air passages; (6) any disease of the luuj^i and (c) any \\ndisease of the heart that produces pulmonary stasis. In this case there are \\nno evidences of (a) or of (b). Hence we fall back on (c) pulmonary stasis due \\nto the heart lesion above described. \\n\\n3. How is your diagnosis afFected by the third (short) paragraph printed above? \\n\\nDoctors sometimes conclude from such evidence that no serious disease is \\npreseut. This conclusion, however, is quite unjustifiable when the physical \\nsigns belie it. Hence the importance of accurat« and thorough physical \\nexamination. \\n\\n4. Name three common fevers which may run for weeks without touching normalT \\n\\nTyphoid, tuberculosis, septicemia (with or without septic endocarditis). \\n\\n5. What further valuable evidence mi^t be obtained from the blood? Blood \\n\\ncultures should be made. \\n\\n6. Why is the specific gravity of the urine so low? Exclusive and profuse milk \\n\\n7. If the spleen bod become palpable, how should the diagnosb have been modified? \\n\\nNot at all, since all the diseases to be considered here may produce splenic \\n\\n\\n\\n8. What further symptoms might appear which would clinch the diai^oBis? Evi- \\n\\ndence of embolism, commonest in the spleen and kidney, rarer in brain, \\nextremities, or subcutaneous tissues. \\n\\n9. DiagnosisT Prognosis? Treatment? \\n\\nIMagnosis: Typhoid after sixty-two days of fever is almost sure to show a Widal \\nreaction and no leucocytoeis. Tuberculosis of this duration should show \\nmore evidence of cerebral, pulmonary, or other local lesions. Pure tuber- \\nculous peritonitis would produce the abdominal signs here described, but \\nrarely it ever produces such fever and would not account for the cardiac signs. \\nSepticemia with septic endocarditis will account for all the facU of the case. \\nThe ascites was apparently due (like the cough) to heart weakness. The \\nacute mitral endocarditis was proved at autopsy to be engrafted (as the pre- \\nvious history suggests) upon an old process of like nature. Multiple emboho \\ninfarctions of the spleen and kidney were present. \\n\\nPrognoMs: Recovery has certainly occurred in cases of septic endocarditis,* and \\nin the milder forms of this disease is probably not at all uncommon. Even \\nin cases as severe as this it is passible but not likely. In any event the course \\nis likely to be many months. \\n\\nTreatment: If blood cultures reveal a pathogenic organism, an appropriate \\nantibacterial serum should be tried. Otherwise the treatment is purely \\nsupportive and symptomatic. \\n\\n* See Bol^ck: \"Tiuuacdoiu of Ihc ABSodalion of Anwriiu Physcuns. 1902\"; jsgeUB.'] \n",
      "\n"
     ]
    }
   ],
   "source": [
    "results = solr.search('case:embolism')\n",
    "\n",
    "print(\"Found {0} documents\".format(len(results)))\n",
    "\n",
    "for result in results:\n",
    "    print(result['case'], \"\\n\")"
   ]
  },
  {
   "cell_type": "markdown",
   "metadata": {},
   "source": [
    "## Boolean Operators"
   ]
  },
  {
   "cell_type": "code",
   "execution_count": 78,
   "metadata": {},
   "outputs": [
    {
     "name": "stdout",
     "output_type": "stream",
     "text": [
      "Found 2 documents\n",
      "['CASE 29 \\n\\nPatient a man 55 years old; rather fat; subject to frequent attacks \\nof winter cough, with aathmatic tendency. For seven years the heart \\nhad been noticeably weak and irregular. Puke SO; first sound valvu- \\nlar. Apex beat art inch and a half directly below left nipple; no \\nmurmurs. No previous rheumatism. Several years ago there was \\nsudden and complete loss of memory, the same questions being re- \\npeated as soon as answered. The expression was at the time rather \\nvacant; the pupils were equal and responded to light; there was no \\nmotor paralysis. The amnesia lasted all day, disappearing the follow- \\ning morning. The pulse remained 50 for two days. The patient had \\nbeen previously very anffimic, and had had much fatigue and anxiety, \\nwith digestive disturbance. The urine always remained normal. In \\nthe following years there were occasional attacks of transient numbness \\nin the left arm and leg, and sometimes faint turns with pallor and \\nirregular, feeble pusle. Headache was a frequent symptom; dyspncea \\non exertion, impaired appetite, and insomnia were constant. There \\nwas no apparent loss of flesh. In 1897 life was endangered for two \\nweeks by cedema of both lungs, supervening on an attack of bronchitis. \\nIn the subsequent years the condition improved somewhat, so that the \\npatient could walk half a mile or more and was able to attend to con- \\nsiderable business. In autumn of 1904, be had several attacks of bron- \\nchitis, and, finally, an attack of complete hemiplegia resulted fatally \\nin twenty-four hours without recovery of consciousness. Respiration \\nwas of the Cheyne-Stokes type, and later stertorous. \\n\\n1. Significajice of etertoroiu reepiratioD? Any deep coma (even deep, healthy \\n\\nsleep) may produce it. \\n\\n2. What is meant by an aathmatic tendency — t\\'.e., on what physical signs should \\n\\nsuch a diagnosis be based? Squeaking and groaning rales present on slight \\nexertion or excitement, with or without typical asthmatic paroxysms at long \\nintervaJs. \\n\\n3. What are the relations ot bronchitis and other pulmonary lesions to disease of the \\n\\nheart? (a) Chronic bronchitis may lead to emphysema, and this to hyper- \\ntrophy, dilatation and weakening of the right ventricle with tricuspid leakage. \\n(j>} Mitral disease may favor the occurrence of bronchitis and pneumonia of \\nvarious types. Intracardiac thrombosis, occurring in weakened conditions \\nof the heart from valvular or myocardial disease, may result in pulmonary \\nembolism. Septic or bland emboli are occasionally washed into the lungs \\nfrom vegetations on the tricuspid valve. The rare lesions of the puhnonary \\nvalves involve malnutrition of the lungs and (in one case known to me) fre- \\nquent attacks of pneumonia. Phthisis and endocarditis rarely coexist. \\n\\n4. Diagnosis and Treatment? \\n\\nDiagnosis: The brain and heart seem to be the organs chiefly affected. In a man \\nof 65, weak, irregular heart and pulse, with dyspncea on exertion, but \\nwithout murmuis, are usually expUiued as reeulta of coronair sclerosia and \\nmjrocarditis. The \"aathmatic tendency,\" obetructii^ the puhnaiiBii7 circu- \\nlation and so increasing the work of the right ventricle, probably contribut«d \\nto weaken the heart. The acme of cardiac weakness (Miused the pulmonary \\noedema in 1897. The amneaia with bradycardia, the hemipartestheuie and faint \\nturns, and the tenninal coma of hemipl^pa, are results of cerebral arterio- \\nsclerosis with final hemorrhage. No other diagnosis is plausible, provided \\nthe urine remained normal and provided syphilis can tie excluded. \\nTreatment: The advance of arterio-sclerosis can perhaps be checked if life is \\nlived at a slower pace, avoiding strains of all kinds and following strictly the \\nlaws of hygiene. Small doses of KI and of nitroglycerine are pven by most \\ngood piuctititners for long periods.'] \n",
      "\n",
      "['CASE 66 \\n\\nA prominent manufacturer, 62, of good habits and family history. \\nNever previously sick. Has been much confined for a year and weight \\nhas increased from 164 to 174 lbs. Was seen February 15. \\n\\nShortly before Christmas he noticed shortness of breath on walking. \\nHis urine at that time was pronounced negative. The dyspnoea on \\nexertion got no better and substernal pain extending over the arms was \\nsoon superadded. This pain was not veiy severe, and came on only \\nduring exertion. About two weeks ago, after a hearty, rapid, and \\nrather indigestible mid-day dinner, he was taken at his mill, without \\nantecedent exertion, with a very severe attack of pain as above de- \\nscribed. When his physician reached him he was in a cold sweat and \\nseemed alarmingly ill. Pulse 80, regular. After two hours he was \\ndriven home four miles, arriving with pulse at 80 and temperature at \\n97.5°, The next day the pulse was 100, temperature 100°, rising to 120 \\nand 102° the next day. There was bloody expectoration, with signs \\nof consolidation at the right posterior base. For the past week the pulse \\nand temperature have been normal. When seen February 15 he stated \\nthat he felt perfectly well. He looked rather pale, lay in bed with his \\nhead low, breathing easily, not cyanotic. The pulse 80, intermitted \\noccasionally. The artery was soft, tension not high. No cedema. The \\nheart was not enlarged; sounds clear. A few rales without dulness \\nover the left posterior base. Percussion was dull with resistance an \\ninch below the right costal border, but the liver edge could not be felt. \\nThe urine, 52 to 54 oz. per diem, contained a decided trace of albumen \\nand a few hyaline casts, sp. gr. 1020, urea 2%. \\n\\n1. What diseases increase weight? Obesity, cardiac and renal disease, myxoedema. \\n\\n2. Causes of bloody expectoration? PhthisiB, pneumonia, infarction of the lung \\n\\ndue to congestion (as in mitral disease or from embolism), pulmonary abscess \\nor gangrene, wounds or malignant disease of the lung, ruptured esophageal \\nvarices (in cirrhotic liver), leaking aneurism, \\n\\n3. IMagnosis? Prognoais? Treatment? \\n\\nDiagnosis: In a man of 62 dyspncea and substernal pain produced by exertion, \\nextending to the arms and relieved by stopping, are-symptoms almost patho^ \\nnomic of coronary sclerosis with angina pectoris. The pain of aneurism is \\nsomewhat similar, but has not the close dependence on exertion. The severe \\nattack two weeks ago seems to have ended in pulmonary congestion and \\nhypostatic pneumonia. The examination of February 15 adds only the \\nevidence of an arterio-sclerotic kidney. It is surprising that arterial tension \\nappears low. Was the aortic second accentuated? \\n\\nPrognosis: With great care such cases may live many yeara, but any exertion \\nor excitement may prove fatal and the advance of the arterio-sclerosis lesions \\nin heart, brain, or kidney may kill at any time. \\n\\nTreatment: Avoid mental and physical strain. Use nitroglycerine in attacks \\nand KI st«adily. '] \n",
      "\n"
     ]
    }
   ],
   "source": [
    "results = solr.search('case:\"arterio sclerosis\" AND case:embolism')\n",
    "\n",
    "print(\"Found {0} documents\".format(len(results)))\n",
    "\n",
    "for result in results:\n",
    "    print(result['case'], \"\\n\")"
   ]
  },
  {
   "cell_type": "markdown",
   "metadata": {},
   "source": [
    "## Text Highlighting"
   ]
  },
  {
   "cell_type": "code",
   "execution_count": 77,
   "metadata": {},
   "outputs": [
    {
     "name": "stdout",
     "output_type": "stream",
     "text": [
      "Found 4 documents\n",
      "=== Full result ===\n",
      "\n",
      "{'29': {'case': [', are results of cerebral <em>arterio</em>- \\n<em>sclerosis</em> with']}, '66': {'case': [' the advance of the <em>arterio</em>-<em>sclerosis</em> lesions \\nin']}, '78': {'case': [' general \\n<em>arterio</em>-<em>sclerosis</em> with cardiac hypertrophy and']}, '59': {'case': [' for <em>arterio</em>-<em>sclerosis</em> and so for \\nmjrocardial']}}\n",
      "\n",
      "=== Formating ===\n"
     ]
    },
    {
     "data": {
      "text/html": [
       "Case 29: , are results of cerebral <em>arterio</em>- \n",
       "<em>sclerosis</em> with<br>"
      ],
      "text/plain": [
       "<IPython.core.display.HTML object>"
      ]
     },
     "metadata": {},
     "output_type": "display_data"
    },
    {
     "data": {
      "text/html": [
       "Case 66:  the advance of the <em>arterio</em>-<em>sclerosis</em> lesions \n",
       "in<br>"
      ],
      "text/plain": [
       "<IPython.core.display.HTML object>"
      ]
     },
     "metadata": {},
     "output_type": "display_data"
    },
    {
     "data": {
      "text/html": [
       "Case 78:  general \n",
       "<em>arterio</em>-<em>sclerosis</em> with cardiac hypertrophy and<br>"
      ],
      "text/plain": [
       "<IPython.core.display.HTML object>"
      ]
     },
     "metadata": {},
     "output_type": "display_data"
    },
    {
     "data": {
      "text/html": [
       "Case 59:  for <em>arterio</em>-<em>sclerosis</em> and so for \n",
       "mjrocardial<br>"
      ],
      "text/plain": [
       "<IPython.core.display.HTML object>"
      ]
     },
     "metadata": {},
     "output_type": "display_data"
    }
   ],
   "source": [
    "from IPython.core.display import display, HTML\n",
    "\n",
    "results = solr.search('case:\"arterio sclerosis\"', **{\n",
    "        'hl': 'true',\n",
    "        'hl.fragsize': 50,\n",
    "        'hl.fl': 'case'\n",
    "    })\n",
    "\n",
    "print(\"Found {0} documents\".format(len(results)))\n",
    "\n",
    "print(\"=== Full result ===\\n\")\n",
    "\n",
    "print(results.highlighting)\n",
    "\n",
    "print(\"\\n=== Formating ===\")\n",
    "\n",
    "for result in results:\n",
    "    display(HTML(\"Case {0}: {1}<br>\".format(result['id'], results.highlighting[result['id']]['case'][0])))"
   ]
  },
  {
   "cell_type": "markdown",
   "metadata": {},
   "source": [
    "## Wildcard matching"
   ]
  },
  {
   "cell_type": "code",
   "execution_count": 11,
   "metadata": {},
   "outputs": [
    {
     "name": "stdout",
     "output_type": "stream",
     "text": [
      "Found 9 documents\n",
      "[\"CASE 8 \\n\\nA coachman, 42 years old, of good family history, ia seen April 20. \\nHealth has always been good except for a severe attack of penumonia \\nthree years ago, which was followed by phlebitis in the left femoral vein. \\nThe left leg has remained somewhat swollen, and has been tense and \\nrather painful toward night. It has caused rather more discomfort \\nthan usual during the past few days. Yesterday morning he got up \\nfeeling as usual , but on reaching the house of bis employer felt nauseated \\nand had some diarrhuea, which continued during the day. He felt \\nfeverish and weak. Went to work again this momiag, but gave up \\nafter half an hour owing to nausea and pain in the lower abdomen, and \\nwent to bed. At eleven o'clock had a distinct chill. Was seen for the \\nfirst time at 12.45 p.m. The patient was a stout man who looked acutely \\nsick. The chest was negative. Owing to a thick fat layer, examina- \\ntion of the abdomen was not altogether satisfactory; it was some- \\nwhat distended and tympanitic and there was considerable tenderness \\nover the lower portion below the level of the iliac crests, but no \\narea of special tenderness, nor could a tumor be felt anjnvhere. The \\nleft leg was somewhat larger than the right throughout. The skin \\nbelow the knee pitted slightly on pressure. There was a little tender- \\nness over the femoral ring. The temperature was then 103, pulse 110, \\nrespirations 26. At 3 p.m. urgent summons were received to call \\nimmediately as the patient had had a convulsion, was breathing \\nrapidly and with great difficulty, and was very cyanotic. \\n\\n1. Wliat are tbe commonest causea of cyanosis? Heart disease (valvular or parietal), \\n\\nemphyeema, pneumonia, asthma, metluemoglobiiuemia (usually from acetaniltd \\nin headache powders). \\n\\n2. What important data do you miss in the account of this case? A leucocyte \\n\\ncount and urinary examination. \\n\\n3. Do you expect a 1^ to remain swollen three years aft«r an attack of phlebitis? \\n\\nYes; the leg does not often regain its normal size. \\n\\n4. Diagnosis? Prognosis? Treatment? \\n\\nDiagnosis: The symptoms at the first visit were very indecisive. Diarrhcea, \\nnausea, abdominal pain with fever and weakness, suggest nothing more than \\nacute gaatro-enteritis, and even the tenderness found in the lower abdomen \\nis not distinctive. Peritonitis (possibly from appendicitis) was considered. \\nBut the history of an old femoral thrombosis and the tenderness over the \\nfemoral ring lead us to think that the thrombus may have progressed up \\ninto the abdominal veins and to interpret the later puhnonary symptoms \\n(sudden onset of ds^ncea and cyanosis) as pulmonary embolism from the \\nthrombosed abdominal veins. Autopsy showed this condition, \\n\\nFrognods: Pulmonary embolism is almost invariably fatal within a few min- \\nutes or hours, but a few cases with all signs of the disease have recovered. \\n\\nTreatment; Oxygen is usually administered and may possibly be of some ser- \\nvice. Otherwise tbe treatment is purely expectant and symptomatic.\"] \n",
      "\n",
      "['CASE 27 \\n\\nYoung salesman, always well till present illnesa. Family history \\ngood. Worked hard last winter and worried. Frequent beadachee, \\nindigestion, insomnia. Feeling poorly for several weeks, especially at \\nend of day, but has worked until week ago; since then, on sofa and in \\nbed. Chief complaints, weakness and pain in left chest. Two chills \\nthis week; slight, dry cough; no nosebleed. Bowels constipated and \\nappetite poor. \\n\\nPhysical examination: Fairly nourished, tongue coated, expression \\nbright, no enlarged glands. Heart shows musical systolic murmur at \\napex, heard in axilla and back; action slightly irregular; no enlargement. \\nPulmonic second sound normal. Lungs negative, except over seat \\nof pain in side, where was heard a harsh sound synchronous with respira- \\ntion for a few breaths and then not heard again. Abdomen shows \\ndulness in both flanks, which, however, shows but little shift with \\nchange of position. Liver dulness from sixth rib to rib-margin. The \\nspleen is not palpable, splenic area tympanitic; knee-jerks lively. \\nTemperature 99-102°, swinging up in the afternoon. Pulse 100-110. \\nNo sputa; urine negative. \\n\\nBlood examination: Reds, 3,200,000; whites, 4000; Hb., 40%. \\n\\n1. When ft patient\\'s chief complaint is weakness, what diagnosea Bbould be con- \\n\\neidered? Anieniia, bad hygiene, typhoid, nephritis, endocarditig, myxcedema, \\ntuberculoais. \\n\\n2. Name five CDinmon causes of pain in the left axilla. Dyspepsia, pleuri^ \\n\\n(\"simple,\" pneumonic, tutwrculous), intercostal neuralgia, muHcular pain, \\nhypertrophic spondylitis. \\n\\n3. How should the cardiac murmur be interpreted in this case? Musical murmurs, \\n\\nwidely transmitted, usually mean endocarditis (acute or chronic), but in the \\nabsence of any demonstrable cardiac enlargeDient or accentuation of the \\npulmonic second sound, the murmur may possibly be \"functional.\" Suspend \\njudgment. \\n\\n4. What adventitious thoracic sounds are most likely to be fugitive, as in this \\n\\ncase? Rales, especially musical rales, friction sounds, pleural or pericardial. \\n\\n5. Significance of the leucocyte count in this case? It makes septic endocarditis \\n\\nor any other form of sepsis very unlikely. \\n\\n6. General significance of normal or subnormal leucocyte counts? Their presence \\n\\nin typhoid and malaria makes them very valuable in cases where either of \\nthese diagnoses is being balanced against a possible pneumonia, meningitis, \\nor septiceemia. Primary anKmias have normal or subnormal leucocyte counts; \\nsome secondary anemias show leucocytosis. Most cases of abscess (appendix, \\nliver, etc.) raise the leucocyl« count. Most cases of cancer and uncomplicated \\ntuberculosis do not. \\n\\n7. Diagnosis? Prognosis? Treatment? \\n\\nDiagnosis: Continued fever with chills, amemia, signs suggesting endocarditis \\nand dry pleurisy, possibly fluid in the peritoneum, and a low leucocyte count\\nare the essentials of this case, lyphoid, malignant endocarditis (with or \\nmtbout a primary focus elsen-here), malaria and tuberculosis (pleural, peri* \\ntoneal) are especially to be considered. The question of Toalaria can be \\nsettled b^ tdood examination. Neither malaria nor typhoid will account \\nfor the physical wgns in the chest or abdomen. The Widal reaction should be \\ntried. Against septic endocarditis is the leucocyte count and the absence of \\nembolic phenomena. Blood cultures should be made. In favor of tuber- \\nculous are the phyucal signs (apparently) of dry pleurisy and of Suid in the \\nbelly (perhaps prevented by adheaons from shifting). This diagnosis was \\nfurther supported by the negative blood cultures, the absence of a Widal \\nreaction, and of malarial parasites. Operation showed it to be correct. \\n\\nPrognosis: About one half the recognized cases recover in the course of many \\nmonths, with or without operation. \\n\\nTreatment: If, under treatment similar to that i^ven in phthisis, the patient \\ndoes not improve, surgical intervention is advisable and often proves cura- \\ntive. It should not, however, be advised in every case until the failure o£ \\na measures is proven.'] \n",
      "\n",
      "['CASE 29 \\n\\nPatient a man 55 years old; rather fat; subject to frequent attacks \\nof winter cough, with aathmatic tendency. For seven years the heart \\nhad been noticeably weak and irregular. Puke SO; first sound valvu- \\nlar. Apex beat art inch and a half directly below left nipple; no \\nmurmurs. No previous rheumatism. Several years ago there was \\nsudden and complete loss of memory, the same questions being re- \\npeated as soon as answered. The expression was at the time rather \\nvacant; the pupils were equal and responded to light; there was no \\nmotor paralysis. The amnesia lasted all day, disappearing the follow- \\ning morning. The pulse remained 50 for two days. The patient had \\nbeen previously very anffimic, and had had much fatigue and anxiety, \\nwith digestive disturbance. The urine always remained normal. In \\nthe following years there were occasional attacks of transient numbness \\nin the left arm and leg, and sometimes faint turns with pallor and \\nirregular, feeble pusle. Headache was a frequent symptom; dyspncea \\non exertion, impaired appetite, and insomnia were constant. There \\nwas no apparent loss of flesh. In 1897 life was endangered for two \\nweeks by cedema of both lungs, supervening on an attack of bronchitis. \\nIn the subsequent years the condition improved somewhat, so that the \\npatient could walk half a mile or more and was able to attend to con- \\nsiderable business. In autumn of 1904, be had several attacks of bron- \\nchitis, and, finally, an attack of complete hemiplegia resulted fatally \\nin twenty-four hours without recovery of consciousness. Respiration \\nwas of the Cheyne-Stokes type, and later stertorous. \\n\\n1. Significajice of etertoroiu reepiratioD? Any deep coma (even deep, healthy \\n\\nsleep) may produce it. \\n\\n2. What is meant by an aathmatic tendency — t\\'.e., on what physical signs should \\n\\nsuch a diagnosis be based? Squeaking and groaning rales present on slight \\nexertion or excitement, with or without typical asthmatic paroxysms at long \\nintervaJs. \\n\\n3. What are the relations ot bronchitis and other pulmonary lesions to disease of the \\n\\nheart? (a) Chronic bronchitis may lead to emphysema, and this to hyper- \\ntrophy, dilatation and weakening of the right ventricle with tricuspid leakage. \\n(j>} Mitral disease may favor the occurrence of bronchitis and pneumonia of \\nvarious types. Intracardiac thrombosis, occurring in weakened conditions \\nof the heart from valvular or myocardial disease, may result in pulmonary \\nembolism. Septic or bland emboli are occasionally washed into the lungs \\nfrom vegetations on the tricuspid valve. The rare lesions of the puhnonary \\nvalves involve malnutrition of the lungs and (in one case known to me) fre- \\nquent attacks of pneumonia. Phthisis and endocarditis rarely coexist. \\n\\n4. Diagnosis and Treatment? \\n\\nDiagnosis: The brain and heart seem to be the organs chiefly affected. In a man \\nof 65, weak, irregular heart and pulse, with dyspncea on exertion, but \\nwithout murmuis, are usually expUiued as reeulta of coronair sclerosia and \\nmjrocarditis. The \"aathmatic tendency,\" obetructii^ the puhnaiiBii7 circu- \\nlation and so increasing the work of the right ventricle, probably contribut«d \\nto weaken the heart. The acme of cardiac weakness (Miused the pulmonary \\noedema in 1897. The amneaia with bradycardia, the hemipartestheuie and faint \\nturns, and the tenninal coma of hemipl^pa, are results of cerebral arterio- \\nsclerosis with final hemorrhage. No other diagnosis is plausible, provided \\nthe urine remained normal and provided syphilis can tie excluded. \\nTreatment: The advance of arterio-sclerosis can perhaps be checked if life is \\nlived at a slower pace, avoiding strains of all kinds and following strictly the \\nlaws of hygiene. Small doses of KI and of nitroglycerine are pven by most \\ngood piuctititners for long periods.'] \n",
      "\n",
      "['CASE 40 \\n\\nA young man of 21 is seen January 10. At the age of twelve he had \\nvery severe scarlet fever, followed by endocarditis, for the results of \\nwhich he was under medical eare for about three years. Of recent \\nyears his health has been very good and he has ridden the wheel fast \\nand far without inconvenience. Rather more than two months ago he \\nwent to the doctor\\'s office with a \"cold\"; temperature normal. A few \\ndays later he returned with a temperature of 103°, and said be had had \\nnight sweats. He was sent home, sat about the house for two days and \\nthen took to his bed, which he has not left since. A four-hourly chart \\nhas been kept for sixty-two days, and shows & continuous fever, ranging \\nfrom 101 to 104, iisually higher in the afternoon. On the seventh and \\ntenth days after taking to his bed he had nosebleed. This he had \\noccasionally when well. Cough has been a fairly constant though not \\nprominent symptom, and twice has led to vomiting. The bowels have \\nbeen regular with the aid of an occasional enema. Delirium has been \\npractically absent. Eariy in his illness there were a few doubtful rose \\nspots. The spleen has never been palpable. He has once or twice \\ncomplained of some pain in his shoulders, but has had no other articular \\nsymptoms. \\n\\nThe pulse was about 90 at first, regular, of good strength. It has \\nlately become irregular and rapid, some of the heart-beats not reaching \\nthe wrist. Under digitalis, brandy, and strychnia, the pulse has Im- \\nproved very much and is now regular, 100. Ever since he took to his \\nbed he has been on an exclusive milk diet. The urine is sufficient in \\nquantity with a lai^ trace of albumen, granular and hyaline casts, \\nspecific gravity 1015. \\n\\nThe patient is pale, lies on his back, is not much emaciated, has a \\nclear tongue, and complains only of weakness. \\n\\nOn physical examination the lungs seem clear. The heart\\'s \"Impulse \\nis in the fifth space, half an inch to the left of the nipple. A systolic \\nmurmur is heard with maximum intensity over the impulse, transmitted \\ninto the axilla. Inside the left nipple is a doubtful presystolic murmur. \\nThe pulmonic second sound is accentuated, aortic second sound clear. \\nThe belly is slightly distended, duller at the flanks than in the centre, \\nthe dulness and resonance shifting somewhat with change of position. \\nThe blood shows a moderate leucocytosis and no Widai reaction. \\n\\n1. In what diseases do night sweata occur7 Those producing fever, proetr&tion, \\n\\nor both: phthisis, syphilis, rheumatism, pneumonia, and typhoid (especially \\nin convalescence), septicfemia in all fonns, alcoholism, neurasthenia, and others. \\n\\n2. Significance of the cou^ in thia case? The common causes of cough are (a) \\n\\nirritations of the upper air passages; (6) any disease of the luuj^i and (c) any \\ndisease of the heart that produces pulmonary stasis. In this case there are \\nno evidences of (a) or of (b). Hence we fall back on (c) pulmonary stasis due \\nto the heart lesion above described. \\n\\n3. How is your diagnosis afFected by the third (short) paragraph printed above? \\n\\nDoctors sometimes conclude from such evidence that no serious disease is \\npreseut. This conclusion, however, is quite unjustifiable when the physical \\nsigns belie it. Hence the importance of accurat« and thorough physical \\nexamination. \\n\\n4. Name three common fevers which may run for weeks without touching normalT \\n\\nTyphoid, tuberculosis, septicemia (with or without septic endocarditis). \\n\\n5. What further valuable evidence mi^t be obtained from the blood? Blood \\n\\ncultures should be made. \\n\\n6. Why is the specific gravity of the urine so low? Exclusive and profuse milk \\n\\n7. If the spleen bod become palpable, how should the diagnosb have been modified? \\n\\nNot at all, since all the diseases to be considered here may produce splenic \\n\\n\\n\\n8. What further symptoms might appear which would clinch the diai^oBis? Evi- \\n\\ndence of embolism, commonest in the spleen and kidney, rarer in brain, \\nextremities, or subcutaneous tissues. \\n\\n9. DiagnosisT Prognosis? Treatment? \\n\\nIMagnosis: Typhoid after sixty-two days of fever is almost sure to show a Widal \\nreaction and no leucocytoeis. Tuberculosis of this duration should show \\nmore evidence of cerebral, pulmonary, or other local lesions. Pure tuber- \\nculous peritonitis would produce the abdominal signs here described, but \\nrarely it ever produces such fever and would not account for the cardiac signs. \\nSepticemia with septic endocarditis will account for all the facU of the case. \\nThe ascites was apparently due (like the cough) to heart weakness. The \\nacute mitral endocarditis was proved at autopsy to be engrafted (as the pre- \\nvious history suggests) upon an old process of like nature. Multiple emboho \\ninfarctions of the spleen and kidney were present. \\n\\nPrognoMs: Recovery has certainly occurred in cases of septic endocarditis,* and \\nin the milder forms of this disease is probably not at all uncommon. Even \\nin cases as severe as this it is passible but not likely. In any event the course \\nis likely to be many months. \\n\\nTreatment: If blood cultures reveal a pathogenic organism, an appropriate \\nantibacterial serum should be tried. Otherwise the treatment is purely \\nsupportive and symptomatic. \\n\\n* See Bol^ck: \"Tiuuacdoiu of Ihc ABSodalion of Anwriiu Physcuns. 1902\"; jsgeUB.'] \n",
      "\n",
      "['CASE 63 \\n\\nA physician, 51 yeais old, is seen Jan. 15. Has had rheumatbm off \\nand on since childhood, but no cardiac symptoms; has walked a great \\ndeal and has done a large practice without a carriage. November 17, \\nhe began to have chills and sweating at irregplar intervals, but kept at \\nwork until December 27, when he had sudden pain in the left leg, fol- \\nlowed by some coldness and numbness. \\n\\nSince December 30, there has been fever from 99.5° to 103°, with \\nirregular chills. Few days ago, seized with pain in right arm, and the \\npulse was not to be felt in that wrist. Also a transitory blindness in \\nright eye. Pulse 72, r^ular, good strength. Presystolic murmur at \\napex. No cardiac enlargement. Arms and 1^ now warm. The \\npatient is bright and not feeling very sick. Spleen slightly enlarged, \\npalpable, tender. Some doubtful rose spots. At the right base be- \\nhind a patch of bronchial breathing about the size of an apple with \\ncrackling rales and increased voice sounds. No distinct dulness. Urine \\nsaid to be negative. \\n\\n1. Common causes of true chillsT Malaria, sepeie, tuberculoeu, the onset of any \\n\\ninfection, neurasthenia. \\n% In what diaeaaea beside malaria may cbilla recur daily at the same hour? \\n\\nSep««, tuberculoBia. \\n\\n3. Types of thrombosis? Puerperal, infectious (typhoid), post-operative, maran- \\n\\ntic, those seen in cardiac disease, and those of unknown cause. \\n\\n4. Causes of presystolic murmurs? Mitral stenosis, \"Flint\\'s murmur\" in aortic \\n\\nregurgitation, tricuspid HtenosiB, adhesive pericarditis, \\n\\n5. What symptoms not here mentioned should you expect to see sooner or later \\n\\nin this case? Purpura, emaciation, diarrhcea, and mental symptoms. \\n\\n6. What should you tell the patient about his condition? Nothing unless he \\n\\nforced the issue. Then the prognosis as given below. \\n\\n7. Diagnosis? Prognons? Treatment? \\n\\nDiagnosis: A long-continued fever with chills, embolic phenomena, and a car- \\ndiac murmur suggest at once an infective endocarditis, whether \" malignant \" \\nor not remains to be seen (see prognosis in Case 40). Emlioli appear to have \\nlodged in the arteries of the left leg, ri^t arm, right eye, spleen, and lung \\n(bronchopneumonia). The \"rose spots\" aie skin-embolL In view of the \\n\" rheumatic \" history we may suppose that the acute endocarditis was here \\nengrafted on a chronic process. Blood examination showed a marked leu- \\ncocytosis and no Widal reaction. The urine showed the ordinary evidences \\nof an infectious process. \\n\\nPrognoNS: Recoveiy is quite possible (see above. Case 40) but not likely. The \\nsymptoms may continue for weeks or months and finaUy cease or kill. Be- \\ntween mild and malignant processes there are intermediate types of all degrees \\nof severity. \\n\\nTreatment. (See above, Case 40.) '] \n",
      "\n",
      "['CASE 33 \\n\\nA married lady of 57, with a grown family of healthy children, began \\nabout three years ago to suffer from general headaches, during which \\nshe could understand and answer questions, though memory of what \\nwas asked and replied was lost. These headaches recurred irregularly, \\neach attack lasting twenty-four hours or more. Two years ago her \\nphysician suspected myxcedema, and great improvement in all respects \\nfollowed the taking of thyroid. The dosage was diminished and for \\nsome months back she has taken only two or three grains a day. \\n\\nAbout one month ago headache, more constant and less severe than \\nformerly, came on, and she failed in general health and strength without \\nany definite symptoms other than the headache. Six days ago she \\nbegan to get stupid and within twenty-four hours was in deep coma, \\nin which she still remains. There is incontinence of urine. The bowels \\nhave not moved for several days. Two days ago the pulse, respiration, \\nand temperature were all normal at 6 a.m. Between that hour and \\n9 A.M. the pulse rose to 110, respiration to 30, and temperature to \\n103°, remaining elevated ever since. Soon after the advent of coma the \\nthyroid extract was increased to 15 grains three times a day. Until \\nwithin twenty-four hours she has taken food fairly well. Pulse 130, \\nregular, respiration 36, temperature 102.8°. Lies on back with flaccid, \\nnon-«ensitive limbs; sides of face equal; pupils equal, moderately con- \\ntracted, responding slightly to strong light stimulus; all other reflexes \\nabsent, except the plantar. The eye fundus is negative. Visceral \\nexamination is negative, except for dulness, bronchial respiration, and \\nfine rales over the right lower back. The leucocytes are 23,000 per \\n\\n\\n\\n1. What is the condition of the right lung? Pneumonia, probably of the hypo- \\n\\nstfttic type. \\n\\n2. If BabiuBki\\'s reaction were present on one side, would your diagnosis be modi- \\n\\nfied? (See question 4.) \\n\\n3. Significance of the mode of onset in this case? A gradual onset of coma is \\n\\nagainst cerebral bemorrfiage or embolism. \\n\\n4. What can be inferred from the absence of focal c^mptoms? That there are \\n\\nprobably no lesions in the motor areas. The whole brain is probably affected \\nto some extent. \\n\\n5. IKagnoMs? Prognosis? Treatment? \\n\\nDiagnosis: Cerebral tumor or abscess is possible, but the absence of focal symp- \\ntoms, and especially of choked disk, are agamst these diagnoass. Unemia \\ncould explain all the symptoms, but the urine showed no characteristic \\nchanges.* The thyroid treatment could not by itself produce such symptoms. \\nThe fever and leucocytosis make it needful to consider meningitis, but the \\n\\nhe case Biven by Ihe altendipc pfaysidan^, hence ii \\n1b omined in ih ^ \\' \\ngradual onset and the abaenee of choked disk and of cnnial nerve symptoine \\nare against it. Kemig\\'a sign is apparent^ absent (flaccid limbs); in meningitiB \\nit is usually present. Cerebral arterio-acleroeiH, with or witliout syphilis and \\nwith or without definite foci of softening, seemed on the whole most likely. \\n\\nAutopsy showed a \"worm-eaten\" and greatly thickened cranium, with two \\nfoci of softening, narrowed cerebral arteries and amyloid spleen and kidneya. \\nHypostatic pneumonia on the right. \\n\\nPrognosis; Casee presenting similar symptoms have recovered under vigorous \\nantisypbilitic treatment (subcutaneously). \\n\\nTreatment; Iodine and mercury subcutaneously should be tried, though the \\nmercury is unlikely to have any effect.'] \n",
      "\n",
      "[\"CASE 38 \\n\\nA woman, apparently about 40, seen at hotel at 6 F.H., unconscious. \\nSemi-dilated pupils, equal and responding to very strong light stimulus. \\nThe face is pale; pulse 90, regular, small, and soft. Respiration is \\nshallow, with an occasional deep inspiration. Temperature normal. \\nNo blood or froth on lips; no odor to breath. No disparity between \\nsides of face. Limbs flaccid, but firm supraorbital pressure causes \\nmotion in one or another extremity, so also firm pinching of leg muscles. \\nNo reflexes, deep or superficial; no cedema; no glands. Old, white, \\nirregular scars seen near root of nose, on forehead and right cheek. \\nPhysical examination of thorax and abdomen negative. Urine by \\ncatheter, 1017, acid, no albumen, no sugar. \\n\\nIn the absence of all friends, the housekeeper states that the patient \\nand her husband came there from a neighboring town the evening \\nbefore. The husband was awakened in the night by some noise to find \\nhis wife unconscious. Later, she vomited, but she has had no convul- \\nsion as far as known, either now or previously. \\n\\n1. Important causes of comaT Apoplexy (including cerebral hemorrfjage, throm- \\n\\nboeiB and embolism), unemia and hepatic toxsmia, diabetes, cerebral concus' \\ndon and compresdon, sjmcope (fainting), poisoning by opium, alcohol, and \\nilluminating gas, sunstroke, epilepe^ (after the seizure), hysteria. \\n\\n2. What strong evidence have we against opium poisoning in this case? The effects \\n\\nof opium kill or wear olT within ei^t hours. This attack has lasted already \\nabout eii^teen hours. \\n\\n3. What can be inferred from the abolition of reflexes? Any deep coma may abolish \\n\\nthe reflexes, hence we can infer, from this fact only that the coma is deep. \\n\\n4. Diagnosis? Prognosis? Treatment? \\n\\nDiagnosis: Unemia, dialietea, and hepatic toxtemia are excluded by the examina- \\ntion of the mine, abdomen, and breath; syncope, alcohol, and opium by the \\nduraticm of the symptoms; sunstroke, concussion, epilepsy, compression, and \\ngas-poisoning Ijy the history of the case. The reflexes are never wholly \\nabsent, but rather increased in hysteria, which is also unlikely beoause of the \\ngeneral muscular flaccidity. Apoplexy (in the wide sense above deflned) is \\napparently the diagnosis. The white scars on the forehead suggest injuries \\nfrom a, fall in epilepsy, also healed syphilitic lesiona. The former explanation \\nis ruled out by the history; the latter gives a very natural reason for the coma \\nand for the lack of focal symptoms, which in apoplexy of syphilitic orig^ are \\noften absent. \\n\\nPrognosis: The majority of such cases recover from the attack within a few \\ndays or weeks, especially if vigorous antisyphilitic treatment is carried out. \\n\\nTreatment: Iodine and mercury should be pven subcutaneously as long as the \\npatient caimot swallow, later by mouth. Careful nurMng ia essential to pre- \\nvent bed-sores.\"] \n",
      "\n",
      "['CASE 55 \\n\\nA woman of 41, with good family history, has been married twice. \\nThe cause of the death of her first husband is unknown. During her \\nfirst marriage she had two miscarriages. By her second husband, who \\nappears healthy, she has never been pregnant. She has no rheumatic \\nhistory. For 10 years she has not been able to walk far without dysp- \\nno^, but her health was good until seven years ago, when at Carls- \\nbad she took several baths, and just after the last a sudden left \\nhemiplegia developed. For 4 months she could not be moved, and \\nthe left arm and leg, though useful, have never regained full power. \\nShe has always risen once in the night to urinate. Yesterday she was \\nas well as usual. She wakened her husband about 1 a.m. to-day, and \\nagain, later, spoke to him. By 4 a,m. she was semi-conscious, could \\nnot speak, and had a right hemiparesis, most marked in the face. \\n\\nNext mormng the color and nutrition were good, the face not \\nflushed, respiration easy, the breath free from odor. The tongue was \\nslowly protruded on demand, but her comprehension was much limited. \\nTemperature normal. The radial pulse could not be counted: the \\napex beat was sometimes 44, again 72 per minute. The first apex \\nsound was excessively sharp, the pulmonic second accentuated. No \\nmurmurs, no thrill. The heart did not seem enlarged. Complete \\naphasia and inability to swallow. She moved the right arm somewhat, \\nthe right leg a very little. Contractures of the left fingers. The su- \\nperficial reflexes were absent; no deep reflexes in the right arm or left \\nleg; knee-jerk present on right. Abdomen negative. The urine was \\n1012i in specific gravity, pale, with a slight trace of albumen, no sugar, \\na few hyaline and fine granular casts. \\n\\n1. Types of faciaJ paraljisis? Centr<d paralysis, usually appearing as part of hemi- \\n\\nplegia, aural paralyeig, occurring in catea of well-marked ear disease, and \\nperipheral paraly^, occurring without any other leaioD. \\n\\n2. What odors in the breath are of diagnostic or prognostic value? Those of \\n\\nalcohol, acetone, and illuminating gas in diagnosb; the foul, heavy odor of \\nmany serious diseases in prognosis. \\n\\n3. Diagnosis? Prognosis? Treatment? \\n\\nDiagnosis: The sharp first sound, accented pulmonic second with chronic \\ndyspncea and two attacks of hemiplegia point to mitral stenosis and cerebral \\nembolism. The presystolic murmur has disappeared owing to cardiac weak- \\nness. Cerebral syphilis is suggested only by the history of miscarriage. \\n\\nPrognosis: She may live yeara, but the paralysis is not likely to be recovered \\nfrom whoUy. \\n\\nTreatment: Feed by rectum until she can swallow, KI to exclude syphilis. '] \n",
      "\n",
      "['CASE 66 \\n\\nA prominent manufacturer, 62, of good habits and family history. \\nNever previously sick. Has been much confined for a year and weight \\nhas increased from 164 to 174 lbs. Was seen February 15. \\n\\nShortly before Christmas he noticed shortness of breath on walking. \\nHis urine at that time was pronounced negative. The dyspnoea on \\nexertion got no better and substernal pain extending over the arms was \\nsoon superadded. This pain was not veiy severe, and came on only \\nduring exertion. About two weeks ago, after a hearty, rapid, and \\nrather indigestible mid-day dinner, he was taken at his mill, without \\nantecedent exertion, with a very severe attack of pain as above de- \\nscribed. When his physician reached him he was in a cold sweat and \\nseemed alarmingly ill. Pulse 80, regular. After two hours he was \\ndriven home four miles, arriving with pulse at 80 and temperature at \\n97.5°, The next day the pulse was 100, temperature 100°, rising to 120 \\nand 102° the next day. There was bloody expectoration, with signs \\nof consolidation at the right posterior base. For the past week the pulse \\nand temperature have been normal. When seen February 15 he stated \\nthat he felt perfectly well. He looked rather pale, lay in bed with his \\nhead low, breathing easily, not cyanotic. The pulse 80, intermitted \\noccasionally. The artery was soft, tension not high. No cedema. The \\nheart was not enlarged; sounds clear. A few rales without dulness \\nover the left posterior base. Percussion was dull with resistance an \\ninch below the right costal border, but the liver edge could not be felt. \\nThe urine, 52 to 54 oz. per diem, contained a decided trace of albumen \\nand a few hyaline casts, sp. gr. 1020, urea 2%. \\n\\n1. What diseases increase weight? Obesity, cardiac and renal disease, myxoedema. \\n\\n2. Causes of bloody expectoration? PhthisiB, pneumonia, infarction of the lung \\n\\ndue to congestion (as in mitral disease or from embolism), pulmonary abscess \\nor gangrene, wounds or malignant disease of the lung, ruptured esophageal \\nvarices (in cirrhotic liver), leaking aneurism, \\n\\n3. IMagnosis? Prognoais? Treatment? \\n\\nDiagnosis: In a man of 62 dyspncea and substernal pain produced by exertion, \\nextending to the arms and relieved by stopping, are-symptoms almost patho^ \\nnomic of coronary sclerosis with angina pectoris. The pain of aneurism is \\nsomewhat similar, but has not the close dependence on exertion. The severe \\nattack two weeks ago seems to have ended in pulmonary congestion and \\nhypostatic pneumonia. The examination of February 15 adds only the \\nevidence of an arterio-sclerotic kidney. It is surprising that arterial tension \\nappears low. Was the aortic second accentuated? \\n\\nPrognosis: With great care such cases may live many yeara, but any exertion \\nor excitement may prove fatal and the advance of the arterio-sclerosis lesions \\nin heart, brain, or kidney may kill at any time. \\n\\nTreatment: Avoid mental and physical strain. Use nitroglycerine in attacks \\nand KI st«adily. '] \n",
      "\n"
     ]
    }
   ],
   "source": [
    "results = solr.search('case:emboli*')\n",
    "\n",
    "print(\"Found {0} documents\".format(len(results)))\n",
    "\n",
    "for result in results:\n",
    "    print(result['case'], \"\\n\")"
   ]
  },
  {
   "cell_type": "markdown",
   "metadata": {},
   "source": [
    "## Proximity matching\n",
    "\n",
    "Search for \"heart attack\" within 4 words from each other."
   ]
  },
  {
   "cell_type": "code",
   "execution_count": 76,
   "metadata": {},
   "outputs": [
    {
     "name": "stdout",
     "output_type": "stream",
     "text": [
      "Found 1 documents\n"
     ]
    },
    {
     "data": {
      "text/html": [
       "Case 18:  this <em>attack</em> and succumb later to increasing <em>heart</em> weakness. \n",
       "Treatment: Absolute rest; vigorous<br>"
      ],
      "text/plain": [
       "<IPython.core.display.HTML object>"
      ]
     },
     "metadata": {},
     "output_type": "display_data"
    }
   ],
   "source": [
    "results = solr.search('case:\"heart attack\"~7', **{\n",
    "        'hl': 'true',\n",
    "        'hl.fragsize': 100,\n",
    "        'hl.fl': 'case'\n",
    "    })\n",
    "\n",
    "print(\"Found {0} documents\".format(len(results)))\n",
    "\n",
    "for result in results:\n",
    "    display(HTML(\"Case {0}: {1}<br>\".format(result['id'], results.highlighting[result['id']]['case'][0])))"
   ]
  }
 ],
 "metadata": {
  "kernelspec": {
   "display_name": "Python 3",
   "language": "python",
   "name": "python3"
  },
  "language_info": {
   "codemirror_mode": {
    "name": "ipython",
    "version": 3
   },
   "file_extension": ".py",
   "mimetype": "text/x-python",
   "name": "python",
   "nbconvert_exporter": "python",
   "pygments_lexer": "ipython3",
   "version": "3.7.3"
  }
 },
 "nbformat": 4,
 "nbformat_minor": 2
}
