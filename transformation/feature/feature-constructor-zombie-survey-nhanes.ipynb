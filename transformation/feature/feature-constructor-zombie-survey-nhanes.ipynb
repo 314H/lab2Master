{
 "cells": [
  {
   "cell_type": "code",
   "execution_count": 1,
   "metadata": {},
   "outputs": [],
   "source": [
    "%defaultDatasource jdbc:h2:mem:db"
   ]
  },
  {
   "cell_type": "markdown",
   "metadata": {},
   "source": [
    "# Zombie Survey Dataset (`zombies-survey.csv`)\n",
    "* name - Zombie name\n",
    "* type - biological, chemical or technological\n",
    "* gender - the gender before becoming a zombie\n",
    "* weight - weight in kg\n",
    "* height - height in m\n",
    "* GBC - Green Blood Cells (million cells per microliter - mcL)\n",
    "* GS - Green Substance (g/dL - grams per deciliter)\n",
    "* PBC - Purple Blood Cells (million cells per microliter - mcL)\n",
    "* SP - Sticky Paste (g/dL - grams per deciliter)"
   ]
  },
  {
   "cell_type": "code",
   "execution_count": 2,
   "metadata": {},
   "outputs": [],
   "source": [
    "DROP TABLE IF EXISTS Survey;\n",
    "\n",
    "CREATE TABLE Survey (\n",
    "  name VARCHAR(50),\n",
    "  type VARCHAR(13) NOT NULL,\n",
    "  gender VARCHAR(6) NOT NULL,\n",
    "  height DECIMAL(4,1),\n",
    "  weight DECIMAL(6,2),\n",
    "  gbc DECIMAL(4,1),\n",
    "  gs INTEGER,\n",
    "  pbc DECIMAL(4,1),\n",
    "  sp DECIMAL(4,1),\n",
    "  stature VARCHAR(7),\n",
    "  PRIMARY KEY(name)\n",
    ") AS SELECT\n",
    "  name,type,gender,height,weight,gbc,gs,pbc,sp,'regular'\n",
    "FROM CSVREAD('../../data/zombie/zombie-health/zombies-survey.csv');"
   ]
  },
  {
   "cell_type": "code",
   "execution_count": 3,
   "metadata": {},
   "outputs": [
    {
     "data": {
      "application/vnd.jupyter.widget-view+json": {
       "model_id": "d2faf784-aa95-4c6e-995e-ed09a9e62834",
       "version_major": 2,
       "version_minor": 0
      },
      "method": "display_data"
     },
     "metadata": {},
     "output_type": "display_data"
    }
   ],
   "source": [
    "SELECT * FROM Survey;"
   ]
  },
  {
   "cell_type": "code",
   "execution_count": 4,
   "metadata": {},
   "outputs": [],
   "source": [
    "UPDATE Survey\n",
    "SET stature = 'tall' WHERE height > 1.85;\n",
    "\n",
    "UPDATE Survey\n",
    "SET stature = 'short' WHERE height < 1.6;"
   ]
  },
  {
   "cell_type": "code",
   "execution_count": 5,
   "metadata": {},
   "outputs": [
    {
     "data": {
      "application/vnd.jupyter.widget-view+json": {
       "model_id": "8b0987e1-54dd-4238-b2cb-e3f6c83899a7",
       "version_major": 2,
       "version_minor": 0
      },
      "method": "display_data"
     },
     "metadata": {},
     "output_type": "display_data"
    }
   ],
   "source": [
    "SELECT * FROM Survey;"
   ]
  },
  {
   "cell_type": "markdown",
   "metadata": {},
   "source": [
    "## Pergunta: *Há alteração sigficativa da média do peso de acordo com a estatura?*"
   ]
  },
  {
   "cell_type": "code",
   "execution_count": 6,
   "metadata": {},
   "outputs": [
    {
     "data": {
      "application/vnd.jupyter.widget-view+json": {
       "model_id": "db135238-849d-49bc-b7aa-467c9b9ca8a2",
       "version_major": 2,
       "version_minor": 0
      },
      "method": "display_data"
     },
     "metadata": {},
     "output_type": "display_data"
    }
   ],
   "source": [
    "SELECT stature, AVG(weight) FROM Survey GROUP BY stature ORDER BY AVG(weight);"
   ]
  },
  {
   "cell_type": "markdown",
   "metadata": {},
   "source": [
    "## Pergunta: *O tipo de zumbi afeta na distribuição das alturas?*"
   ]
  },
  {
   "cell_type": "code",
   "execution_count": 7,
   "metadata": {},
   "outputs": [
    {
     "data": {
      "application/vnd.jupyter.widget-view+json": {
       "model_id": "f8aae00b-1f3d-4ee4-a372-6ce224b7660c",
       "version_major": 2,
       "version_minor": 0
      },
      "method": "display_data"
     },
     "metadata": {},
     "output_type": "display_data"
    }
   ],
   "source": [
    "SELECT type, stature, COUNT(*) FROM Survey GROUP BY type, stature ORDER BY type, stature;"
   ]
  },
  {
   "cell_type": "markdown",
   "metadata": {},
   "source": [
    "## Pergunta: *Há diferença de altura entre zumbis masculinos e femininos?*"
   ]
  },
  {
   "cell_type": "code",
   "execution_count": 8,
   "metadata": {},
   "outputs": [
    {
     "data": {
      "application/vnd.jupyter.widget-view+json": {
       "model_id": "9e331efc-89a0-40cb-8852-85c61c246ba6",
       "version_major": 2,
       "version_minor": 0
      },
      "method": "display_data"
     },
     "metadata": {},
     "output_type": "display_data"
    }
   ],
   "source": [
    "SELECT gender, stature, COUNT(*) FROM Survey GROUP BY gender, stature ORDER BY gender, stature;"
   ]
  },
  {
   "cell_type": "markdown",
   "metadata": {},
   "source": [
    "# National Health and Nutrition Examination Survey\n",
    "[https://wwwn.cdc.gov/nchs/nhanes/](https://wwwn.cdc.gov/nchs/nhanes/)\n",
    "\n",
    "## NHANES datasets from 2013-2014\n",
    "\n",
    "This dataset was extracted from [NHANES 2013-2014](https://wwwn.cdc.gov/nchs/nhanes/continuousnhanes/default.aspx?BeginYear=2013). The following tables are available:\n",
    "\n",
    "### `demographic-person.csv`\n",
    "\n",
    "Persons who participated in the survey.\n",
    "\n",
    "| field | description | domain |\n",
    "|-------|-------------|--------|\n",
    "| `id` | id of a participant | number |\n",
    "| `gender` | gender of the participant | `1` - male; `2` - female |\n",
    "| `age` | age of the participant | number |\n",
    "\n",
    "### `medications-drug.csv`\n",
    "\n",
    "Drugs catalog.\n",
    "\n",
    "| field | description | domain |\n",
    "|-------|-------------|--------|\n",
    "| `code` | code of the drug | string |\n",
    "| `name` | name of the drug | string |\n",
    "\n",
    "### `medications-use.csv`\n",
    "\n",
    "Records drugs used by participants in the survey and how many days they are continuously using the drug.\n",
    "\n",
    "| field | description | domain |\n",
    "|-------|-------------|--------|\n",
    "| `person_id` | id of a participant in the survey | number |\n",
    "| `drug_code` | code of a drug in the catalog | string |\n",
    "| `days_use` | number of days of use |"
   ]
  },
  {
   "cell_type": "code",
   "execution_count": 9,
   "metadata": {},
   "outputs": [],
   "source": [
    "DROP TABLE IF EXISTS Pessoa;\n",
    "DROP TABLE IF EXISTS Medicamento;\n",
    "DROP TABLE IF EXISTS UsoMedicamento;\n",
    "\n",
    "CREATE TABLE Pessoa (\n",
    "  Id VARCHAR(5) NOT NULL,\n",
    "  Genero INTEGER,\n",
    "  Idade INTEGER,\n",
    "  FaixaEtaria VARCHAR(11),\n",
    "  NumeroMedicamentos FLOAT,\n",
    "  NoMed BOOLEAN,\n",
    "  Med BOOLEAN,\n",
    "  MedAcimaMedia BOOLEAN,\n",
    "  PRIMARY KEY(Id)\n",
    ") AS SELECT\n",
    "    id,\n",
    "    gender,\n",
    "    age,\n",
    "    'adulto',\n",
    "    0,\n",
    "    NULL,\n",
    "    NULL,\n",
    "    FALSE\n",
    "FROM CSVREAD('../../data/nhanes/demographic-person.csv');\n",
    "\n",
    "CREATE TABLE Medicamento (\n",
    "  Codigo VARCHAR(6) NOT NULL,\n",
    "  NomeMedicamento VARCHAR(100) NOT NULL,\n",
    "  PRIMARY KEY(Codigo)\n",
    ") AS SELECT\n",
    "    code,\n",
    "    name\n",
    "FROM CSVREAD('../../data/nhanes/medications-drug.csv');\n",
    "\n",
    "CREATE TABLE UsoMedicamento (\n",
    "  IdPessoa VARCHAR(5) NOT NULL,\n",
    "  CodMedicamento VARCHAR(6) NOT NULL,\n",
    "  DiasUso INTEGER,\n",
    "  FOREIGN KEY(IdPessoa)\n",
    "    REFERENCES Pessoa(Id)\n",
    "      ON DELETE NO ACTION\n",
    "      ON UPDATE NO ACTION,\n",
    "  FOREIGN KEY(CodMedicamento)\n",
    "    REFERENCES Medicamento(Codigo)\n",
    "      ON DELETE NO ACTION\n",
    "      ON UPDATE NO ACTION\n",
    ") AS SELECT\n",
    "    person_id,\n",
    "    drug_code,\n",
    "    days_use\n",
    "FROM CSVREAD('../../data/nhanes/medications-use.csv');"
   ]
  },
  {
   "cell_type": "code",
   "execution_count": 10,
   "metadata": {},
   "outputs": [
    {
     "data": {
      "application/vnd.jupyter.widget-view+json": {
       "model_id": "ce5995ac-f181-448a-9736-b8fe75e53a63",
       "version_major": 2,
       "version_minor": 0
      },
      "method": "display_data"
     },
     "metadata": {},
     "output_type": "display_data"
    },
    {
     "data": {
      "application/vnd.jupyter.widget-view+json": {
       "model_id": "c4dd0496-58e8-4e43-b11f-562654cc1700",
       "version_major": 2,
       "version_minor": 0
      },
      "method": "display_data"
     },
     "metadata": {},
     "output_type": "display_data"
    },
    {
     "data": {
      "application/vnd.jupyter.widget-view+json": {
       "model_id": "c518db6c-1415-4c95-9156-f0775b504b90",
       "version_major": 2,
       "version_minor": 0
      },
      "method": "display_data"
     },
     "metadata": {},
     "output_type": "display_data"
    }
   ],
   "source": [
    "SELECT * FROM Pessoa;\n",
    "SELECT * FROM Medicamento;\n",
    "SELECT * FROM UsoMedicamento;"
   ]
  },
  {
   "cell_type": "markdown",
   "metadata": {},
   "source": [
    "## Features para Análise de comportamento estatístico\n",
    "* **NumeroMedicamentos** - número de medicamentos tomados por pessoa\n",
    "* **NoMed** - pessoas que não tomam medicamento\n",
    "* **Med** - pessoas que tomam algum medicamento\n",
    "* **MedAcimaMedia** - pessoas que usam mais medicamentos do que a média"
   ]
  },
  {
   "cell_type": "code",
   "execution_count": 11,
   "metadata": {},
   "outputs": [],
   "source": [
    "Update Pessoa p\n",
    "SET NumeroMedicamentos = (SELECT COUNT(CodMedicamento) NumeroMedicamentos\n",
    "                          FROM UsoMedicamento um\n",
    "                          WHERE um.IdPessoa = p.Id);"
   ]
  },
  {
   "cell_type": "code",
   "execution_count": 12,
   "metadata": {},
   "outputs": [
    {
     "data": {
      "application/vnd.jupyter.widget-view+json": {
       "model_id": "182fcea3-cf0b-40bc-b6bf-5bbdc56a92b4",
       "version_major": 2,
       "version_minor": 0
      },
      "method": "display_data"
     },
     "metadata": {},
     "output_type": "display_data"
    }
   ],
   "source": [
    "SELECT * FROM Pessoa;"
   ]
  },
  {
   "cell_type": "code",
   "execution_count": 13,
   "metadata": {},
   "outputs": [
    {
     "data": {
      "text/plain": [
       "3.4753285395487232"
      ]
     },
     "execution_count": 13,
     "metadata": {},
     "output_type": "execute_result"
    }
   ],
   "source": [
    "SELECT AVG(NumeroMedicamentos) FROM Pessoa WHERE NumeroMedicamentos > 0;"
   ]
  },
  {
   "cell_type": "code",
   "execution_count": 14,
   "metadata": {},
   "outputs": [],
   "source": [
    "Update Pessoa\n",
    "SET FaixaEtaria = 'crianca'\n",
    "WHERE Idade <= 10;\n",
    "\n",
    "Update Pessoa\n",
    "SET FaixaEtaria = 'adolescente'\n",
    "WHERE Idade > 10 AND Idade <= 17;\n",
    "\n",
    "Update Pessoa\n",
    "SET FaixaEtaria = 'meia-idade'\n",
    "WHERE Idade >= 40 AND Idade <= 64;\n",
    "\n",
    "Update Pessoa\n",
    "SET FaixaEtaria = 'idoso'\n",
    "WHERE Idade > 64;"
   ]
  },
  {
   "cell_type": "code",
   "execution_count": 15,
   "metadata": {},
   "outputs": [],
   "source": [
    "Update Pessoa\n",
    "SET NoMed = TRUE\n",
    "WHERE NumeroMedicamentos = 0;\n",
    "\n",
    "Update Pessoa\n",
    "SET Med = TRUE\n",
    "WHERE NumeroMedicamentos > 0;\n",
    "\n",
    "Update Pessoa\n",
    "SET MedAcimaMedia = TRUE\n",
    "WHERE NumeroMedicamentos > (SELECT AVG(NumeroMedicamentos) FROM Pessoa WHERE NumeroMedicamentos > 0);"
   ]
  },
  {
   "cell_type": "code",
   "execution_count": 16,
   "metadata": {},
   "outputs": [
    {
     "data": {
      "application/vnd.jupyter.widget-view+json": {
       "model_id": "b5e9ab00-c7ec-46c2-ad14-6c40509dbfc6",
       "version_major": 2,
       "version_minor": 0
      },
      "method": "display_data"
     },
     "metadata": {},
     "output_type": "display_data"
    }
   ],
   "source": [
    "SELECT * FROM Pessoa;"
   ]
  },
  {
   "cell_type": "markdown",
   "metadata": {},
   "source": [
    "## Pergunta: *Qual a distribuição de uso de número de medicamentos por faixa etária?*"
   ]
  },
  {
   "cell_type": "code",
   "execution_count": 17,
   "metadata": {},
   "outputs": [
    {
     "data": {
      "application/vnd.jupyter.widget-view+json": {
       "model_id": "1d926184-2704-4f24-97a0-bdbf761d555a",
       "version_major": 2,
       "version_minor": 0
      },
      "method": "display_data"
     },
     "metadata": {},
     "output_type": "display_data"
    }
   ],
   "source": [
    "SELECT FaixaEtaria, AVG(NumeroMedicamentos) Media\n",
    "FROM Pessoa WHERE NumeroMedicamentos > 0\n",
    "GROUP BY FaixaEtaria ORDER BY FaixaEtaria;"
   ]
  },
  {
   "cell_type": "markdown",
   "metadata": {},
   "source": [
    "## Pergunta: *Qual a proporção de pessoas que não tomas e tomam medicamentos por faixa etária?*"
   ]
  },
  {
   "cell_type": "code",
   "execution_count": 18,
   "metadata": {},
   "outputs": [
    {
     "data": {
      "application/vnd.jupyter.widget-view+json": {
       "model_id": "c31c10c9-a699-4ec7-a859-b8babff27681",
       "version_major": 2,
       "version_minor": 0
      },
      "method": "display_data"
     },
     "metadata": {},
     "output_type": "display_data"
    }
   ],
   "source": [
    "SELECT FaixaEtaria, COUNT(NoMed) MedFree, COUNT(Med) MedWith, Cast(COUNT(NoMed) AS FLOAT) / COUNT(Med) Proportion\n",
    "FROM Pessoa GROUP BY FaixaEtaria;"
   ]
  },
  {
   "cell_type": "markdown",
   "metadata": {},
   "source": [
    "## Pergunta: *Há diferença significativa de média de uso de medicamentos de acordo com o gênero, dentro das faixas etárias?*"
   ]
  },
  {
   "cell_type": "code",
   "execution_count": 19,
   "metadata": {},
   "outputs": [
    {
     "data": {
      "application/vnd.jupyter.widget-view+json": {
       "model_id": "1b054338-89b9-49bc-8dce-0144e652fcc0",
       "version_major": 2,
       "version_minor": 0
      },
      "method": "display_data"
     },
     "metadata": {},
     "output_type": "display_data"
    }
   ],
   "source": [
    "SELECT FaixaEtaria, Genero, AVG(NumeroMedicamentos) Media\n",
    "FROM Pessoa WHERE NumeroMedicamentos > 0\n",
    "GROUP BY FaixaEtaria, Genero ORDER BY FaixaEtaria, Genero;"
   ]
  }
 ],
 "metadata": {
  "kernelspec": {
   "display_name": "SQL",
   "language": "SQL",
   "name": "sql"
  },
  "language_info": {
   "codemirror_mode": "sql",
   "file_extension": ".sql",
   "mimetype": "",
   "name": "SQL",
   "nbconverter_exporter": "",
   "version": ""
  },
  "toc": {
   "base_numbering": 1,
   "nav_menu": {},
   "number_sections": false,
   "sideBar": false,
   "skip_h1_title": false,
   "title_cell": "Table of Contents",
   "title_sidebar": "Contents",
   "toc_cell": false,
   "toc_position": {},
   "toc_section_display": false,
   "toc_window_display": false
  }
 },
 "nbformat": 4,
 "nbformat_minor": 2
}
