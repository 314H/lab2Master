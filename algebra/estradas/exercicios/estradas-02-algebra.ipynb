{
 "cells": [
  {
   "cell_type": "markdown",
   "metadata": {},
   "source": [
    "Considere que há duas tabelas (relações) de `Trajeto` denominadas `TrajetoA` e `TrajetoB` e respectivas tabelas de segmento: `SegmentoA` e `SegmentoB`. Ambas estão associadas à mesma tabela `Estrada`. Há trajetos com o mesmo identificador em `TrajetoA` e `TrajetoB` que representam o mesmo trajeto."
   ]
  },
  {
   "cell_type": "markdown",
   "metadata": {},
   "source": [
    "# Exercício\n",
    "\n",
    "Escreva uma sentença em álgebra que retorne uma tabela (relação) com todos os trajetos em `TrajetoA` que estão inconsistentes com `TrajetoB`. Dois trajetos são inconsistentes quando eles têm o mesmo identificador e sequências de estradas diferentes, seja pela ordem, seja pelas estradas que aparecem no trajeto."
   ]
  },
  {
   "cell_type": "code",
   "execution_count": null,
   "metadata": {},
   "outputs": [],
   "source": []
  },
  {
   "cell_type": "markdown",
   "metadata": {},
   "source": [
    "## Exercício - Parte 1\n",
    "\n",
    "Quais são os trajetos em comum entre `TrajetoA` e `TrajetoB`?"
   ]
  },
  {
   "cell_type": "code",
   "execution_count": null,
   "metadata": {},
   "outputs": [],
   "source": []
  },
  {
   "cell_type": "markdown",
   "metadata": {},
   "source": [
    "## Exercício - Parte 2\n",
    "\n",
    "Quais são as estradas e sua ordem para cada um dos trajetos comuns, tanto em `TrajetoA`, quanto em `TrajetoB`?"
   ]
  },
  {
   "cell_type": "code",
   "execution_count": null,
   "metadata": {},
   "outputs": [],
   "source": []
  },
  {
   "cell_type": "markdown",
   "metadata": {},
   "source": [
    "## Exercício - Parte 3\n",
    "\n",
    "É possível definir uma operação de conjuntos que relacione inconsistências a partir do resultado da `Parte 2`?"
   ]
  },
  {
   "cell_type": "code",
   "execution_count": null,
   "metadata": {},
   "outputs": [],
   "source": []
  },
  {
   "cell_type": "markdown",
   "metadata": {},
   "source": [
    "## Exercício - Parte 4\n",
    "\n",
    "Apresente somente o nome dos trajetos que apresentam a inconsistência."
   ]
  }
 ],
 "metadata": {
  "kernelspec": {
   "display_name": "SQL",
   "language": "SQL",
   "name": "sql"
  },
  "language_info": {
   "codemirror_mode": "sql",
   "file_extension": ".sql",
   "mimetype": "",
   "name": "SQL",
   "nbconverter_exporter": "",
   "version": ""
  }
 },
 "nbformat": 4,
 "nbformat_minor": 2
}
