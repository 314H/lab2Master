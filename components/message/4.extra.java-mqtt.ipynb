{
 "cells": [
  {
   "cell_type": "markdown",
   "metadata": {},
   "source": [
    "### importing jars"
   ]
  },
  {
   "cell_type": "code",
   "execution_count": 2,
   "metadata": {},
   "outputs": [
    {
     "data": {
      "application/vnd.jupyter.widget-view+json": {
       "model_id": "246056d1-c885-4a47-99e1-f37c279d018c",
       "version_major": 2,
       "version_minor": 0
      },
      "method": "display_data"
     },
     "metadata": {},
     "output_type": "display_data"
    },
    {
     "data": {
      "application/vnd.jupyter.widget-view+json": {
       "model_id": "10efe63d-ed10-42f8-9778-72336b86c6f0",
       "version_major": 2,
       "version_minor": 0
      },
      "method": "display_data"
     },
     "metadata": {},
     "output_type": "display_data"
    }
   ],
   "source": [
    "%classpath add jar libs/component-catalog.jar\n",
    "%classpath add jar libs/mqttv3-1.1.2.jar"
   ]
  },
  {
   "cell_type": "code",
   "execution_count": 3,
   "metadata": {},
   "outputs": [
    {
     "data": {
      "text/plain": [
       "com.twosigma.beaker.javash.bkr02a73051.MQTTConsumer"
      ]
     },
     "execution_count": 3,
     "metadata": {},
     "output_type": "execute_result"
    }
   ],
   "source": [
    "// import org.eclipse.paho.client.mqttv3.;\n",
    "import org.eclipse.paho.client.mqttv3.IMqttDeliveryToken;\n",
    "import org.eclipse.paho.client.mqttv3.MqttConnectOptions;\n",
    "import org.eclipse.paho.client.mqttv3.MqttCallback;\n",
    "import org.eclipse.paho.client.mqttv3.MqttClient;\n",
    "import org.eclipse.paho.client.mqttv3.MqttException;\n",
    "import org.eclipse.paho.client.mqttv3.MqttMessage;\n",
    "import java.util.UUID;\n",
    "\n",
    "public class MQTTConsumer implements MqttCallback {\n",
    "\n",
    "    private MqttClient client;\n",
    "    private String uri;\n",
    "    private String user;\n",
    "    private String password;\n",
    "    private String topic;\n",
    "    private MqttConnectOptions connectionOptions;\n",
    "    private String clientID;\n",
    "    \n",
    "    \n",
    "    public MQTTConsumer(String uri, String user, String password, String topic) {\n",
    "\n",
    "        this.uri = uri;\n",
    "        this.user = user;\n",
    "        this.password = password;\n",
    "        this.topic = topic;\n",
    "        this.connect();\n",
    "    }\n",
    "\n",
    "    public MQTTConsumer(String uri, String topic) {\n",
    "\n",
    "        this.uri = uri;\n",
    "        this.topic = topic;    \n",
    "        this.connect();\n",
    "    }\n",
    "\n",
    "\n",
    "    private void connect() {\n",
    "        \n",
    "        this.clientID = UUID.randomUUID().toString();      \n",
    "        this.connectionOptions = new MqttConnectOptions();\n",
    "        this.connectionOptions.setAutomaticReconnect(true);\n",
    "        this.connectionOptions.setCleanSession(true);\n",
    "        this.connectionOptions.setConnectionTimeout(20);\n",
    "        \n",
    "        \n",
    "        try {\n",
    "            client = new MqttClient(this.uri, this.clientID);\n",
    "            client.connect(this.connectionOptions);            \n",
    "            client.setCallback(this);\n",
    "            client.subscribe(this.topic);\n",
    "            System.out.println(\"[MQTTConsumer] connected\");            \n",
    "\n",
    "        } catch (MqttException e) {\n",
    "            \n",
    "            e.printStackTrace();\n",
    "        }\n",
    "    }\n",
    "\n",
    "    @Override\n",
    "    public void connectionLost(Throwable cause) {\n",
    "        System.out.println(\"[MQTTConsumer] Connection lost.  Reason: \" + cause);\n",
    "        System.exit(1);\n",
    "    }\n",
    "\n",
    "    @Override\n",
    "    public void messageArrived(String topic, MqttMessage message) throws MqttException {\n",
    "        System.out.println(String.format(\"[MQTTConsumer] New message received | topic: %s | payload: %s\", topic, new String(message.getPayload())));\n",
    "    }\n",
    "\n",
    "\n",
    "    @Override\n",
    "    public void deliveryComplete(IMqttDeliveryToken token) {\n",
    "\n",
    "    }\n",
    "\n",
    "}"
   ]
  },
  {
   "cell_type": "code",
   "execution_count": 4,
   "metadata": {},
   "outputs": [
    {
     "name": "stdout",
     "output_type": "stream",
     "text": [
      "[MQTTConsumer] connected\n"
     ]
    },
    {
     "data": {
      "text/plain": []
     },
     "execution_count": 4,
     "metadata": {},
     "output_type": "execute_result"
    },
    {
     "name": "stdout",
     "output_type": "stream",
     "text": [
      "[MQTTConsumer] New message received | topic: news/stream | payload: test1\n",
      "[MQTTConsumer] New message received | topic: news/stream | payload: test2\n",
      "[MQTTConsumer] New message received | topic: news/stream | payload: test3\n"
     ]
    }
   ],
   "source": [
    "MQTTConsumer consumer = new MQTTConsumer(\"tcp://localhost:1883\",\"news/stream\");\n",
    "return \"\";"
   ]
  },
  {
   "cell_type": "code",
   "execution_count": 5,
   "metadata": {},
   "outputs": [
    {
     "data": {
      "text/plain": [
       "com.twosigma.beaker.javash.bkr02a73051.MQTTProducer"
      ]
     },
     "execution_count": 5,
     "metadata": {},
     "output_type": "execute_result"
    }
   ],
   "source": [
    "// import org.eclipse.paho.client.mqttv3.;\n",
    "import org.eclipse.paho.client.mqttv3.IMqttDeliveryToken;\n",
    "import org.eclipse.paho.client.mqttv3.MqttConnectOptions;\n",
    "import org.eclipse.paho.client.mqttv3.MqttCallback;\n",
    "import org.eclipse.paho.client.mqttv3.MqttClient;\n",
    "import org.eclipse.paho.client.mqttv3.MqttException;\n",
    "import org.eclipse.paho.client.mqttv3.MqttMessage;\n",
    "import java.util.UUID;\n",
    "\n",
    "public class MQTTProducer implements MqttCallback {\n",
    "\n",
    "    private final int qos = 1;    \n",
    "    private MqttClient client;\n",
    "    private String uri;\n",
    "    private String user;\n",
    "    private String password;\n",
    "    private MqttConnectOptions connectionOptions;\n",
    "    private String clientID;\n",
    "    \n",
    "    \n",
    "    public MQTTProducer(String uri, String user, String password) {\n",
    "\n",
    "        this.uri = uri;\n",
    "        this.user = user;\n",
    "        this.password = password;\n",
    "        this.connect();\n",
    "        \n",
    "    }\n",
    "\n",
    "    public MQTTProducer(String uri) {\n",
    "\n",
    "        this.uri = uri;\n",
    "        this.connect();\n",
    "        \n",
    "    }\n",
    "\n",
    "    private void connect() {\n",
    "        \n",
    "        this.clientID = UUID.randomUUID().toString();      \n",
    "        this.connectionOptions = new MqttConnectOptions();\n",
    "        this.connectionOptions.setAutomaticReconnect(true);\n",
    "        this.connectionOptions.setCleanSession(true);\n",
    "        this.connectionOptions.setConnectionTimeout(20);\n",
    "        \n",
    "        \n",
    "        try {\n",
    "            client = new MqttClient(this.uri, this.clientID);\n",
    "            client.connect(this.connectionOptions);            \n",
    "            client.setCallback(this);\n",
    "            System.out.println(\"[MQTTProducer] Connected\");\n",
    "\n",
    "        } catch (MqttException e) {\n",
    "            \n",
    "            e.printStackTrace();\n",
    "        }\n",
    "    }        \n",
    "\n",
    "    public void sendMessage(String topic, String payload) {\n",
    "        \n",
    "        try{\n",
    "            MqttMessage message = new MqttMessage(payload.getBytes());\n",
    "            message.setQos(qos);\n",
    "            this.client.publish(topic, message); // Blocking publish\n",
    "            System.out.println(\"[MQTTProducer] Message sent\");    \n",
    "        } catch (MqttException e) {\n",
    "            \n",
    "            e.printStackTrace();\n",
    "        }        \n",
    "        \n",
    "    }        \n",
    "\n",
    "    \n",
    "\n",
    "    @Override\n",
    "    public void connectionLost(Throwable cause) {\n",
    "        System.out.println(\"[MQTTProducer] Connection lost.  Reason: \" + cause);\n",
    "        System.exit(1);\n",
    "    }\n",
    "\n",
    "    @Override\n",
    "    public void messageArrived(String topic, MqttMessage message) throws MqttException {\n",
    "        \n",
    "        System.out.println(String.format(\"[%s] %s\", topic, new String(message.getPayload())));\n",
    "    }\n",
    "\n",
    "    @Override\n",
    "    public void deliveryComplete(IMqttDeliveryToken token) {\n",
    "\n",
    "    }\n",
    "\n",
    "}"
   ]
  },
  {
   "cell_type": "code",
   "execution_count": 6,
   "metadata": {},
   "outputs": [
    {
     "name": "stdout",
     "output_type": "stream",
     "text": [
      "[MQTTConsumer] connected\n",
      "[MQTTProducer] Connected\n",
      "[MQTTProducer] Message sent\n",
      "[MQTTConsumer] New message received | topic: news/stream | payload: test1\n",
      "[MQTTConsumer] New message received | topic: news/stream | payload: test2\n",
      "[MQTTProducer] Message sent\n",
      "[MQTTProducer] Message sent\n",
      "[MQTTConsumer] New message received | topic: news/stream | payload: test3\n"
     ]
    },
    {
     "data": {
      "text/plain": [
       "null"
      ]
     },
     "execution_count": 6,
     "metadata": {},
     "output_type": "execute_result"
    }
   ],
   "source": [
    "MQTTConsumer consumer = new MQTTConsumer(\"tcp://localhost:1883\",\"news/stream\");\n",
    "MessageFilter mfilter\n",
    "mfilter\n",
    "\n",
    "consumer.connect(filter)\n",
    "filter.connect(pro)\n",
    "\n",
    "MQTTProducer producer = new MQTTProducer(\"tcp://localhost:1883\");\n",
    "producer.sendMessage(\"news/stream\",\"test1\");\n",
    "producer.sendMessage(\"news/stream\",\"test2\");\n",
    "producer.sendMessage(\"news/stream\",\"test3\");"
   ]
  },
  {
   "cell_type": "code",
   "execution_count": null,
   "metadata": {},
   "outputs": [],
   "source": []
  },
  {
   "cell_type": "code",
   "execution_count": null,
   "metadata": {},
   "outputs": [],
   "source": []
  },
  {
   "cell_type": "code",
   "execution_count": null,
   "metadata": {},
   "outputs": [],
   "source": []
  }
 ],
 "metadata": {
  "kernelspec": {
   "display_name": "Java",
   "language": "java",
   "name": "java"
  },
  "language_info": {
   "codemirror_mode": "text/x-java",
   "file_extension": ".java",
   "mimetype": "",
   "name": "Java",
   "nbconverter_exporter": "",
   "version": "11.0.4"
  }
 },
 "nbformat": 4,
 "nbformat_minor": 2
}
