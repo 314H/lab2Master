{
 "cells": [
  {
   "cell_type": "code",
   "execution_count": 1,
   "metadata": {
    "scrolled": true
   },
   "outputs": [
    {
     "name": "stdout",
     "output_type": "stream",
     "text": [
      "Connected.\n"
     ]
    },
    {
     "data": {
      "application/vnd.jupyter.widget-view+json": {
       "model_id": "065816389e314e46b9d4aae552ad6916",
       "version_major": 2,
       "version_minor": 0
      },
      "text/plain": [
       "Accordion(_titles={'0': 'Message'})"
      ]
     },
     "metadata": {},
     "output_type": "display_data"
    }
   ],
   "source": [
    "import ipywidgets as widgets\n",
    "import shutil\n",
    "import os\n",
    "\n",
    "import time\n",
    "import random\n",
    "import json\n",
    "\n",
    "import paho.mqtt.client as paho\n",
    "import random\n",
    "\n",
    "def on_publish(client,userdata,result):             #create function for callback\n",
    "    print(\"Message published!\")\n",
    "\n",
    "class Component(object):\n",
    "    presentation = None\n",
    "    broker=\"localhost\"\n",
    "    port=1883 \n",
    "    pub_topic=\"news/stream\"\n",
    "    client1 = None\n",
    "\n",
    "    @classmethod\n",
    "    def start(cls):\n",
    "        cls.presentation = widgets.Accordion(children=[])\n",
    "        cls.presentation.set_title(0, \"Message\")\n",
    "        cls.client1 = paho.Client(\"publisher{0}\".format(random.randint(0,99999999)))                           #create client object\n",
    "        if(not cls.client1.connect(cls.broker, cls.port)):                              #establish connection\n",
    "            print(\"Connected.\")\n",
    "        return cls.presentation\n",
    "    \n",
    "    @classmethod\n",
    "    def notify(cls, topico, mensagem):\n",
    "        item = {\n",
    "           'title':    mensagem,\n",
    "           'summary':  mensagem,\n",
    "           'link':     mensagem,\n",
    "           'source':   'component',\n",
    "           'author':   'component',\n",
    "           'approved': 'approved'\n",
    "        }\n",
    "\n",
    "        cls.client1.publish(topico, json.dumps(item)) \n",
    "        cls.presentation.children = tuple(list(cls.presentation.children) + [widgets.VBox([widgets.Text(description = topico, value = mensagem)])])\n",
    "        cls.presentation.set_title(len(cls.presentation.children)-1, \"Message\")\n",
    "        \n",
    "        return cls.presentation\n",
    "\n",
    "Component.start()"
   ]
  },
  {
   "cell_type": "code",
   "execution_count": 2,
   "metadata": {
    "scrolled": false
   },
   "outputs": [
    {
     "data": {
      "text/html": [
       "<script>\n",
       "window.addEventListener(\"message\", function(event) {\n",
       "   console.log(event.data);\n",
       "   if (typeof event.data != \"string\" && event.data.topic && event.data.topic != \"control/render/example\")\n",
       "      IPython.notebook.kernel.execute(\n",
       "         'Component.notify(\"' + event.data.topic + '\", \"' + event.data.message.parameter + '\")');\n",
       "});\n",
       "</script>\n",
       "<iframe width=\"100%\" height=\"600px\" src=\"harena/dccs/playground/index.html\"><iframe>\n"
      ],
      "text/plain": [
       "<IPython.core.display.HTML object>"
      ]
     },
     "metadata": {},
     "output_type": "display_data"
    }
   ],
   "source": [
    "%%html\n",
    "<script>\n",
    "window.addEventListener(\"message\", function(event) {\n",
    "   console.log(event.data);\n",
    "   if (typeof event.data != \"string\" && event.data.topic && event.data.topic != \"control/render/example\")\n",
    "      IPython.notebook.kernel.execute(\n",
    "         'Component.notify(\"' + event.data.topic + '\", \"' + event.data.message.parameter + '\")');\n",
    "});\n",
    "</script>\n",
    "<iframe width=\"100%\" height=\"600px\" src=\"harena/dccs/playground/index.html\"><iframe>"
   ]
  }
 ],
 "metadata": {
  "kernelspec": {
   "display_name": "Python 3",
   "language": "python",
   "name": "python3"
  },
  "language_info": {
   "codemirror_mode": {
    "name": "ipython",
    "version": 3
   },
   "file_extension": ".py",
   "mimetype": "text/x-python",
   "name": "python",
   "nbconvert_exporter": "python",
   "pygments_lexer": "ipython3",
   "version": "3.7.3"
  },
  "toc": {
   "base_numbering": 1,
   "nav_menu": {},
   "number_sections": false,
   "sideBar": false,
   "skip_h1_title": false,
   "title_cell": "Table of Contents",
   "title_sidebar": "Contents",
   "toc_cell": false,
   "toc_position": {},
   "toc_section_display": false,
   "toc_window_display": false
  }
 },
 "nbformat": 4,
 "nbformat_minor": 2
}
