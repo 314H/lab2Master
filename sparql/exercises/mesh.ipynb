{
 "cells": [
  {
   "cell_type": "markdown",
   "metadata": {},
   "source": [
    "# MeSH\n",
    "\n",
    "Medical Subject Headings (MeSH)\n",
    "\n",
    "## MeSH SPARQL endpoint\n",
    "Explore o endpoint em: http://id.nlm.nih.gov/mesh\n",
    "\n",
    "O primeiro passo é realizar a conexão com um endpoint (servidor que responderá as requisições em SPARQL) para o MeSH."
   ]
  },
  {
   "cell_type": "code",
   "execution_count": 2,
   "metadata": {},
   "outputs": [
    {
     "data": {
      "text/html": [
       "<div class=\"krn-spql\"><div class=\"magic\">Endpoint set to: http://id.nlm.nih.gov/mesh/sparql</div><div class=\"magic\">Display: table</div><div class=\"magic\">Result maximum size: unlimited</div></div>"
      ],
      "text/plain": [
       "Endpoint set to: http://id.nlm.nih.gov/mesh/sparql\n",
       "Display: table\n",
       "Result maximum size: unlimited\n"
      ]
     },
     "metadata": {},
     "output_type": "display_data"
    }
   ],
   "source": [
    "%endpoint http://id.nlm.nih.gov/mesh/sparql\n",
    "%display table\n",
    "%show all"
   ]
  },
  {
   "cell_type": "markdown",
   "metadata": {},
   "source": [
    "## MeSH Namespaces\n",
    "\n",
    "No caso do MeSH você precisa declarar explicitamente antes do SPARQL os mapeamentos de namespace usando o PREFIX."
   ]
  },
  {
   "cell_type": "code",
   "execution_count": 3,
   "metadata": {},
   "outputs": [
    {
     "data": {
      "text/html": [
       "<div class=\"krn-spql\"><table><tr class=hdr><th>concept</th></tr><tr class=odd><td class=val><a href=\"http://id.nlm.nih.gov/mesh/M0000001\" target=\"_other\">http://id.nlm.nih.gov/mesh/M0000001</a></td></tr><tr class=even><td class=val><a href=\"http://id.nlm.nih.gov/mesh/M0000002\" target=\"_other\">http://id.nlm.nih.gov/mesh/M0000002</a></td></tr><tr class=odd><td class=val><a href=\"http://id.nlm.nih.gov/mesh/M0000003\" target=\"_other\">http://id.nlm.nih.gov/mesh/M0000003</a></td></tr><tr class=even><td class=val><a href=\"http://id.nlm.nih.gov/mesh/M0000004\" target=\"_other\">http://id.nlm.nih.gov/mesh/M0000004</a></td></tr><tr class=odd><td class=val><a href=\"http://id.nlm.nih.gov/mesh/M0000005\" target=\"_other\">http://id.nlm.nih.gov/mesh/M0000005</a></td></tr><tr class=even><td class=val><a href=\"http://id.nlm.nih.gov/mesh/M0000006\" target=\"_other\">http://id.nlm.nih.gov/mesh/M0000006</a></td></tr><tr class=odd><td class=val><a href=\"http://id.nlm.nih.gov/mesh/M0000007\" target=\"_other\">http://id.nlm.nih.gov/mesh/M0000007</a></td></tr><tr class=even><td class=val><a href=\"http://id.nlm.nih.gov/mesh/M0000008\" target=\"_other\">http://id.nlm.nih.gov/mesh/M0000008</a></td></tr><tr class=odd><td class=val><a href=\"http://id.nlm.nih.gov/mesh/M0000009\" target=\"_other\">http://id.nlm.nih.gov/mesh/M0000009</a></td></tr><tr class=even><td class=val><a href=\"http://id.nlm.nih.gov/mesh/M0000010\" target=\"_other\">http://id.nlm.nih.gov/mesh/M0000010</a></td></tr><tr class=odd><td class=val><a href=\"http://id.nlm.nih.gov/mesh/M0000011\" target=\"_other\">http://id.nlm.nih.gov/mesh/M0000011</a></td></tr><tr class=even><td class=val><a href=\"http://id.nlm.nih.gov/mesh/M0000012\" target=\"_other\">http://id.nlm.nih.gov/mesh/M0000012</a></td></tr><tr class=odd><td class=val><a href=\"http://id.nlm.nih.gov/mesh/M0000013\" target=\"_other\">http://id.nlm.nih.gov/mesh/M0000013</a></td></tr><tr class=even><td class=val><a href=\"http://id.nlm.nih.gov/mesh/M0000014\" target=\"_other\">http://id.nlm.nih.gov/mesh/M0000014</a></td></tr><tr class=odd><td class=val><a href=\"http://id.nlm.nih.gov/mesh/M0000015\" target=\"_other\">http://id.nlm.nih.gov/mesh/M0000015</a></td></tr><tr class=even><td class=val><a href=\"http://id.nlm.nih.gov/mesh/M0000016\" target=\"_other\">http://id.nlm.nih.gov/mesh/M0000016</a></td></tr><tr class=odd><td class=val><a href=\"http://id.nlm.nih.gov/mesh/M0000017\" target=\"_other\">http://id.nlm.nih.gov/mesh/M0000017</a></td></tr><tr class=even><td class=val><a href=\"http://id.nlm.nih.gov/mesh/M0000018\" target=\"_other\">http://id.nlm.nih.gov/mesh/M0000018</a></td></tr><tr class=odd><td class=val><a href=\"http://id.nlm.nih.gov/mesh/M0000019\" target=\"_other\">http://id.nlm.nih.gov/mesh/M0000019</a></td></tr><tr class=even><td class=val><a href=\"http://id.nlm.nih.gov/mesh/M0000020\" target=\"_other\">http://id.nlm.nih.gov/mesh/M0000020</a></td></tr></table><div class=\"tinfo\">Total: 20, Shown: 20</div></div>"
      ]
     },
     "metadata": {},
     "output_type": "display_data"
    }
   ],
   "source": [
    "PREFIX rdf: <http://www.w3.org/1999/02/22-rdf-syntax-ns#>\n",
    "PREFIX rdfs: <http://www.w3.org/2000/01/rdf-schema#>\n",
    "PREFIX xsd: <http://www.w3.org/2001/XMLSchema#>\n",
    "PREFIX owl: <http://www.w3.org/2002/07/owl#>\n",
    "PREFIX meshv: <http://id.nlm.nih.gov/mesh/vocab#>\n",
    "PREFIX mesh: <http://id.nlm.nih.gov/mesh/>\n",
    "PREFIX mesh2015: <http://id.nlm.nih.gov/mesh/2015/>\n",
    "PREFIX mesh2016: <http://id.nlm.nih.gov/mesh/2016/>\n",
    "PREFIX mesh2017: <http://id.nlm.nih.gov/mesh/2017/>\n",
    "PREFIX mesh2018: <http://id.nlm.nih.gov/mesh/2018/>\n",
    "\n",
    "SELECT ?concept\n",
    "FROM <http://id.nlm.nih.gov/mesh>\n",
    "WHERE {\n",
    "    ?concept a meshv:Concept\n",
    "}\n",
    "ORDER BY ?concept\n",
    "LIMIT 20"
   ]
  },
  {
   "cell_type": "code",
   "execution_count": 4,
   "metadata": {},
   "outputs": [
    {
     "data": {
      "text/html": [
       "<div class=\"krn-spql\"><table><tr class=hdr><th>concept</th>\n",
       "<th>label</th></tr><tr class=odd><td class=val><a href=\"http://id.nlm.nih.gov/mesh/M0454469\" target=\"_other\">http://id.nlm.nih.gov/mesh/M0454469</a></td>\n",
       "<td class=val>( -)-1-(2,5-dimethoxy-4-iodophenyl)-2-aminopropane HCl</td></tr><tr class=even><td class=val><a href=\"http://id.nlm.nih.gov/mesh/M0519049\" target=\"_other\">http://id.nlm.nih.gov/mesh/M0519049</a></td>\n",
       "<td class=val>( R)-6-(( S)-2-hydroxy-4-(4-hydroxyphenyl)butyl)-5,6-dihydropyran-2-one</td></tr><tr class=odd><td class=val><a href=\"http://id.nlm.nih.gov/mesh/M0507023\" target=\"_other\">http://id.nlm.nih.gov/mesh/M0507023</a></td>\n",
       "<td class=val>(((((4-hydroxy-4,4-diphosphonobutyl)carbamoylmethyl)carbamoylmethyl)carbamoylmethyl)carbamoylmethanethiolate)oxorhenium(V)</td></tr><tr class=even><td class=val><a href=\"http://id.nlm.nih.gov/mesh/M0400024\" target=\"_other\">http://id.nlm.nih.gov/mesh/M0400024</a></td>\n",
       "<td class=val>(((1,2-5,6-di-O,O-isopropylideneglucofuranos-3-yl)oxocarbonyl)methyl)cobalt tricarbonyl triphenylphosphine</td></tr><tr class=odd><td class=val><a href=\"http://id.nlm.nih.gov/mesh/M0276448\" target=\"_other\">http://id.nlm.nih.gov/mesh/M0276448</a></td>\n",
       "<td class=val>(((1,2-dihydro-2-oxo-4-quinolinyl)methyl)thio)-N-(((4-(1-piperidinylmethyl)-2-pyridinyl)oxy)-2-butenyl)acetamide</td></tr><tr class=even><td class=val><a href=\"http://id.nlm.nih.gov/mesh/M0526068\" target=\"_other\">http://id.nlm.nih.gov/mesh/M0526068</a></td>\n",
       "<td class=val>(((1,3-dibenzyl-2,5-dioxo-4-imidazolidinylidene) methyl)sulfanyl) methyl acetate</td></tr><tr class=odd><td class=val><a href=\"http://id.nlm.nih.gov/mesh/M0139200\" target=\"_other\">http://id.nlm.nih.gov/mesh/M0139200</a></td>\n",
       "<td class=val>(((1-ethynylcyclohexyl)oxy)methyl)-1-piperazine-ethanol</td></tr><tr class=even><td class=val><a href=\"http://id.nlm.nih.gov/mesh/M0184290\" target=\"_other\">http://id.nlm.nih.gov/mesh/M0184290</a></td>\n",
       "<td class=val>(((11beta,16alpha)-9-fluoro-11,17,21-trihydroxy-16-methyl-3,20-dioxopregn-1,4-dien-4-yl)thio)acetic acid</td></tr><tr class=odd><td class=val><a href=\"http://id.nlm.nih.gov/mesh/M0403484\" target=\"_other\">http://id.nlm.nih.gov/mesh/M0403484</a></td>\n",
       "<td class=val>(((1R)-(1alpha(Z),2beta(1E,3R*),3alpha,5alpha))-7-(3,5-dihydroxy-2-(3-hydroxy-4-(3-trifluoromethyl)phenoxy)-1-butenyl)cyclopentyl)-5-heptenoic acid, 1-methylethyl ester</td></tr><tr class=even><td class=val><a href=\"http://id.nlm.nih.gov/mesh/M0516535\" target=\"_other\">http://id.nlm.nih.gov/mesh/M0516535</a></td>\n",
       "<td class=val>(((2-(2-(2,4-dichlorophenyl)-4-(2-methyl-3-chlorophenyl)-1-ylmethyl)carbamoyl)methyl)-5-oxopyrrole-1-yl)-N-(3-piperidinylpropyl)acetamide</td></tr><tr class=odd><td class=val><a href=\"http://id.nlm.nih.gov/mesh/M0434470\" target=\"_other\">http://id.nlm.nih.gov/mesh/M0434470</a></td>\n",
       "<td class=val>(((2H)-benzo(d)1,3-dioxalan-5-ylmethyl)amino)((6,7-dimethoxyquinazolin-4-yl)piperazinyl)methane-1-thione</td></tr><tr class=even><td class=val><a href=\"http://id.nlm.nih.gov/mesh/M0158534\" target=\"_other\">http://id.nlm.nih.gov/mesh/M0158534</a></td>\n",
       "<td class=val>(((3-(1-benzimidazoyl)-1,1-dimethylpropyl)amino)methyl)-2-fluor-4-hydroxybenzylol</td></tr><tr class=odd><td class=val><a href=\"http://id.nlm.nih.gov/mesh/M0228593\" target=\"_other\">http://id.nlm.nih.gov/mesh/M0228593</a></td>\n",
       "<td class=val>(((4-(4-amidino-N-methylbenzamido)acetyl)-1,2-phenylene)dioxy)diacetic acid</td></tr><tr class=even><td class=val><a href=\"http://id.nlm.nih.gov/mesh/M0527795\" target=\"_other\">http://id.nlm.nih.gov/mesh/M0527795</a></td>\n",
       "<td class=val>(((4-(aminosulfonyl)phenyl)methyl)-amino)-6-oxohexanoic acid</td></tr><tr class=odd><td class=val><a href=\"http://id.nlm.nih.gov/mesh/M0256546\" target=\"_other\">http://id.nlm.nih.gov/mesh/M0256546</a></td>\n",
       "<td class=val>(((4-(bis(2-iodoethyl)amino)phenyl)oxy)carbonyl)glutamic acid</td></tr><tr class=even><td class=val><a href=\"http://id.nlm.nih.gov/mesh/M0495451\" target=\"_other\">http://id.nlm.nih.gov/mesh/M0495451</a></td>\n",
       "<td class=val>(((4-(ethoxycarbonyl)phenyl)amino)(2,2,4,4-tetramethyl thiochroman-6-yl)amino) methan-1-one</td></tr><tr class=odd><td class=val><a href=\"http://id.nlm.nih.gov/mesh/M0495452\" target=\"_other\">http://id.nlm.nih.gov/mesh/M0495452</a></td>\n",
       "<td class=val>(((4-(ethoxycarbonyl)phenyl)amino)(2,2,4,4-tetramethyl thiochroman-6-yl)amino) methane-1-thione</td></tr><tr class=even><td class=val><a href=\"http://id.nlm.nih.gov/mesh/M0191904\" target=\"_other\">http://id.nlm.nih.gov/mesh/M0191904</a></td>\n",
       "<td class=val>(((4-bromotetrahydro-2H-pyran-3-yl)amino)methyl)-2-nitro-1H-imidazole-1-ethanol</td></tr><tr class=odd><td class=val><a href=\"http://id.nlm.nih.gov/mesh/M0299639\" target=\"_other\">http://id.nlm.nih.gov/mesh/M0299639</a></td>\n",
       "<td class=val>(((4-chloromethyl)benzoyl)amino)-tetramethylrhodamine</td></tr><tr class=even><td class=val><a href=\"http://id.nlm.nih.gov/mesh/M0452372\" target=\"_other\">http://id.nlm.nih.gov/mesh/M0452372</a></td>\n",
       "<td class=val>(((4-nitrophenyl)amino)(2,2,4,4-tetramethyl thiochroman-6-yl)amino) methane-1-thione</td></tr></table><div class=\"tinfo\">Total: 20, Shown: 20</div></div>"
      ]
     },
     "metadata": {},
     "output_type": "display_data"
    }
   ],
   "source": [
    "PREFIX rdf: <http://www.w3.org/1999/02/22-rdf-syntax-ns#>\n",
    "PREFIX rdfs: <http://www.w3.org/2000/01/rdf-schema#>\n",
    "PREFIX xsd: <http://www.w3.org/2001/XMLSchema#>\n",
    "PREFIX owl: <http://www.w3.org/2002/07/owl#>\n",
    "PREFIX meshv: <http://id.nlm.nih.gov/mesh/vocab#>\n",
    "PREFIX mesh: <http://id.nlm.nih.gov/mesh/>\n",
    "PREFIX mesh2015: <http://id.nlm.nih.gov/mesh/2015/>\n",
    "PREFIX mesh2016: <http://id.nlm.nih.gov/mesh/2016/>\n",
    "PREFIX mesh2017: <http://id.nlm.nih.gov/mesh/2017/>\n",
    "PREFIX mesh2018: <http://id.nlm.nih.gov/mesh/2018/>\n",
    "\n",
    "SELECT ?concept ?label\n",
    "FROM <http://id.nlm.nih.gov/mesh>\n",
    "WHERE {\n",
    "    ?concept a meshv:Concept.\n",
    "    ?concept rdfs:label ?label\n",
    "}\n",
    "ORDER BY ?label\n",
    "LIMIT 20"
   ]
  },
  {
   "cell_type": "code",
   "execution_count": 8,
   "metadata": {},
   "outputs": [
    {
     "data": {
      "text/html": [
       "<div class=\"krn-spql\"><div class=\"krn-error\"><span class=\"title\">Error:</span> SPARQL error: EndPointInternalError: endpoint returned code 500 and response. <br/><br/>Response:<br/>b'Lexical error at line 16, column 27.  Encountered: &quot;@&quot; (64), after : &quot;en&quot;'</div></div>"
      ],
      "text/plain": [
       "Error: SPARQL error: EndPointInternalError: endpoint returned code 500 and response. \n",
       "\n",
       "Response:\n",
       "b'Lexical error at line 16, column 27.  Encountered: \"@\" (64), after : \"en\"'"
      ]
     },
     "metadata": {},
     "output_type": "display_data"
    }
   ],
   "source": [
    "PREFIX rdf: <http://www.w3.org/1999/02/22-rdf-syntax-ns#>\n",
    "PREFIX rdfs: <http://www.w3.org/2000/01/rdf-schema#>\n",
    "PREFIX xsd: <http://www.w3.org/2001/XMLSchema#>\n",
    "PREFIX owl: <http://www.w3.org/2002/07/owl#>\n",
    "PREFIX meshv: <http://id.nlm.nih.gov/mesh/vocab#>\n",
    "PREFIX mesh: <http://id.nlm.nih.gov/mesh/>\n",
    "PREFIX mesh2015: <http://id.nlm.nih.gov/mesh/2015/>\n",
    "PREFIX mesh2016: <http://id.nlm.nih.gov/mesh/2016/>\n",
    "PREFIX mesh2017: <http://id.nlm.nih.gov/mesh/2017/>\n",
    "PREFIX mesh2018: <http://id.nlm.nih.gov/mesh/2018/>\n",
    "\n",
    "SELECT ?concept\n",
    "FROM <http://id.nlm.nih.gov/mesh>\n",
    "WHERE {\n",
    "    ?concept a meshv:Concept.\n",
    "    ?concept rdfs:label en@\"Myocardial Infarction\"\n",
    "}\n",
    "ORDER BY ?label\n",
    "LIMIT 20"
   ]
  },
  {
   "cell_type": "code",
   "execution_count": null,
   "metadata": {},
   "outputs": [],
   "source": []
  }
 ],
 "metadata": {
  "kernelspec": {
   "display_name": "SPARQL",
   "language": "sparql",
   "name": "sparql"
  },
  "language_info": {
   "codemirror_mode": {
    "name": "sparql"
   },
   "mimetype": "application/sparql-query",
   "name": "sparql",
   "pygments_lexer": "sparql-nb"
  }
 },
 "nbformat": 4,
 "nbformat_minor": 2
}
