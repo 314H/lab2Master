{
 "cells": [
  {
   "cell_type": "code",
   "execution_count": 1,
   "metadata": {},
   "outputs": [],
   "source": [
    "%defaultDatasource jdbc:h2:mem:db"
   ]
  },
  {
   "cell_type": "code",
   "execution_count": 2,
   "metadata": {},
   "outputs": [],
   "source": [
    "DROP TABLE IF EXISTS Drug;\n",
    "DROP TABLE IF EXISTS Pathology;\n",
    "DROP TABLE IF EXISTS DrugUse;\n",
    "\n",
    "CREATE TABLE Drug (\n",
    "  code INT NOT NULL,\n",
    "  name VARCHAR(200) NOT NULL,\n",
    "  PRIMARY KEY(code)\n",
    ") AS SELECT\n",
    "    code,\n",
    "    name\n",
    "FROM CSVREAD('../data/faers-2017/drug.csv');\n",
    "\n",
    "CREATE TABLE Pathology (\n",
    "  code INT NOT NULL,\n",
    "  name VARCHAR(200) NOT NULL,\n",
    "  PRIMARY KEY(code)\n",
    ") AS SELECT\n",
    "    code,\n",
    "    name\n",
    "FROM CSVREAD('../data/faers-2017/pathology.csv');\n",
    "\n",
    "CREATE TABLE DrugUse (\n",
    "  idPerson INT NOT NULL,\n",
    "  codePathology INT NOT NULL,\n",
    "  codeDrug INT NOT NULL,\n",
    "  FOREIGN KEY(codePathology)\n",
    "    REFERENCES Pathology(code)\n",
    "      ON DELETE NO ACTION\n",
    "      ON UPDATE NO ACTION,\n",
    "  FOREIGN KEY(codeDrug)\n",
    "    REFERENCES Drug(code)\n",
    "      ON DELETE NO ACTION\n",
    "      ON UPDATE NO ACTION,\n",
    ") AS SELECT\n",
    "    idPerson,\n",
    "    codePathology,\n",
    "    codeDrug\n",
    "FROM CSVREAD('../data/faers-2017/drug-use.csv');"
   ]
  },
  {
   "cell_type": "code",
   "execution_count": 3,
   "metadata": {},
   "outputs": [
    {
     "data": {
      "application/vnd.jupyter.widget-view+json": {
       "model_id": "8f6015a0-bf26-4a00-bb47-5ec0c11132eb",
       "version_major": 2,
       "version_minor": 0
      },
      "method": "display_data"
     },
     "metadata": {},
     "output_type": "display_data"
    },
    {
     "data": {
      "application/vnd.jupyter.widget-view+json": {
       "model_id": "e668e128-207c-4415-b715-fda5307a3403",
       "version_major": 2,
       "version_minor": 0
      },
      "method": "display_data"
     },
     "metadata": {},
     "output_type": "display_data"
    },
    {
     "data": {
      "application/vnd.jupyter.widget-view+json": {
       "model_id": "19907983-19f2-4f87-833f-6590c694e49a",
       "version_major": 2,
       "version_minor": 0
      },
      "method": "display_data"
     },
     "metadata": {},
     "output_type": "display_data"
    }
   ],
   "source": [
    "SELECT * FROM Drug;\n",
    "SELECT * FROM Pathology;\n",
    "SELECT * FROM DrugUse;"
   ]
  },
  {
   "cell_type": "markdown",
   "metadata": {},
   "source": [
    "# 1) Interação entre medicamentos\n",
    "Considere como uma interação toda vez que um medicamento A é tomado em conjunto com um medicamento B por uma pessoa. Crie uma consulta que retorne para cada par de medicamento A,B o número de interações."
   ]
  },
  {
   "cell_type": "code",
   "execution_count": null,
   "metadata": {},
   "outputs": [],
   "source": []
  },
  {
   "cell_type": "markdown",
   "metadata": {},
   "source": [
    "# 2) Tratamento comum\n",
    "Crie uma consulta que retorne pares de medicamentos A,B e o número de vezes que foram usados para tratar a mesma patologia em pessoas diferentes."
   ]
  },
  {
   "cell_type": "code",
   "execution_count": null,
   "metadata": {},
   "outputs": [],
   "source": []
  }
 ],
 "metadata": {
  "kernelspec": {
   "display_name": "SQL",
   "language": "SQL",
   "name": "sql"
  },
  "language_info": {
   "codemirror_mode": "sql",
   "file_extension": ".sql",
   "mimetype": "",
   "name": "SQL",
   "nbconverter_exporter": "",
   "version": ""
  }
 },
 "nbformat": 4,
 "nbformat_minor": 2
}
