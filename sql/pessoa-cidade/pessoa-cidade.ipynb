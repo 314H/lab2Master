{
 "cells": [
  {
   "cell_type": "code",
   "execution_count": 1,
   "metadata": {},
   "outputs": [],
   "source": [
    "%defaultDatasource jdbc:h2:mem:db"
   ]
  },
  {
   "cell_type": "code",
   "execution_count": 2,
   "metadata": {},
   "outputs": [],
   "source": [
    "DROP TABLE IF EXISTS Cidade;\n",
    "DROP TABLE IF EXISTS Pessoa;"
   ]
  },
  {
   "cell_type": "code",
   "execution_count": 3,
   "metadata": {},
   "outputs": [],
   "source": [
    "-- Pessoa(nome, nome_da_mãe, ano_nascimento, nome_cidade_natal)\n",
    "--   nome_cidade_natal → CHE Cidade\n",
    "-- Cidade(nome_cidade, sigla_estado)\n",
    "\n",
    "CREATE TABLE Cidade (\n",
    "  Nome_Cidade VARCHAR(100) NOT NULL,\n",
    "  Sigla_Estado VARCHAR(2) NOT NULL,\n",
    "  PRIMARY KEY(Nome_Cidade)\n",
    ");\n",
    "\n",
    "CREATE TABLE Pessoa (\n",
    "  Nome VARCHAR(100) NOT NULL,\n",
    "  Nome_Mae VARCHAR(100),\n",
    "  Ano_Nascimento INTEGER NOT NULL,\n",
    "  Cidade_Natal VARCHAR(100) NOT NULL,\n",
    "  PRIMARY KEY(Nome),\n",
    "  FOREIGN KEY(Nome_Mae)\n",
    "    REFERENCES Pessoa(Nome)\n",
    "      ON DELETE NO ACTION\n",
    "      ON UPDATE NO ACTION,\n",
    "  FOREIGN KEY(Cidade_Natal)\n",
    "    REFERENCES Cidade(Nome_Cidade)\n",
    "      ON DELETE NO ACTION\n",
    "      ON UPDATE NO ACTION\n",
    ");"
   ]
  },
  {
   "cell_type": "code",
   "execution_count": 4,
   "metadata": {},
   "outputs": [],
   "source": [
    "INSERT INTO Cidade VALUES ('Asdrubolandia', 'AD');\n",
    "INSERT INTO Cidade VALUES ('Campinas', 'SP');\n",
    "\n",
    "INSERT INTO Pessoa VALUES ('Melissa', NULL, 1930, 'Asdrubolandia');\n",
    "INSERT INTO Pessoa VALUES ('Adrubal', 'Melissa', 1970, 'Asdrubolandia');\n",
    "INSERT INTO Pessoa VALUES ('Quincas', 'Melissa', 1973, 'Asdrubolandia');\n",
    "INSERT INTO Pessoa VALUES ('Doriana', NULL, 1970, 'Campinas');\n",
    "INSERT INTO Pessoa VALUES ('Alcebiades', 'Doriana', 2010, 'Campinas');"
   ]
  },
  {
   "cell_type": "code",
   "execution_count": 5,
   "metadata": {},
   "outputs": [
    {
     "data": {
      "application/vnd.jupyter.widget-view+json": {
       "model_id": "df588152-ea40-43f5-b72b-fdff28ca144c",
       "version_major": 2,
       "version_minor": 0
      },
      "method": "display_data"
     },
     "metadata": {},
     "output_type": "display_data"
    }
   ],
   "source": [
    "SELECT * FROM Cidade;"
   ]
  },
  {
   "cell_type": "code",
   "execution_count": 6,
   "metadata": {},
   "outputs": [
    {
     "data": {
      "application/vnd.jupyter.widget-view+json": {
       "model_id": "eed53d66-fe47-4622-a7e7-8ef24db2847f",
       "version_major": 2,
       "version_minor": 0
      },
      "method": "display_data"
     },
     "metadata": {},
     "output_type": "display_data"
    }
   ],
   "source": [
    "SELECT * FROM Pessoa;"
   ]
  },
  {
   "cell_type": "code",
   "execution_count": 7,
   "metadata": {},
   "outputs": [
    {
     "data": {
      "application/vnd.jupyter.widget-view+json": {
       "model_id": "76bd0f10-1fe6-45e3-af84-a826c0193a4c",
       "version_major": 2,
       "version_minor": 0
      },
      "method": "display_data"
     },
     "metadata": {},
     "output_type": "display_data"
    }
   ],
   "source": [
    "SELECT DISTINCT Nome_Mae FROM Pessoa WHERE Nome_Mae IS NOT NULL;"
   ]
  },
  {
   "cell_type": "code",
   "execution_count": 8,
   "metadata": {},
   "outputs": [
    {
     "data": {
      "text/plain": [
       "Melissa"
      ]
     },
     "execution_count": 8,
     "metadata": {},
     "output_type": "execute_result"
    }
   ],
   "source": [
    "SELECT DISTINCT Nome_Mae\n",
    "       FROM Pessoa\n",
    "       WHERE Nome_Mae IS NOT NULL AND\n",
    "             Ano_Nascimento <= 2009;"
   ]
  },
  {
   "cell_type": "code",
   "execution_count": 12,
   "metadata": {},
   "outputs": [
    {
     "data": {
      "application/vnd.jupyter.widget-view+json": {
       "model_id": "e29317b7-c68a-4073-a25e-3edc73c1dcc2",
       "version_major": 2,
       "version_minor": 0
      },
      "method": "display_data"
     },
     "metadata": {},
     "output_type": "display_data"
    }
   ],
   "source": [
    "SELECT P.Nome, C.Sigla_Estado\n",
    "       FROM Pessoa P, Cidade C\n",
    "       WHERE P.Cidade_Natal = C.Nome_Cidade AND C.Sigla_Estado = 'SP';"
   ]
  },
  {
   "cell_type": "code",
   "execution_count": 13,
   "metadata": {},
   "outputs": [
    {
     "data": {
      "application/vnd.jupyter.widget-view+json": {
       "model_id": "98009b25-7160-4616-85f0-7af29025b50f",
       "version_major": 2,
       "version_minor": 0
      },
      "method": "display_data"
     },
     "metadata": {},
     "output_type": "display_data"
    }
   ],
   "source": [
    "SELECT P.Nome, C.Sigla_Estado\n",
    "       FROM Pessoa P JOIN Cidade C\n",
    "            ON P.Cidade_Natal = C.Nome_Cidade\n",
    "       WHERE C.Sigla_Estado = 'SP';"
   ]
  },
  {
   "cell_type": "code",
   "execution_count": 16,
   "metadata": {},
   "outputs": [
    {
     "data": {
      "application/vnd.jupyter.widget-view+json": {
       "model_id": "a1c712bd-ba40-41e6-b8b7-a59bf91e4378",
       "version_major": 2,
       "version_minor": 0
      },
      "method": "display_data"
     },
     "metadata": {},
     "output_type": "display_data"
    }
   ],
   "source": [
    "SELECT C.Sigla_Estado, COUNT(*) Quantidade_Pessoas\n",
    "       FROM Pessoa P, Cidade C\n",
    "       WHERE P.Cidade_Natal = C.Nome_Cidade\n",
    "       GROUP BY C.Sigla_Estado;"
   ]
  },
  {
   "cell_type": "code",
   "execution_count": null,
   "metadata": {},
   "outputs": [],
   "source": []
  }
 ],
 "metadata": {
  "kernelspec": {
   "display_name": "SQL",
   "language": "SQL",
   "name": "sql"
  },
  "language_info": {
   "codemirror_mode": "sql",
   "file_extension": ".sql",
   "mimetype": "",
   "name": "SQL",
   "nbconverter_exporter": "",
   "version": ""
  },
  "toc": {
   "base_numbering": 1,
   "nav_menu": {},
   "number_sections": false,
   "sideBar": false,
   "skip_h1_title": false,
   "title_cell": "Table of Contents",
   "title_sidebar": "Contents",
   "toc_cell": false,
   "toc_position": {},
   "toc_section_display": false,
   "toc_window_display": false
  }
 },
 "nbformat": 4,
 "nbformat_minor": 5
}
