{
 "cells": [
  {
   "cell_type": "code",
   "execution_count": 1,
   "metadata": {},
   "outputs": [],
   "source": [
    "%defaultDatasource jdbc:h2:mem:db"
   ]
  },
  {
   "cell_type": "code",
   "execution_count": 2,
   "metadata": {},
   "outputs": [],
   "source": [
    "DROP TABLE IF EXISTS Cidade;\n",
    "DROP TABLE IF EXISTS Pessoa;"
   ]
  },
  {
   "cell_type": "code",
   "execution_count": 3,
   "metadata": {},
   "outputs": [],
   "source": [
    "-- Pessoa(nome, nome_da_mãe, ano_nascimento, nome_cidade_natal)\n",
    "--   nome_cidade_natal → CHE Cidade\n",
    "-- Cidade(nome_cidade, sigla_estado)\n",
    "\n",
    "CREATE TABLE Cidade (\n",
    "  Nome_Cidade VARCHAR(100) NOT NULL,\n",
    "  Sigla_Estado VARCHAR(2) NOT NULL,\n",
    "  PRIMARY KEY(Nome_Cidade)\n",
    ");\n",
    "\n",
    "CREATE TABLE Pessoa (\n",
    "  Nome VARCHAR(100) NOT NULL,\n",
    "  Nome_Mae VARCHAR(100),\n",
    "  Ano_Nascimento INTEGER NOT NULL,\n",
    "  Nome_Cidade_Natal VARCHAR(100) NOT NULL,\n",
    "  PRIMARY KEY(Nome),\n",
    "  FOREIGN KEY(Nome_Mae)\n",
    "    REFERENCES Pessoa(Nome)\n",
    "      ON DELETE NO ACTION\n",
    "      ON UPDATE NO ACTION,\n",
    "  FOREIGN KEY(Nome_Cidade_Natal)\n",
    "    REFERENCES Cidade(Nome_Cidade)\n",
    "      ON DELETE NO ACTION\n",
    "      ON UPDATE NO ACTION\n",
    ");"
   ]
  },
  {
   "cell_type": "code",
   "execution_count": 4,
   "metadata": {},
   "outputs": [],
   "source": [
    "INSERT INTO Cidade VALUES ('Salvador', 'BA');\n",
    "INSERT INTO Cidade VALUES ('Itabuna', 'BA');\n",
    "INSERT INTO Cidade VALUES ('Campinas', 'SP');\n",
    "\n",
    "INSERT INTO Pessoa VALUES ('Melissa', NULL, 1930, 'Salvador');\n",
    "INSERT INTO Pessoa VALUES ('Asdrubal', 'Melissa', 1970, 'Salvador');\n",
    "INSERT INTO Pessoa VALUES ('Quincas', 'Melissa', 1973, 'Salvador');\n",
    "INSERT INTO Pessoa VALUES ('Doriana', NULL, 1970, 'Campinas');\n",
    "INSERT INTO Pessoa VALUES ('Alcebiades', 'Doriana', 2010, 'Campinas');\n",
    "INSERT INTO Pessoa VALUES ('Lucinda', 'Melissa', 2015, 'Itabuna');\n",
    "INSERT INTO Pessoa VALUES ('Horacio', 'Melissa', 2017, 'Itabuna');"
   ]
  },
  {
   "cell_type": "code",
   "execution_count": 5,
   "metadata": {},
   "outputs": [
    {
     "data": {
      "application/vnd.jupyter.widget-view+json": {
       "model_id": "df32bdce-e530-4f87-aaeb-d666ea7fce87",
       "version_major": 2,
       "version_minor": 0
      },
      "method": "display_data"
     },
     "metadata": {},
     "output_type": "display_data"
    }
   ],
   "source": [
    "SELECT * FROM Cidade;"
   ]
  },
  {
   "cell_type": "code",
   "execution_count": 6,
   "metadata": {},
   "outputs": [
    {
     "data": {
      "application/vnd.jupyter.widget-view+json": {
       "model_id": "0aeeb4f9-0ca1-446e-9886-1f7845d15bea",
       "version_major": 2,
       "version_minor": 0
      },
      "method": "display_data"
     },
     "metadata": {},
     "output_type": "display_data"
    }
   ],
   "source": [
    "SELECT * FROM Pessoa;"
   ]
  },
  {
   "cell_type": "code",
   "execution_count": 7,
   "metadata": {},
   "outputs": [
    {
     "data": {
      "application/vnd.jupyter.widget-view+json": {
       "model_id": "efb84111-a59e-4f93-8457-631c1c57f67f",
       "version_major": 2,
       "version_minor": 0
      },
      "method": "display_data"
     },
     "metadata": {},
     "output_type": "display_data"
    }
   ],
   "source": [
    "SELECT DISTINCT Nome_Mae FROM Pessoa WHERE Nome_Mae IS NOT NULL;"
   ]
  },
  {
   "cell_type": "code",
   "execution_count": 8,
   "metadata": {},
   "outputs": [
    {
     "data": {
      "text/plain": [
       "Melissa"
      ]
     },
     "execution_count": 8,
     "metadata": {},
     "output_type": "execute_result"
    }
   ],
   "source": [
    "SELECT DISTINCT Nome_Mae\n",
    "       FROM Pessoa\n",
    "       WHERE Nome_Mae IS NOT NULL AND\n",
    "             Ano_Nascimento <= 2009;"
   ]
  },
  {
   "cell_type": "code",
   "execution_count": 9,
   "metadata": {},
   "outputs": [
    {
     "data": {
      "application/vnd.jupyter.widget-view+json": {
       "model_id": "db18fc60-c210-4aa4-b123-05084250fea5",
       "version_major": 2,
       "version_minor": 0
      },
      "method": "display_data"
     },
     "metadata": {},
     "output_type": "display_data"
    }
   ],
   "source": [
    "SELECT P.Nome, C.Sigla_Estado\n",
    "       FROM Pessoa P, Cidade C\n",
    "       WHERE P.Nome_Cidade_Natal = C.Nome_Cidade AND C.Sigla_Estado = 'SP';"
   ]
  },
  {
   "cell_type": "code",
   "execution_count": 10,
   "metadata": {},
   "outputs": [
    {
     "data": {
      "application/vnd.jupyter.widget-view+json": {
       "model_id": "17405fd9-caf2-4bec-bc98-d4374b9064b3",
       "version_major": 2,
       "version_minor": 0
      },
      "method": "display_data"
     },
     "metadata": {},
     "output_type": "display_data"
    }
   ],
   "source": [
    "SELECT P.Nome, C.Sigla_Estado\n",
    "       FROM Pessoa P JOIN Cidade C\n",
    "            ON P.Nome_Cidade_Natal = C.Nome_Cidade\n",
    "       WHERE C.Sigla_Estado = 'SP';"
   ]
  },
  {
   "cell_type": "code",
   "execution_count": 11,
   "metadata": {},
   "outputs": [
    {
     "data": {
      "application/vnd.jupyter.widget-view+json": {
       "model_id": "2a07ab8e-88a1-4370-a37f-d00122a422ee",
       "version_major": 2,
       "version_minor": 0
      },
      "method": "display_data"
     },
     "metadata": {},
     "output_type": "display_data"
    }
   ],
   "source": [
    "SELECT C.Sigla_Estado, COUNT(*) Quantidade_Pessoas\n",
    "       FROM Pessoa P, Cidade C\n",
    "       WHERE P.Nome_Cidade_Natal = C.Nome_Cidade\n",
    "       GROUP BY C.Sigla_Estado;"
   ]
  },
  {
   "cell_type": "markdown",
   "metadata": {},
   "source": [
    "# ALIAS\n",
    "\n",
    "## Mesma Tabela com dois ALIAS\n",
    "\n",
    "A mesma tabela pode aparecer em dois pontos a consulta com nomes diferentes como se fossem duas tabelas, cada uma com um ALIAS.\n",
    "\n",
    "Tabela de Pessoas:"
   ]
  },
  {
   "cell_type": "code",
   "execution_count": 12,
   "metadata": {},
   "outputs": [
    {
     "data": {
      "application/vnd.jupyter.widget-view+json": {
       "model_id": "529d4201-0a0e-43f8-a157-38a0067634d6",
       "version_major": 2,
       "version_minor": 0
      },
      "method": "display_data"
     },
     "metadata": {},
     "output_type": "display_data"
    }
   ],
   "source": [
    "SELECT * FROM Pessoa;"
   ]
  },
  {
   "cell_type": "markdown",
   "metadata": {},
   "source": [
    "Nomes das pessoas que nasceram na mesma cidade de Asdrúbal:"
   ]
  },
  {
   "cell_type": "code",
   "execution_count": 13,
   "metadata": {},
   "outputs": [
    {
     "data": {
      "application/vnd.jupyter.widget-view+json": {
       "model_id": "6e57e79e-ab4f-4a08-8bc7-4fe110342586",
       "version_major": 2,
       "version_minor": 0
      },
      "method": "display_data"
     },
     "metadata": {},
     "output_type": "display_data"
    }
   ],
   "source": [
    "SELECT P2.Nome\n",
    "FROM Pessoa P1, Pessoa P2\n",
    "WHERE P1.Nome = 'Asdrubal' AND\n",
    "      P2.Nome_Cidade_Natal = P1.Nome_Cidade_Natal AND\n",
    "      P2.Nome <> 'Asdrubal'"
   ]
  },
  {
   "cell_type": "code",
   "execution_count": 14,
   "metadata": {},
   "outputs": [
    {
     "data": {
      "application/vnd.jupyter.widget-view+json": {
       "model_id": "f390bd61-28b4-4d42-a231-650ea266ef02",
       "version_major": 2,
       "version_minor": 0
      },
      "method": "display_data"
     },
     "metadata": {},
     "output_type": "display_data"
    }
   ],
   "source": [
    "SELECT * FROM Cidade;"
   ]
  },
  {
   "cell_type": "markdown",
   "metadata": {},
   "source": [
    "Nomes das pessoas que nasceram no mesmo estado de Asdrúbal:"
   ]
  },
  {
   "cell_type": "code",
   "execution_count": 15,
   "metadata": {},
   "outputs": [
    {
     "data": {
      "application/vnd.jupyter.widget-view+json": {
       "model_id": "fb5807d0-6b38-41a4-8305-55e53d5fc226",
       "version_major": 2,
       "version_minor": 0
      },
      "method": "display_data"
     },
     "metadata": {},
     "output_type": "display_data"
    }
   ],
   "source": [
    "SELECT P2.Nome \n",
    "FROM Pessoa P1, Cidade C1, Pessoa P2, Cidade C2 \n",
    "WHERE P1.Nome = 'Asdrubal' AND\n",
    "      P1.Nome_Cidade_Natal = C1.Nome_Cidade AND\n",
    "      P2.Nome <> 'Asdrubal' AND\n",
    "      P2.Nome_Cidade_Natal = C2.Nome_Cidade AND\n",
    "      C1.Sigla_Estado = C2.Sigla_Estado"
   ]
  }
 ],
 "metadata": {
  "kernelspec": {
   "display_name": "SQL",
   "language": "SQL",
   "name": "sql"
  },
  "language_info": {
   "codemirror_mode": "sql",
   "file_extension": ".sql",
   "mimetype": "",
   "name": "SQL",
   "nbconverter_exporter": "",
   "version": ""
  },
  "toc": {
   "base_numbering": 1,
   "nav_menu": {},
   "number_sections": false,
   "sideBar": false,
   "skip_h1_title": false,
   "title_cell": "Table of Contents",
   "title_sidebar": "Contents",
   "toc_cell": false,
   "toc_position": {},
   "toc_section_display": false,
   "toc_window_display": false
  }
 },
 "nbformat": 4,
 "nbformat_minor": 5
}
