{
 "cells": [
  {
   "cell_type": "code",
   "execution_count": 1,
   "metadata": {},
   "outputs": [],
   "source": [
    "%defaultDatasource jdbc:h2:mem:db"
   ]
  },
  {
   "cell_type": "code",
   "execution_count": 2,
   "metadata": {},
   "outputs": [],
   "source": [
    "DROP TABLE IF EXISTS Cidade;\n",
    "DROP TABLE IF EXISTS Pessoa;"
   ]
  },
  {
   "cell_type": "code",
   "execution_count": 3,
   "metadata": {},
   "outputs": [],
   "source": [
    "-- Pessoa(nome, nome_da_mãe, ano_nascimento, nome_cidade_natal)\n",
    "--   nome_cidade_natal → CHE Cidade\n",
    "-- Cidade(nome_cidade, sigla_estado)\n",
    "\n",
    "CREATE TABLE Cidade (\n",
    "  Nome_Cidade VARCHAR(100) NOT NULL,\n",
    "  Sigla_Estado VARCHAR(2) NOT NULL,\n",
    "  PRIMARY KEY(Nome_Cidade)\n",
    ");\n",
    "\n",
    "CREATE TABLE Pessoa (\n",
    "  Nome VARCHAR(100) NOT NULL,\n",
    "  Nome_Mae VARCHAR(100),\n",
    "  Ano_Nascimento INTEGER NOT NULL,\n",
    "  Cidade_Natal VARCHAR(100) NOT NULL,\n",
    "  PRIMARY KEY(Nome),\n",
    "  FOREIGN KEY(Nome_Mae)\n",
    "    REFERENCES Pessoa(Nome)\n",
    "      ON DELETE NO ACTION\n",
    "      ON UPDATE NO ACTION,\n",
    "  FOREIGN KEY(Cidade_Natal)\n",
    "    REFERENCES Cidade(Nome_Cidade)\n",
    "      ON DELETE NO ACTION\n",
    "      ON UPDATE NO ACTION\n",
    ");"
   ]
  },
  {
   "cell_type": "code",
   "execution_count": 4,
   "metadata": {},
   "outputs": [],
   "source": [
    "INSERT INTO Cidade VALUES ('Asdrubolandia', 'SP');\n",
    "INSERT INTO Cidade VALUES ('Campinas', 'SP');\n",
    "\n",
    "INSERT INTO Pessoa VALUES ('Melissa', NULL, 1930, 'Asdrubolandia');\n",
    "INSERT INTO Pessoa VALUES ('Adrubal', 'Melissa', 1970, 'Asdrubolandia');\n",
    "INSERT INTO Pessoa VALUES ('Quincas', 'Melissa', 1973, 'Asdrubolandia');\n",
    "INSERT INTO Pessoa VALUES ('Doriana', NULL, 1935, 'Campinas');"
   ]
  },
  {
   "cell_type": "code",
   "execution_count": 5,
   "metadata": {},
   "outputs": [
    {
     "data": {
      "application/vnd.jupyter.widget-view+json": {
       "model_id": "1200cbeb-5a5e-4f74-baa6-0d5da5319ae3",
       "version_major": 2,
       "version_minor": 0
      },
      "method": "display_data"
     },
     "metadata": {},
     "output_type": "display_data"
    }
   ],
   "source": [
    "SELECT * FROM Cidade;"
   ]
  },
  {
   "cell_type": "code",
   "execution_count": 6,
   "metadata": {},
   "outputs": [
    {
     "data": {
      "application/vnd.jupyter.widget-view+json": {
       "model_id": "53248995-9210-483e-ae03-a2afe3d1accd",
       "version_major": 2,
       "version_minor": 0
      },
      "method": "display_data"
     },
     "metadata": {},
     "output_type": "display_data"
    }
   ],
   "source": [
    "SELECT * FROM Pessoa;"
   ]
  },
  {
   "cell_type": "code",
   "execution_count": null,
   "metadata": {},
   "outputs": [],
   "source": []
  }
 ],
 "metadata": {
  "kernelspec": {
   "display_name": "SQL",
   "language": "SQL",
   "name": "sql"
  },
  "language_info": {
   "codemirror_mode": "sql",
   "file_extension": ".sql",
   "mimetype": "",
   "name": "SQL",
   "nbconverter_exporter": "",
   "version": ""
  },
  "toc": {
   "base_numbering": 1,
   "nav_menu": {},
   "number_sections": false,
   "sideBar": false,
   "skip_h1_title": false,
   "title_cell": "Table of Contents",
   "title_sidebar": "Contents",
   "toc_cell": false,
   "toc_position": {},
   "toc_section_display": false,
   "toc_window_display": false
  }
 },
 "nbformat": 4,
 "nbformat_minor": 5
}
