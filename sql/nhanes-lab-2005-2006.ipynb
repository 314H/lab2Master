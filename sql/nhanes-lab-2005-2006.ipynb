{
 "cells": [
  {
   "cell_type": "code",
   "execution_count": 1,
   "metadata": {},
   "outputs": [],
   "source": [
    "%defaultDatasource jdbc:h2:mem:db"
   ]
  },
  {
   "cell_type": "markdown",
   "metadata": {},
   "source": [
    "# Valores de referência NHANES para survey de 2005-2006\n",
    "## Importando faixas normais de valores indicadas em documentação do NHANES\n",
    "\n",
    "* Para cada variável é indicado\n",
    "  - gênero a que se aplica\n",
    "  - faixa de idade (ageStart até ageEnd)\n",
    "\n",
    "\n",
    "* A faixa é indicada na forma de valor mínimo e máximo considerado normais"
   ]
  },
  {
   "cell_type": "code",
   "execution_count": 2,
   "metadata": {},
   "outputs": [
    {
     "data": {
      "application/vnd.jupyter.widget-view+json": {
       "model_id": "214b391a-6836-4651-b314-de87c410e6f4",
       "version_major": 2,
       "version_minor": 0
      },
      "method": "display_data"
     },
     "metadata": {},
     "output_type": "display_data"
    },
    {
     "data": {
      "application/vnd.jupyter.widget-view+json": {
       "model_id": "fcb72408-959e-4f98-8593-e2dde763eedf",
       "version_major": 2,
       "version_minor": 0
      },
      "method": "display_data"
     },
     "metadata": {},
     "output_type": "display_data"
    }
   ],
   "source": [
    "DROP TABLE IF EXISTS ReferenceRanges;\n",
    "CREATE TABLE ReferenceRanges (\n",
    "  variable VARCHAR(8),\n",
    "  gender VARCHAR(1),\n",
    "  ageStart SMALLINT,\n",
    "  ageEnd SMALLINT,\n",
    "  min DECIMAL(7,1),\n",
    "  max DECIMAL(7,1),\n",
    "  PRIMARY KEY(variable,gender,ageStart,ageEnd)\n",
    ") AS SELECT\n",
    "  variable,gender,ageStart,ageEnd,min,max\n",
    "FROM CSVREAD('../data/nhanes2005-2006/reference-ranges.csv');\n",
    "\n",
    "SELECT DISTINCT variable FROM ReferenceRanges;\n",
    "SELECT * FROM ReferenceRanges;"
   ]
  },
  {
   "cell_type": "markdown",
   "metadata": {},
   "source": [
    "# Survey NHANES 2005-2006\n",
    "## Importando dados de survey NHANES 2005-2006\n",
    "\n",
    "* Estão sendo considerados apenas os campos relacionados a anemia, para aqueles indivíduos que têm valores para todos os campos"
   ]
  },
  {
   "cell_type": "code",
   "execution_count": 3,
   "metadata": {},
   "outputs": [
    {
     "data": {
      "application/vnd.jupyter.widget-view+json": {
       "model_id": "47d7bff7-e052-4726-93aa-76e91ebf3fb3",
       "version_major": 2,
       "version_minor": 0
      },
      "method": "display_data"
     },
     "metadata": {},
     "output_type": "display_data"
    },
    {
     "data": {
      "application/vnd.jupyter.widget-view+json": {
       "model_id": "ea9af78f-927d-43c1-b403-2d27f703c899",
       "version_major": 2,
       "version_minor": 0
      },
      "method": "display_data"
     },
     "metadata": {},
     "output_type": "display_data"
    }
   ],
   "source": [
    "DROP TABLE IF EXISTS Survey;\n",
    "CREATE TABLE Survey (\n",
    "  SEQN VARCHAR(8),\n",
    "  RIAGENDR VARCHAR(1),\n",
    "  RIDAGEYR SMALLINT,\n",
    "  LBXIRN DECIMAL(7,1),\n",
    "  LBXTIB DECIMAL(7,1),\n",
    "  LBXSLDSI DECIMAL(7,1),\n",
    "  LBXWBCSI DECIMAL(7,1),\n",
    "  LBXLYPCT DECIMAL(7,1),\n",
    "  LBXMOPCT DECIMAL(7,1),\n",
    "  LBXNEPCT DECIMAL(7,1),\n",
    "  LBXEOPCT DECIMAL(7,1),\n",
    "  LBXBAPCT DECIMAL(7,1),\n",
    "  LBXRBCSI DECIMAL(7,1),\n",
    "  LBXHGB DECIMAL(7,1),\n",
    "  LBXHCT DECIMAL(7,1),\n",
    "  LBXMCVSI DECIMAL(7,1),\n",
    "  LBXMCHSI DECIMAL(7,1),\n",
    "  LBXMC DECIMAL(7,1),\n",
    "  LBXRDW DECIMAL(7,1),\n",
    "  LBXPLTSI DECIMAL(7,1),\n",
    "  LBXMPSI DECIMAL(7,1),\n",
    "  PRIMARY KEY(SEQN)\n",
    ") AS SELECT\n",
    "  SEQN,RIAGENDR,RIDAGEYR,LBXIRN,LBXTIB,LBXSLDSI,LBXWBCSI,LBXLYPCT,LBXMOPCT,LBXNEPCT,LBXEOPCT,LBXBAPCT,LBXRBCSI,LBXHGB,LBXHCT,LBXMCVSI,LBXMCHSI,LBXMC,LBXRDW,LBXPLTSI,LBXMPSI\n",
    "FROM CSVREAD('../data/nhanes2005-2006/combined-selected-variables.csv');\n",
    "\n",
    "SELECT COUNT(*) FROM Survey;\n",
    "SELECT * FROM Survey;"
   ]
  },
  {
   "cell_type": "markdown",
   "metadata": {},
   "source": [
    "# Códigos e descrição das variáveis NHANES"
   ]
  },
  {
   "cell_type": "code",
   "execution_count": 4,
   "metadata": {},
   "outputs": [
    {
     "data": {
      "application/vnd.jupyter.widget-view+json": {
       "model_id": "825de463-6c2e-429b-a914-e71ea7ea8572",
       "version_major": 2,
       "version_minor": 0
      },
      "method": "display_data"
     },
     "metadata": {},
     "output_type": "display_data"
    }
   ],
   "source": [
    "DROP TABLE IF EXISTS VariableDescription;\n",
    "CREATE TABLE VariableDescription (\n",
    "  variable VARCHAR(8),\n",
    "  acronym VARCHAR(8),\n",
    "  name VARCHAR(50),\n",
    "  unit VARCHAR(30),\n",
    "  file VARCHAR(20),\n",
    "  ranges VARCHAR(100),\n",
    "  PRIMARY KEY(variable)\n",
    ") AS SELECT\n",
    "  variable,acronym,name,unit,file,ranges\n",
    "FROM CSVREAD('../data/nhanes2005-2006/reference-ranges-variables.csv');\n",
    "\n",
    "SELECT * FROM VariableDescription;"
   ]
  },
  {
   "cell_type": "markdown",
   "metadata": {},
   "source": [
    "# Preparando matriz binária para definir perfil de pessoas\n",
    "\n",
    "* Para cada variável essa tabela define uma coluna extra binária _b que é inicializada com 0 e receberá 1 se aquela variável estiver fora da faixa NHANES."
   ]
  },
  {
   "cell_type": "markdown",
   "metadata": {},
   "source": [
    "## Geração da tabela inicializada com 0"
   ]
  },
  {
   "cell_type": "code",
   "execution_count": 5,
   "metadata": {},
   "outputs": [
    {
     "data": {
      "application/vnd.jupyter.widget-view+json": {
       "model_id": "c7dc1a38-4dbe-43fa-bc98-c1159b0e29b4",
       "version_major": 2,
       "version_minor": 0
      },
      "method": "display_data"
     },
     "metadata": {},
     "output_type": "display_data"
    },
    {
     "data": {
      "application/vnd.jupyter.widget-view+json": {
       "model_id": "a432b323-d88d-4de2-83ee-67c0e164915d",
       "version_major": 2,
       "version_minor": 0
      },
      "method": "display_data"
     },
     "metadata": {},
     "output_type": "display_data"
    }
   ],
   "source": [
    "DROP TABLE IF EXISTS SurveyB;\n",
    "CREATE TABLE SurveyB (\n",
    "  SEQN VARCHAR(8),\n",
    "  RIAGENDR VARCHAR(1),\n",
    "  RIDAGEYR SMALLINT,\n",
    "  LBXIRN DECIMAL(7,1),\n",
    "  LBXIRN_b SMALLINT DEFAULT 0,\n",
    "  LBXTIB DECIMAL(7,1),\n",
    "  LBXTIB_b SMALLINT DEFAULT 0,\n",
    "  LBXSLDSI DECIMAL(7,1),\n",
    "  LBXSLDSI_b SMALLINT DEFAULT 0,\n",
    "  LBXWBCSI DECIMAL(7,1),\n",
    "  LBXWBCSI_b SMALLINT DEFAULT 0,\n",
    "  LBXLYPCT DECIMAL(7,1),\n",
    "  LBXLYPCT_b SMALLINT DEFAULT 0,\n",
    "  LBXMOPCT DECIMAL(7,1),\n",
    "  LBXMOPCT_b SMALLINT DEFAULT 0,\n",
    "  LBXNEPCT DECIMAL(7,1),\n",
    "  LBXNEPCT_b SMALLINT DEFAULT 0,\n",
    "  LBXEOPCT DECIMAL(7,1),\n",
    "  LBXEOPCT_b SMALLINT DEFAULT 0,\n",
    "  LBXBAPCT DECIMAL(7,1),\n",
    "  LBXBAPCT_b SMALLINT DEFAULT 0,\n",
    "  LBXRBCSI DECIMAL(7,1),\n",
    "  LBXRBCSI_b SMALLINT DEFAULT 0,\n",
    "  LBXHGB DECIMAL(7,1),\n",
    "  LBXHGB_b SMALLINT DEFAULT 0,\n",
    "  LBXHCT DECIMAL(7,1),\n",
    "  LBXHCT_b SMALLINT DEFAULT 0,\n",
    "  LBXMCVSI DECIMAL(7,1),\n",
    "  LBXMCVSI_b SMALLINT DEFAULT 0,\n",
    "  LBXMCHSI DECIMAL(7,1),\n",
    "  LBXMCHSI_b SMALLINT DEFAULT 0,\n",
    "  LBXMC DECIMAL(7,1),\n",
    "  LBXMC_b SMALLINT DEFAULT 0,\n",
    "  LBXRDW DECIMAL(7,1),\n",
    "  LBXRDW_b SMALLINT DEFAULT 0,\n",
    "  LBXPLTSI DECIMAL(7,1),\n",
    "  LBXPLTSI_b SMALLINT DEFAULT 0,\n",
    "  LBXMPSI DECIMAL(7,1),\n",
    "  LBXMPSI_b SMALLINT DEFAULT 0,\n",
    "  PRIMARY KEY(SEQN)\n",
    ") AS SELECT\n",
    "  SEQN,RIAGENDR,RIDAGEYR,LBXIRN,0,LBXTIB,0,LBXSLDSI,0,LBXWBCSI,0,LBXLYPCT,0,LBXMOPCT,0,LBXNEPCT,0,LBXEOPCT,0,LBXBAPCT,0,LBXRBCSI,0,LBXHGB,0,LBXHCT,0,LBXMCVSI,0,LBXMCHSI,0,LBXMC,0,LBXRDW,0,LBXPLTSI,0,LBXMPSI,0\n",
    "FROM CSVREAD('../data/nhanes2005-2006/combined-selected-variables.csv');\n",
    "\n",
    "SELECT COUNT(*) FROM SurveyB;\n",
    "SELECT * FROM SurveyB;"
   ]
  },
  {
   "cell_type": "markdown",
   "metadata": {},
   "source": [
    "## Ensaio de verificação\n",
    "\n",
    "* Ensaio de associação da variável Iron (LBXIRN) com os limites estabelecidos pela NHANES."
   ]
  },
  {
   "cell_type": "code",
   "execution_count": 6,
   "metadata": {},
   "outputs": [
    {
     "data": {
      "application/vnd.jupyter.widget-view+json": {
       "model_id": "3e3f9849-5d70-4b90-a686-1a3389d0a24f",
       "version_major": 2,
       "version_minor": 0
      },
      "method": "display_data"
     },
     "metadata": {},
     "output_type": "display_data"
    }
   ],
   "source": [
    "SELECT SB.LBXIRN, SB.LBXIRN_b, RR.gender, RR.ageStart, RR.ageEnd, RR.min, RR.max\n",
    "FROM SurveyB SB, ReferenceRanges RR\n",
    "WHERE RR.variable='LBXIRN' AND SB.RIAGENDR=RR.gender AND SB.RIDAGEYR>=RR.ageStart AND SB.RIDAGEYR<=RR.ageEnd;"
   ]
  },
  {
   "cell_type": "markdown",
   "metadata": {},
   "source": [
    "## Construção da matriz\n",
    "\n",
    "* Cada variável é comparada com os limites da NHANES e as colunas binárias _b são atualizadas."
   ]
  },
  {
   "cell_type": "code",
   "execution_count": 7,
   "metadata": {},
   "outputs": [],
   "source": [
    "-- Computing LBXIRN\n",
    "UPDATE SurveyB SB\n",
    "SET SB.LBXIRN_b = 1\n",
    "WHERE EXISTS\n",
    "(SELECT RRb.min\n",
    " FROM ReferenceRanges RRb\n",
    " WHERE RRb.variable='LBXIRN' AND SB.RIAGENDR=RRb.gender AND SB.RIDAGEYR>=RRb.ageStart AND SB.RIDAGEYR<=RRb.ageEnd AND SB.LBXIRN<RRb.min);\n",
    "UPDATE SurveyB SB\n",
    "SET SB.LBXIRN_b = 1\n",
    "WHERE SB.LBXIRN_b = 0 AND\n",
    "EXISTS (SELECT RRb.max\n",
    " FROM ReferenceRanges RRb\n",
    " WHERE RRb.variable='LBXIRN' AND SB.RIAGENDR=RRb.gender AND SB.RIDAGEYR>=RRb.ageStart AND SB.RIDAGEYR<=RRb.ageEnd AND SB.LBXIRN>RRb.max);\n",
    "\n",
    "-- Computing LBXTIB\n",
    "UPDATE SurveyB SB\n",
    "SET SB.LBXTIB_b = 1\n",
    "WHERE EXISTS\n",
    "(SELECT RRb.min\n",
    " FROM ReferenceRanges RRb\n",
    " WHERE RRb.variable='LBXTIB' AND SB.RIAGENDR=RRb.gender AND SB.RIDAGEYR>=RRb.ageStart AND SB.RIDAGEYR<=RRb.ageEnd AND SB.LBXTIB<RRb.min);\n",
    "UPDATE SurveyB SB\n",
    "SET SB.LBXTIB_b = 1\n",
    "WHERE SB.LBXTIB_b = 0 AND\n",
    "EXISTS (SELECT RRb.max\n",
    " FROM ReferenceRanges RRb\n",
    " WHERE RRb.variable='LBXTIB' AND SB.RIAGENDR=RRb.gender AND SB.RIDAGEYR>=RRb.ageStart AND SB.RIDAGEYR<=RRb.ageEnd AND SB.LBXTIB>RRb.max);\n",
    "\n",
    "-- Computing LBXSLDSI\n",
    "UPDATE SurveyB SB\n",
    "SET SB.LBXSLDSI_b = 1\n",
    "WHERE EXISTS\n",
    "(SELECT RRb.min\n",
    " FROM ReferenceRanges RRb\n",
    " WHERE RRb.variable='LBXSLDSI' AND SB.RIAGENDR=RRb.gender AND SB.RIDAGEYR>=RRb.ageStart AND SB.RIDAGEYR<=RRb.ageEnd AND SB.LBXSLDSI<RRb.min);\n",
    "UPDATE SurveyB SB\n",
    "SET SB.LBXSLDSI_b = 1\n",
    "WHERE SB.LBXSLDSI_b = 0 AND\n",
    "EXISTS (SELECT RRb.max\n",
    " FROM ReferenceRanges RRb\n",
    " WHERE RRb.variable='LBXSLDSI' AND SB.RIAGENDR=RRb.gender AND SB.RIDAGEYR>=RRb.ageStart AND SB.RIDAGEYR<=RRb.ageEnd AND SB.LBXSLDSI>RRb.max);\n",
    "\n",
    "-- Computing LBXWBCSI\n",
    "UPDATE SurveyB SB\n",
    "SET SB.LBXWBCSI_b = 1\n",
    "WHERE EXISTS\n",
    "(SELECT RRb.min\n",
    " FROM ReferenceRanges RRb\n",
    " WHERE RRb.variable='LBXWBCSI' AND SB.RIAGENDR=RRb.gender AND SB.RIDAGEYR>=RRb.ageStart AND SB.RIDAGEYR<=RRb.ageEnd AND SB.LBXWBCSI<RRb.min);\n",
    "UPDATE SurveyB SB\n",
    "SET SB.LBXWBCSI = 1\n",
    "WHERE SB.LBXWBCSI_b = 0 AND\n",
    "EXISTS (SELECT RRb.max\n",
    " FROM ReferenceRanges RRb\n",
    " WHERE RRb.variable='LBXWBCSI' AND SB.RIAGENDR=RRb.gender AND SB.RIDAGEYR>=RRb.ageStart AND SB.RIDAGEYR<=RRb.ageEnd AND SB.LBXWBCSI>RRb.max);\n",
    "\n",
    "-- Computing LBXLYPCT\n",
    "UPDATE SurveyB SB\n",
    "SET SB.LBXLYPCT_b = 1\n",
    "WHERE EXISTS\n",
    "(SELECT RRb.min\n",
    " FROM ReferenceRanges RRb\n",
    " WHERE RRb.variable='LBXLYPCT' AND SB.RIAGENDR=RRb.gender AND SB.RIDAGEYR>=RRb.ageStart AND SB.RIDAGEYR<=RRb.ageEnd AND SB.LBXLYPCT<RRb.min);\n",
    "UPDATE SurveyB SB\n",
    "SET SB.LBXLYPCT =1\n",
    "WHERE SB.LBXLYPCT_b = 0 AND\n",
    "EXISTS (SELECT RRb.max\n",
    " FROM ReferenceRanges RRb\n",
    " WHERE RRb.variable='LBXLYPCT' AND SB.RIAGENDR=RRb.gender AND SB.RIDAGEYR>=RRb.ageStart AND SB.RIDAGEYR<=RRb.ageEnd AND SB.LBXLYPCT>RRb.max);\n",
    "\n",
    "-- Computing LBXMOPCT\n",
    "UPDATE SurveyB SB\n",
    "SET SB.LBXMOPCT_b = 1\n",
    "WHERE EXISTS\n",
    "(SELECT RRb.min\n",
    " FROM ReferenceRanges RRb\n",
    " WHERE RRb.variable='LBXMOPCT' AND SB.RIAGENDR=RRb.gender AND SB.RIDAGEYR>=RRb.ageStart AND SB.RIDAGEYR<=RRb.ageEnd AND SB.LBXMOPCT<RRb.min);\n",
    "UPDATE SurveyB SB\n",
    "SET SB.LBXMOPCT = 1\n",
    "WHERE SB.LBXMOPCT_b = 0 AND\n",
    "EXISTS (SELECT RRb.max\n",
    " FROM ReferenceRanges RRb\n",
    " WHERE RRb.variable='LBXMOPCT' AND SB.RIAGENDR=RRb.gender AND SB.RIDAGEYR>=RRb.ageStart AND SB.RIDAGEYR<=RRb.ageEnd AND SB.LBXMOPCT>RRb.max);\n",
    "\n",
    "-- Computing LBXNEPCT\n",
    "UPDATE SurveyB SB\n",
    "SET SB.LBXNEPCT_b = 1\n",
    "WHERE EXISTS\n",
    "(SELECT RRb.min\n",
    " FROM ReferenceRanges RRb\n",
    " WHERE RRb.variable='LBXNEPCT' AND SB.RIAGENDR=RRb.gender AND SB.RIDAGEYR>=RRb.ageStart AND SB.RIDAGEYR<=RRb.ageEnd AND SB.LBXNEPCT<RRb.min);\n",
    "UPDATE SurveyB SB\n",
    "SET SB.LBXNEPCT = 1\n",
    "WHERE SB.LBXNEPCT_b = 0 AND\n",
    "EXISTS (SELECT RRb.max\n",
    " FROM ReferenceRanges RRb\n",
    " WHERE RRb.variable='LBXNEPCT' AND SB.RIAGENDR=RRb.gender AND SB.RIDAGEYR>=RRb.ageStart AND SB.RIDAGEYR<=RRb.ageEnd AND SB.LBXNEPCT>RRb.max);\n",
    "\n",
    "-- Computing LBXEOPCT\n",
    "UPDATE SurveyB SB\n",
    "SET SB.LBXEOPCT_b = 1\n",
    "WHERE EXISTS\n",
    "(SELECT RRb.min\n",
    " FROM ReferenceRanges RRb\n",
    " WHERE RRb.variable='LBXEOPCT' AND SB.RIAGENDR=RRb.gender AND SB.RIDAGEYR>=RRb.ageStart AND SB.RIDAGEYR<=RRb.ageEnd AND SB.LBXEOPCT<RRb.min);\n",
    "UPDATE SurveyB SB\n",
    "SET SB.LBXEOPCT = 1\n",
    "WHERE SB.LBXEOPCT_b = 0 AND\n",
    "EXISTS (SELECT RRb.max\n",
    " FROM ReferenceRanges RRb\n",
    " WHERE RRb.variable='LBXEOPCT' AND SB.RIAGENDR=RRb.gender AND SB.RIDAGEYR>=RRb.ageStart AND SB.RIDAGEYR<=RRb.ageEnd AND SB.LBXEOPCT>RRb.max);\n",
    "\n",
    "-- Computing LBXBAPCT\n",
    "UPDATE SurveyB SB\n",
    "SET SB.LBXBAPCT_b = 1\n",
    "WHERE EXISTS\n",
    "(SELECT RRb.min\n",
    " FROM ReferenceRanges RRb\n",
    " WHERE RRb.variable='LBXBAPCT' AND SB.RIAGENDR=RRb.gender AND SB.RIDAGEYR>=RRb.ageStart AND SB.RIDAGEYR<=RRb.ageEnd AND SB.LBXBAPCT<RRb.min);\n",
    "UPDATE SurveyB SB\n",
    "SET SB.LBXBAPCT = 1\n",
    "WHERE SB.LBXBAPCT_b = 0 AND\n",
    "EXISTS (SELECT RRb.max\n",
    " FROM ReferenceRanges RRb\n",
    " WHERE RRb.variable='LBXBAPCT' AND SB.RIAGENDR=RRb.gender AND SB.RIDAGEYR>=RRb.ageStart AND SB.RIDAGEYR<=RRb.ageEnd AND SB.LBXBAPCT>RRb.max);\n",
    "\n",
    "-- Computing LBXRBCSI\n",
    "UPDATE SurveyB SB\n",
    "SET SB.LBXRBCSI_b = 1\n",
    "WHERE EXISTS\n",
    "(SELECT RRb.min\n",
    " FROM ReferenceRanges RRb\n",
    " WHERE RRb.variable='LBXRBCSI' AND SB.RIAGENDR=RRb.gender AND SB.RIDAGEYR>=RRb.ageStart AND SB.RIDAGEYR<=RRb.ageEnd AND SB.LBXRBCSI<RRb.min);\n",
    "UPDATE SurveyB SB\n",
    "SET SB.LBXRBCSI = 1\n",
    "WHERE SB.LBXRBCSI_b = 0 AND\n",
    "EXISTS (SELECT RRb.max\n",
    " FROM ReferenceRanges RRb\n",
    " WHERE RRb.variable='LBXRBCSI' AND SB.RIAGENDR=RRb.gender AND SB.RIDAGEYR>=RRb.ageStart AND SB.RIDAGEYR<=RRb.ageEnd AND SB.LBXRBCSI>RRb.max);\n",
    "\n",
    "-- Computing LBXHGB\n",
    "UPDATE SurveyB SB\n",
    "SET SB.LBXHGB_b = 1\n",
    "WHERE EXISTS\n",
    "(SELECT RRb.min\n",
    " FROM ReferenceRanges RRb\n",
    " WHERE RRb.variable='LBXHGB' AND SB.RIAGENDR=RRb.gender AND SB.RIDAGEYR>=RRb.ageStart AND SB.RIDAGEYR<=RRb.ageEnd AND SB.LBXHGB<RRb.min);\n",
    "UPDATE SurveyB SB\n",
    "SET SB.LBXHGB = 1\n",
    "WHERE SB.LBXHGB_b = 0 AND\n",
    "EXISTS (SELECT RRb.max\n",
    " FROM ReferenceRanges RRb\n",
    " WHERE RRb.variable='LBXHGB' AND SB.RIAGENDR=RRb.gender AND SB.RIDAGEYR>=RRb.ageStart AND SB.RIDAGEYR<=RRb.ageEnd AND SB.LBXHGB>RRb.max);\n",
    "\n",
    "-- Computing LBXHCT\n",
    "UPDATE SurveyB SB\n",
    "SET SB.LBXHCT_b = 1\n",
    "WHERE EXISTS\n",
    "(SELECT RRb.min\n",
    " FROM ReferenceRanges RRb\n",
    " WHERE RRb.variable='LBXHCT' AND SB.RIAGENDR=RRb.gender AND SB.RIDAGEYR>=RRb.ageStart AND SB.RIDAGEYR<=RRb.ageEnd AND SB.LBXHCT<RRb.min);\n",
    "UPDATE SurveyB SB\n",
    "SET SB.LBXHCT = 1\n",
    "WHERE SB.LBXHCT_b = 0 AND\n",
    "EXISTS (SELECT RRb.max\n",
    " FROM ReferenceRanges RRb\n",
    " WHERE RRb.variable='LBXHCT' AND SB.RIAGENDR=RRb.gender AND SB.RIDAGEYR>=RRb.ageStart AND SB.RIDAGEYR<=RRb.ageEnd AND SB.LBXHCT>RRb.max);\n",
    "\n",
    "-- Computing LBXMCVSI\n",
    "UPDATE SurveyB SB\n",
    "SET SB.LBXMCVSI_b = 1\n",
    "WHERE EXISTS\n",
    "(SELECT RRb.min\n",
    " FROM ReferenceRanges RRb\n",
    " WHERE RRb.variable='LBXMCVSI' AND SB.RIAGENDR=RRb.gender AND SB.RIDAGEYR>=RRb.ageStart AND SB.RIDAGEYR<=RRb.ageEnd AND SB.LBXMCVSI<RRb.min);\n",
    "UPDATE SurveyB SB\n",
    "SET SB.LBXMCVSI = 1\n",
    "WHERE SB.LBXMCVSI_b = 0 AND\n",
    "EXISTS (SELECT RRb.max\n",
    " FROM ReferenceRanges RRb\n",
    " WHERE RRb.variable='LBXMCVSI' AND SB.RIAGENDR=RRb.gender AND SB.RIDAGEYR>=RRb.ageStart AND SB.RIDAGEYR<=RRb.ageEnd AND SB.LBXMCVSI>RRb.max);\n",
    "\n",
    "-- Computing LBXMCHSI\n",
    "UPDATE SurveyB SB\n",
    "SET SB.LBXMCHSI_b = 1\n",
    "WHERE EXISTS\n",
    "(SELECT RRb.min\n",
    " FROM ReferenceRanges RRb\n",
    " WHERE RRb.variable='LBXMCHSI' AND SB.RIAGENDR=RRb.gender AND SB.RIDAGEYR>=RRb.ageStart AND SB.RIDAGEYR<=RRb.ageEnd AND SB.LBXMCHSI<RRb.min);\n",
    "UPDATE SurveyB SB\n",
    "SET SB.LBXMCHSI = 1\n",
    "WHERE SB.LBXMCHSI_b = 0 AND\n",
    "EXISTS (SELECT RRb.max\n",
    " FROM ReferenceRanges RRb\n",
    " WHERE RRb.variable='LBXMCHSI' AND SB.RIAGENDR=RRb.gender AND SB.RIDAGEYR>=RRb.ageStart AND SB.RIDAGEYR<=RRb.ageEnd AND SB.LBXMCHSI>RRb.max);\n",
    "\n",
    "-- Computing LBXMC\n",
    "UPDATE SurveyB SB\n",
    "SET SB.LBXMC_b = 1\n",
    "WHERE EXISTS\n",
    "(SELECT RRb.min\n",
    " FROM ReferenceRanges RRb\n",
    " WHERE RRb.variable='LBXMC' AND SB.RIAGENDR=RRb.gender AND SB.RIDAGEYR>=RRb.ageStart AND SB.RIDAGEYR<=RRb.ageEnd AND SB.LBXMC<RRb.min);\n",
    "UPDATE SurveyB SB\n",
    "SET SB.LBXMC = 1\n",
    "WHERE SB.LBXMC_b = 0 AND\n",
    "EXISTS (SELECT RRb.max\n",
    " FROM ReferenceRanges RRb\n",
    " WHERE RRb.variable='LBXMC' AND SB.RIAGENDR=RRb.gender AND SB.RIDAGEYR>=RRb.ageStart AND SB.RIDAGEYR<=RRb.ageEnd AND SB.LBXMC>RRb.max);\n",
    "\n",
    "-- Computing LBXRDW\n",
    "UPDATE SurveyB SB\n",
    "SET SB.LBXRDW_b = 1\n",
    "WHERE EXISTS\n",
    "(SELECT RRb.min\n",
    " FROM ReferenceRanges RRb\n",
    " WHERE RRb.variable='LBXRDW' AND SB.RIAGENDR=RRb.gender AND SB.RIDAGEYR>=RRb.ageStart AND SB.RIDAGEYR<=RRb.ageEnd AND SB.LBXRDW<RRb.min);\n",
    "UPDATE SurveyB SB\n",
    "SET SB.LBXRDW = 1\n",
    "WHERE SB.LBXRDW_b = 0 AND\n",
    "EXISTS (SELECT RRb.max\n",
    " FROM ReferenceRanges RRb\n",
    " WHERE RRb.variable='LBXRDW' AND SB.RIAGENDR=RRb.gender AND SB.RIDAGEYR>=RRb.ageStart AND SB.RIDAGEYR<=RRb.ageEnd AND SB.LBXRDW>RRb.max);\n",
    "\n",
    "-- Computing LBXPLTSI\n",
    "UPDATE SurveyB SB\n",
    "SET SB.LBXPLTSI_b = 1\n",
    "WHERE EXISTS\n",
    "(SELECT RRb.min\n",
    " FROM ReferenceRanges RRb\n",
    " WHERE RRb.variable='LBXPLTSI' AND SB.RIAGENDR=RRb.gender AND SB.RIDAGEYR>=RRb.ageStart AND SB.RIDAGEYR<=RRb.ageEnd AND SB.LBXPLTSI<RRb.min);\n",
    "UPDATE SurveyB SB\n",
    "SET SB.LBXPLTSI = 1\n",
    "WHERE SB.LBXPLTSI_b = 0 AND\n",
    "EXISTS (SELECT RRb.max\n",
    " FROM ReferenceRanges RRb\n",
    " WHERE RRb.variable='LBXPLTSI' AND SB.RIAGENDR=RRb.gender AND SB.RIDAGEYR>=RRb.ageStart AND SB.RIDAGEYR<=RRb.ageEnd AND SB.LBXPLTSI>RRb.max);\n",
    "\n",
    "-- Computing LBXMPSI\n",
    "UPDATE SurveyB SB\n",
    "SET SB.LBXMPSI_b = 1\n",
    "WHERE EXISTS\n",
    "(SELECT RRb.min\n",
    " FROM ReferenceRanges RRb\n",
    " WHERE RRb.variable='LBXMPSI' AND SB.RIAGENDR=RRb.gender AND SB.RIDAGEYR>=RRb.ageStart AND SB.RIDAGEYR<=RRb.ageEnd AND SB.LBXMPSI<RRb.min);\n",
    "UPDATE SurveyB SB\n",
    "SET SB.LBXMPSI = 1\n",
    "WHERE SB.LBXMPSI_b = 0 AND\n",
    "EXISTS (SELECT RRb.max\n",
    " FROM ReferenceRanges RRb\n",
    " WHERE RRb.variable='LBXMPSI' AND SB.RIAGENDR=RRb.gender AND SB.RIDAGEYR>=RRb.ageStart AND SB.RIDAGEYR<=RRb.ageEnd AND SB.LBXMPSI>RRb.max);"
   ]
  },
  {
   "cell_type": "markdown",
   "metadata": {},
   "source": [
    "## Matriz final\n",
    "\n",
    "* Construção da visão da matriz final que tem a indentificação da pessoa, a matriz binária _b e um perfil produzida pela concatenação da linha da matriz binária.\n",
    "* O perfil representa de forma binária o que está anormal (fora dos limites) na pessoa.\n",
    "* Só vão para a matriz final as pessoas que possuem algum indicador anormal."
   ]
  },
  {
   "cell_type": "code",
   "execution_count": 8,
   "metadata": {},
   "outputs": [
    {
     "data": {
      "application/vnd.jupyter.widget-view+json": {
       "model_id": "2de5b3e8-fe3c-4d21-9897-b5f57fbd67ed",
       "version_major": 2,
       "version_minor": 0
      },
      "method": "display_data"
     },
     "metadata": {},
     "output_type": "display_data"
    },
    {
     "data": {
      "application/vnd.jupyter.widget-view+json": {
       "model_id": "216df939-14ee-4dde-bf22-3fda521e673c",
       "version_major": 2,
       "version_minor": 0
      },
      "method": "display_data"
     },
     "metadata": {},
     "output_type": "display_data"
    }
   ],
   "source": [
    "DROP VIEW IF EXISTS DeviationProfiles;\n",
    "DROP VIEW IF EXISTS CorrelationMatrix;\n",
    "\n",
    "CREATE VIEW CorrelationMatrix AS\n",
    "SELECT DISTINCT SB.SEQN, \n",
    "  CONCAT(SB.LBXIRN_b, SB.LBXTIB_b, SB.LBXSLDSI_b, SB.LBXWBCSI_b, SB.LBXLYPCT_b, SB.LBXMOPCT_b, SB.LBXNEPCT_b, SB.LBXEOPCT_b, SB.LBXBAPCT_b, SB.LBXRBCSI_b, SB.LBXHGB_b, SB.LBXHCT_b, SB.LBXMCVSI_b, SB.LBXMCHSI_b, SB.LBXMC_b, SB.LBXRDW_b, SB.LBXPLTSI_b, SB.LBXMPSI_b) AS profile,\n",
    "  SB.LBXIRN_b, SB.LBXTIB_b, SB.LBXSLDSI_b, SB.LBXWBCSI_b, SB.LBXLYPCT_b, SB.LBXMOPCT_b, SB.LBXNEPCT_b, SB.LBXEOPCT_b, SB.LBXBAPCT_b, SB.LBXRBCSI_b, SB.LBXHGB_b, SB.LBXHCT_b, SB.LBXMCVSI_b, SB.LBXMCHSI_b, SB.LBXMC_b, SB.LBXRDW_b, SB.LBXPLTSI_b, SB.LBXMPSI_b\n",
    "FROM SurveyB SB, ReferenceRanges RR\n",
    "WHERE SB.RIAGENDR=RR.gender AND SB.RIDAGEYR>=RR.ageStart AND SB.RIDAGEYR<=RR.ageEnd AND\n",
    "(LBXIRN_b>0 OR LBXTIB_b>0 OR LBXSLDSI_b>0 OR LBXWBCSI_b>0 OR LBXLYPCT_b>0 OR LBXMOPCT_b>0 OR LBXNEPCT_b>0 OR LBXEOPCT_b>0 OR LBXBAPCT_b>0 OR LBXRBCSI_b>0 OR LBXHGB_b>0 OR LBXHCT_b>0 OR LBXMCVSI_b>0 OR LBXMCHSI_b>0 OR LBXMC_b>0 OR LBXRDW_b>0 OR LBXPLTSI_b>0 OR LBXMPSI_b>0);\n",
    "\n",
    "SELECT COUNT(*) FROM CorrelationMatrix;\n",
    "SELECT * FROM CorrelationMatrix;"
   ]
  },
  {
   "cell_type": "markdown",
   "metadata": {},
   "source": [
    "## Gravação da matriz binária\n",
    "\n",
    "* Gravação da matriz binária em arquivo CSV.\n",
    "* É possível fazer download do arquivo."
   ]
  },
  {
   "cell_type": "code",
   "execution_count": 9,
   "metadata": {},
   "outputs": [
    {
     "data": {
      "text/plain": [
       "1418"
      ]
     },
     "execution_count": 9,
     "metadata": {},
     "output_type": "execute_result"
    }
   ],
   "source": [
    "CALL CSVWRITE('../data/nhanes2005-2006/correlation-matrix.csv', 'SELECT * FROM CorrelationMatrix');"
   ]
  },
  {
   "cell_type": "markdown",
   "metadata": {},
   "source": [
    "# Rede de perfis\n",
    "\n",
    "* As pessoas serão aqui associadas a partir de seus perfis binários produzindo uma rede de perfis e suas correlações."
   ]
  },
  {
   "cell_type": "markdown",
   "metadata": {},
   "source": [
    "## Agrupamento de perfis\n",
    "\n",
    "* Os perfis são agrupados conforme o padrão binário e é registrado o número de pessoas com aquele perfil."
   ]
  },
  {
   "cell_type": "code",
   "execution_count": 10,
   "metadata": {},
   "outputs": [
    {
     "data": {
      "application/vnd.jupyter.widget-view+json": {
       "model_id": "9e9316eb-8559-4808-b6cc-9227b3c24358",
       "version_major": 2,
       "version_minor": 0
      },
      "method": "display_data"
     },
     "metadata": {},
     "output_type": "display_data"
    },
    {
     "data": {
      "application/vnd.jupyter.widget-view+json": {
       "model_id": "2b36ef6d-35f5-4116-b3aa-4830255b82ea",
       "version_major": 2,
       "version_minor": 0
      },
      "method": "display_data"
     },
     "metadata": {},
     "output_type": "display_data"
    }
   ],
   "source": [
    "DROP VIEW IF EXISTS DeviationProfiles;\n",
    "\n",
    "CREATE VIEW DeviationProfiles AS\n",
    "SELECT CM.profile, COUNT(*) AS individuals\n",
    "FROM CorrelationMatrix CM\n",
    "GROUP BY CM.profile;\n",
    "\n",
    "SELECT SUM(individuals) FROM DeviationProfiles;\n",
    "SELECT * FROM DeviationProfiles;"
   ]
  },
  {
   "cell_type": "markdown",
   "metadata": {},
   "source": [
    "## Gravação de perfis\n",
    "\n",
    "* Os perfis e respectivo número de pessoas associadas é gravado em CSV."
   ]
  },
  {
   "cell_type": "code",
   "execution_count": 11,
   "metadata": {},
   "outputs": [
    {
     "data": {
      "text/plain": [
       "181"
      ]
     },
     "execution_count": 11,
     "metadata": {},
     "output_type": "execute_result"
    }
   ],
   "source": [
    "CALL CSVWRITE('../data/nhanes2005-2006/deviation-profiles.csv', 'SELECT DP.profile AS id, DP.individuals AS weight FROM DeviationProfiles DP');"
   ]
  },
  {
   "cell_type": "markdown",
   "metadata": {},
   "source": [
    "# Matriz com intensidade de desvio\n",
    "\n",
    "* Esta segunda matriz registra não somente que variáveis da pessoa ultrapassam os limites, mas quanto elas ultrapassam."
   ]
  },
  {
   "cell_type": "markdown",
   "metadata": {},
   "source": [
    "## Geração de nova matriz de base inicializada com 0"
   ]
  },
  {
   "cell_type": "code",
   "execution_count": 12,
   "metadata": {},
   "outputs": [
    {
     "data": {
      "application/vnd.jupyter.widget-view+json": {
       "model_id": "c4833df9-f783-4e79-983e-d0090b95578b",
       "version_major": 2,
       "version_minor": 0
      },
      "method": "display_data"
     },
     "metadata": {},
     "output_type": "display_data"
    }
   ],
   "source": [
    "DROP TABLE IF EXISTS SurveyD;\n",
    "CREATE TABLE SurveyD (\n",
    "  SEQN VARCHAR(8),\n",
    "  RIAGENDR VARCHAR(1),\n",
    "  RIDAGEYR SMALLINT,\n",
    "  LBXIRN DECIMAL(7,1),\n",
    "  LBXIRN_d DECIMAL(7,1) DEFAULT 0,\n",
    "  LBXTIB DECIMAL(7,1),\n",
    "  LBXTIB_d DECIMAL(7,1) DEFAULT 0,\n",
    "  LBXSLDSI DECIMAL(7,1),\n",
    "  LBXSLDSI_d DECIMAL(7,1) DEFAULT 0,\n",
    "  LBXWBCSI DECIMAL(7,1),\n",
    "  LBXWBCSI_d DECIMAL(7,1) DEFAULT 0,\n",
    "  LBXLYPCT DECIMAL(7,1),\n",
    "  LBXLYPCT_d DECIMAL(7,1) DEFAULT 0,\n",
    "  LBXMOPCT DECIMAL(7,1),\n",
    "  LBXMOPCT_d DECIMAL(7,1) DEFAULT 0,\n",
    "  LBXNEPCT DECIMAL(7,1),\n",
    "  LBXNEPCT_d DECIMAL(7,1) DEFAULT 0,\n",
    "  LBXEOPCT DECIMAL(7,1),\n",
    "  LBXEOPCT_d DECIMAL(7,1) DEFAULT 0,\n",
    "  LBXBAPCT DECIMAL(7,1),\n",
    "  LBXBAPCT_d DECIMAL(7,1) DEFAULT 0,\n",
    "  LBXRBCSI DECIMAL(7,1),\n",
    "  LBXRBCSI_d DECIMAL(7,1) DEFAULT 0,\n",
    "  LBXHGB DECIMAL(7,1),\n",
    "  LBXHGB_d DECIMAL(7,1) DEFAULT 0,\n",
    "  LBXHCT DECIMAL(7,1),\n",
    "  LBXHCT_d DECIMAL(7,1) DEFAULT 0,\n",
    "  LBXMCVSI DECIMAL(7,1),\n",
    "  LBXMCVSI_d DECIMAL(7,1) DEFAULT 0,\n",
    "  LBXMCHSI DECIMAL(7,1),\n",
    "  LBXMCHSI_d DECIMAL(7,1) DEFAULT 0,\n",
    "  LBXMC DECIMAL(7,1),\n",
    "  LBXMC_d DECIMAL(7,1) DEFAULT 0,\n",
    "  LBXRDW DECIMAL(7,1),\n",
    "  LBXRDW_d DECIMAL(7,1) DEFAULT 0,\n",
    "  LBXPLTSI DECIMAL(7,1),\n",
    "  LBXPLTSI_d DECIMAL(7,1) DEFAULT 0,\n",
    "  LBXMPSI DECIMAL(7,1),\n",
    "  LBXMPSI_d DECIMAL(7,1) DEFAULT 0,\n",
    "  PRIMARY KEY(SEQN)\n",
    ") AS SELECT\n",
    "  SEQN,RIAGENDR,RIDAGEYR,LBXIRN,0,LBXTIB,0,LBXSLDSI,0,LBXWBCSI,0,LBXLYPCT,0,LBXMOPCT,0,LBXNEPCT,0,LBXEOPCT,0,LBXBAPCT,0,LBXRBCSI,0,LBXHGB,0,LBXHCT,0,LBXMCVSI,0,LBXMCHSI,0,LBXMC,0,LBXRDW,0,LBXPLTSI,0,LBXMPSI,0\n",
    "FROM CSVREAD('../data/nhanes2005-2006/combined-selected-variables.csv');\n",
    "\n",
    "SELECT * FROM SurveyD;"
   ]
  },
  {
   "cell_type": "markdown",
   "metadata": {},
   "source": [
    "## Cálculo do desvio do limite por pessoa e variável"
   ]
  },
  {
   "cell_type": "code",
   "execution_count": 13,
   "metadata": {},
   "outputs": [],
   "source": [
    "-- Computing LBXIRN\n",
    "UPDATE SurveyD SD\n",
    "SET SD.LBXIRN_d =\n",
    "(SELECT RRa.min-SD.LBXIRN\n",
    " FROM ReferenceRanges RRa\n",
    " WHERE RRa.variable='LBXIRN' AND SD.RIAGENDR=RRa.gender AND SD.RIDAGEYR>=RRa.ageStart AND SD.RIDAGEYR<=RRa.ageEnd AND SD.LBXIRN<RRa.min)\n",
    "WHERE EXISTS\n",
    "(SELECT RRb.min\n",
    " FROM ReferenceRanges RRb\n",
    " WHERE RRb.variable='LBXIRN' AND SD.RIAGENDR=RRb.gender AND SD.RIDAGEYR>=RRb.ageStart AND SD.RIDAGEYR<=RRb.ageEnd AND SD.LBXIRN<RRb.min);\n",
    "UPDATE SurveyD SD\n",
    "SET SD.LBXIRN_d =\n",
    "(SELECT SD.LBXIRN-RRa.max\n",
    " FROM ReferenceRanges RRa\n",
    " WHERE RRa.variable='LBXIRN' AND SD.RIAGENDR=RRa.gender AND SD.RIDAGEYR>=RRa.ageStart AND SD.RIDAGEYR<=RRa.ageEnd AND SD.LBXIRN>RRa.max)\n",
    "WHERE SD.LBXIRN_d = 0 AND\n",
    "EXISTS (SELECT RRb.max\n",
    " FROM ReferenceRanges RRb\n",
    " WHERE RRb.variable='LBXIRN' AND SD.RIAGENDR=RRb.gender AND SD.RIDAGEYR>=RRb.ageStart AND SD.RIDAGEYR<=RRb.ageEnd AND SD.LBXIRN>RRb.max);\n",
    "\n",
    "-- Computing LBXTIB\n",
    "UPDATE SurveyD SD\n",
    "SET SD.LBXTIB_d =\n",
    "(SELECT RRa.min-SD.LBXTIB\n",
    " FROM ReferenceRanges RRa\n",
    " WHERE RRa.variable='LBXTIB' AND SD.RIAGENDR=RRa.gender AND SD.RIDAGEYR>=RRa.ageStart AND SD.RIDAGEYR<=RRa.ageEnd AND SD.LBXTIB<RRa.min)\n",
    "WHERE EXISTS\n",
    "(SELECT RRb.min\n",
    " FROM ReferenceRanges RRb\n",
    " WHERE RRb.variable='LBXTIB' AND SD.RIAGENDR=RRb.gender AND SD.RIDAGEYR>=RRb.ageStart AND SD.RIDAGEYR<=RRb.ageEnd AND SD.LBXTIB<RRb.min);\n",
    "UPDATE SurveyD SD\n",
    "SET SD.LBXTIB_d =\n",
    "(SELECT SD.LBXTIB-RRa.max\n",
    " FROM ReferenceRanges RRa\n",
    " WHERE RRa.variable='LBXTIB' AND SD.RIAGENDR=RRa.gender AND SD.RIDAGEYR>=RRa.ageStart AND SD.RIDAGEYR<=RRa.ageEnd AND SD.LBXTIB>RRa.max)\n",
    "WHERE SD.LBXTIB_d = 0 AND\n",
    "EXISTS (SELECT RRb.max\n",
    " FROM ReferenceRanges RRb\n",
    " WHERE RRb.variable='LBXTIB' AND SD.RIAGENDR=RRb.gender AND SD.RIDAGEYR>=RRb.ageStart AND SD.RIDAGEYR<=RRb.ageEnd AND SD.LBXTIB>RRb.max);\n",
    "\n",
    "-- Computing LBXSLDSI\n",
    "UPDATE SurveyD SD\n",
    "SET SD.LBXSLDSI_d =\n",
    "(SELECT RRa.min-SD.LBXSLDSI\n",
    " FROM ReferenceRanges RRa\n",
    " WHERE RRa.variable='LBXSLDSI' AND SD.RIAGENDR=RRa.gender AND SD.RIDAGEYR>=RRa.ageStart AND SD.RIDAGEYR<=RRa.ageEnd AND SD.LBXSLDSI<RRa.min)\n",
    "WHERE EXISTS\n",
    "(SELECT RRb.min\n",
    " FROM ReferenceRanges RRb\n",
    " WHERE RRb.variable='LBXSLDSI' AND SD.RIAGENDR=RRb.gender AND SD.RIDAGEYR>=RRb.ageStart AND SD.RIDAGEYR<=RRb.ageEnd AND SD.LBXSLDSI<RRb.min);\n",
    "UPDATE SurveyD SD\n",
    "SET SD.LBXSLDSI_d =\n",
    "(SELECT SD.LBXSLDSI-RRa.max\n",
    " FROM ReferenceRanges RRa\n",
    " WHERE RRa.variable='LBXSLDSI' AND SD.RIAGENDR=RRa.gender AND SD.RIDAGEYR>=RRa.ageStart AND SD.RIDAGEYR<=RRa.ageEnd AND SD.LBXSLDSI>RRa.max)\n",
    "WHERE SD.LBXSLDSI_d = 0 AND\n",
    "EXISTS (SELECT RRb.max\n",
    " FROM ReferenceRanges RRb\n",
    " WHERE RRb.variable='LBXSLDSI' AND SD.RIAGENDR=RRb.gender AND SD.RIDAGEYR>=RRb.ageStart AND SD.RIDAGEYR<=RRb.ageEnd AND SD.LBXSLDSI>RRb.max);\n",
    "\n",
    "-- Computing LBXWBCSI\n",
    "UPDATE SurveyD SD\n",
    "SET SD.LBXWBCSI_d =\n",
    "(SELECT RRa.min-SD.LBXWBCSI\n",
    " FROM ReferenceRanges RRa\n",
    " WHERE RRa.variable='LBXWBCSI' AND SD.RIAGENDR=RRa.gender AND SD.RIDAGEYR>=RRa.ageStart AND SD.RIDAGEYR<=RRa.ageEnd AND SD.LBXWBCSI<RRa.min)\n",
    "WHERE EXISTS\n",
    "(SELECT RRb.min\n",
    " FROM ReferenceRanges RRb\n",
    " WHERE RRb.variable='LBXWBCSI' AND SD.RIAGENDR=RRb.gender AND SD.RIDAGEYR>=RRb.ageStart AND SD.RIDAGEYR<=RRb.ageEnd AND SD.LBXWBCSI<RRb.min);\n",
    "UPDATE SurveyD SD\n",
    "SET SD.LBXWBCSI_d =\n",
    "(SELECT SD.LBXWBCSI-RRa.max\n",
    " FROM ReferenceRanges RRa\n",
    " WHERE RRa.variable='LBXWBCSI' AND SD.RIAGENDR=RRa.gender AND SD.RIDAGEYR>=RRa.ageStart AND SD.RIDAGEYR<=RRa.ageEnd AND SD.LBXWBCSI>RRa.max)\n",
    "WHERE SD.LBXWBCSI_d = 0 AND\n",
    "EXISTS (SELECT RRb.max\n",
    " FROM ReferenceRanges RRb\n",
    " WHERE RRb.variable='LBXWBCSI' AND SD.RIAGENDR=RRb.gender AND SD.RIDAGEYR>=RRb.ageStart AND SD.RIDAGEYR<=RRb.ageEnd AND SD.LBXWBCSI>RRb.max);\n",
    "\n",
    "-- Computing LBXLYPCT\n",
    "UPDATE SurveyD SD\n",
    "SET SD.LBXLYPCT_d =\n",
    "(SELECT RRa.min-SD.LBXLYPCT\n",
    " FROM ReferenceRanges RRa\n",
    " WHERE RRa.variable='LBXLYPCT' AND SD.RIAGENDR=RRa.gender AND SD.RIDAGEYR>=RRa.ageStart AND SD.RIDAGEYR<=RRa.ageEnd AND SD.LBXLYPCT<RRa.min)\n",
    "WHERE EXISTS\n",
    "(SELECT RRb.min\n",
    " FROM ReferenceRanges RRb\n",
    " WHERE RRb.variable='LBXLYPCT' AND SD.RIAGENDR=RRb.gender AND SD.RIDAGEYR>=RRb.ageStart AND SD.RIDAGEYR<=RRb.ageEnd AND SD.LBXLYPCT<RRb.min);\n",
    "UPDATE SurveyD SD\n",
    "SET SD.LBXLYPCT_d =\n",
    "(SELECT SD.LBXLYPCT-RRa.max\n",
    " FROM ReferenceRanges RRa\n",
    " WHERE RRa.variable='LBXLYPCT' AND SD.RIAGENDR=RRa.gender AND SD.RIDAGEYR>=RRa.ageStart AND SD.RIDAGEYR<=RRa.ageEnd AND SD.LBXLYPCT>RRa.max)\n",
    "WHERE SD.LBXLYPCT_d = 0 AND\n",
    "EXISTS (SELECT RRb.max\n",
    " FROM ReferenceRanges RRb\n",
    " WHERE RRb.variable='LBXLYPCT' AND SD.RIAGENDR=RRb.gender AND SD.RIDAGEYR>=RRb.ageStart AND SD.RIDAGEYR<=RRb.ageEnd AND SD.LBXLYPCT>RRb.max);\n",
    "\n",
    "-- Computing LBXMOPCT\n",
    "UPDATE SurveyD SD\n",
    "SET SD.LBXMOPCT_d =\n",
    "(SELECT RRa.min-SD.LBXMOPCT\n",
    " FROM ReferenceRanges RRa\n",
    " WHERE RRa.variable='LBXMOPCT' AND SD.RIAGENDR=RRa.gender AND SD.RIDAGEYR>=RRa.ageStart AND SD.RIDAGEYR<=RRa.ageEnd AND SD.LBXMOPCT<RRa.min)\n",
    "WHERE EXISTS\n",
    "(SELECT RRb.min\n",
    " FROM ReferenceRanges RRb\n",
    " WHERE RRb.variable='LBXMOPCT' AND SD.RIAGENDR=RRb.gender AND SD.RIDAGEYR>=RRb.ageStart AND SD.RIDAGEYR<=RRb.ageEnd AND SD.LBXMOPCT<RRb.min);\n",
    "UPDATE SurveyD SD\n",
    "SET SD.LBXMOPCT_d =\n",
    "(SELECT SD.LBXMOPCT-RRa.max\n",
    " FROM ReferenceRanges RRa\n",
    " WHERE RRa.variable='LBXMOPCT' AND SD.RIAGENDR=RRa.gender AND SD.RIDAGEYR>=RRa.ageStart AND SD.RIDAGEYR<=RRa.ageEnd AND SD.LBXMOPCT>RRa.max)\n",
    "WHERE SD.LBXMOPCT_d = 0 AND\n",
    "EXISTS (SELECT RRb.max\n",
    " FROM ReferenceRanges RRb\n",
    " WHERE RRb.variable='LBXMOPCT' AND SD.RIAGENDR=RRb.gender AND SD.RIDAGEYR>=RRb.ageStart AND SD.RIDAGEYR<=RRb.ageEnd AND SD.LBXMOPCT>RRb.max);\n",
    "\n",
    "-- Computing LBXNEPCT\n",
    "UPDATE SurveyD SD\n",
    "SET SD.LBXNEPCT_d =\n",
    "(SELECT RRa.min-SD.LBXNEPCT\n",
    " FROM ReferenceRanges RRa\n",
    " WHERE RRa.variable='LBXNEPCT' AND SD.RIAGENDR=RRa.gender AND SD.RIDAGEYR>=RRa.ageStart AND SD.RIDAGEYR<=RRa.ageEnd AND SD.LBXNEPCT<RRa.min)\n",
    "WHERE EXISTS\n",
    "(SELECT RRb.min\n",
    " FROM ReferenceRanges RRb\n",
    " WHERE RRb.variable='LBXNEPCT' AND SD.RIAGENDR=RRb.gender AND SD.RIDAGEYR>=RRb.ageStart AND SD.RIDAGEYR<=RRb.ageEnd AND SD.LBXNEPCT<RRb.min);\n",
    "UPDATE SurveyD SD\n",
    "SET SD.LBXNEPCT_d =\n",
    "(SELECT SD.LBXNEPCT-RRa.max\n",
    " FROM ReferenceRanges RRa\n",
    " WHERE RRa.variable='LBXNEPCT' AND SD.RIAGENDR=RRa.gender AND SD.RIDAGEYR>=RRa.ageStart AND SD.RIDAGEYR<=RRa.ageEnd AND SD.LBXNEPCT>RRa.max)\n",
    "WHERE SD.LBXNEPCT_d = 0 AND\n",
    "EXISTS (SELECT RRb.max\n",
    " FROM ReferenceRanges RRb\n",
    " WHERE RRb.variable='LBXNEPCT' AND SD.RIAGENDR=RRb.gender AND SD.RIDAGEYR>=RRb.ageStart AND SD.RIDAGEYR<=RRb.ageEnd AND SD.LBXNEPCT>RRb.max);\n",
    "\n",
    "-- Computing LBXEOPCT\n",
    "UPDATE SurveyD SD\n",
    "SET SD.LBXEOPCT_d =\n",
    "(SELECT RRa.min-SD.LBXEOPCT\n",
    " FROM ReferenceRanges RRa\n",
    " WHERE RRa.variable='LBXEOPCT' AND SD.RIAGENDR=RRa.gender AND SD.RIDAGEYR>=RRa.ageStart AND SD.RIDAGEYR<=RRa.ageEnd AND SD.LBXEOPCT<RRa.min)\n",
    "WHERE EXISTS\n",
    "(SELECT RRb.min\n",
    " FROM ReferenceRanges RRb\n",
    " WHERE RRb.variable='LBXEOPCT' AND SD.RIAGENDR=RRb.gender AND SD.RIDAGEYR>=RRb.ageStart AND SD.RIDAGEYR<=RRb.ageEnd AND SD.LBXEOPCT<RRb.min);\n",
    "UPDATE SurveyD SD\n",
    "SET SD.LBXEOPCT_d =\n",
    "(SELECT SD.LBXEOPCT-RRa.max\n",
    " FROM ReferenceRanges RRa\n",
    " WHERE RRa.variable='LBXEOPCT' AND SD.RIAGENDR=RRa.gender AND SD.RIDAGEYR>=RRa.ageStart AND SD.RIDAGEYR<=RRa.ageEnd AND SD.LBXEOPCT>RRa.max)\n",
    "WHERE SD.LBXEOPCT_d = 0 AND\n",
    "EXISTS (SELECT RRb.max\n",
    " FROM ReferenceRanges RRb\n",
    " WHERE RRb.variable='LBXEOPCT' AND SD.RIAGENDR=RRb.gender AND SD.RIDAGEYR>=RRb.ageStart AND SD.RIDAGEYR<=RRb.ageEnd AND SD.LBXEOPCT>RRb.max);\n",
    "\n",
    "-- Computing LBXBAPCT\n",
    "UPDATE SurveyD SD\n",
    "SET SD.LBXBAPCT_d =\n",
    "(SELECT RRa.min-SD.LBXBAPCT\n",
    " FROM ReferenceRanges RRa\n",
    " WHERE RRa.variable='LBXBAPCT' AND SD.RIAGENDR=RRa.gender AND SD.RIDAGEYR>=RRa.ageStart AND SD.RIDAGEYR<=RRa.ageEnd AND SD.LBXBAPCT<RRa.min)\n",
    "WHERE EXISTS\n",
    "(SELECT RRb.min\n",
    " FROM ReferenceRanges RRb\n",
    " WHERE RRb.variable='LBXBAPCT' AND SD.RIAGENDR=RRb.gender AND SD.RIDAGEYR>=RRb.ageStart AND SD.RIDAGEYR<=RRb.ageEnd AND SD.LBXBAPCT<RRb.min);\n",
    "UPDATE SurveyD SD\n",
    "SET SD.LBXBAPCT_d =\n",
    "(SELECT SD.LBXBAPCT-RRa.max\n",
    " FROM ReferenceRanges RRa\n",
    " WHERE RRa.variable='LBXBAPCT' AND SD.RIAGENDR=RRa.gender AND SD.RIDAGEYR>=RRa.ageStart AND SD.RIDAGEYR<=RRa.ageEnd AND SD.LBXBAPCT>RRa.max)\n",
    "WHERE SD.LBXBAPCT_d = 0 AND\n",
    "EXISTS (SELECT RRb.max\n",
    " FROM ReferenceRanges RRb\n",
    " WHERE RRb.variable='LBXBAPCT' AND SD.RIAGENDR=RRb.gender AND SD.RIDAGEYR>=RRb.ageStart AND SD.RIDAGEYR<=RRb.ageEnd AND SD.LBXBAPCT>RRb.max);\n",
    "\n",
    "-- Computing LBXRBCSI\n",
    "UPDATE SurveyD SD\n",
    "SET SD.LBXRBCSI_d =\n",
    "(SELECT RRa.min-SD.LBXRBCSI\n",
    " FROM ReferenceRanges RRa\n",
    " WHERE RRa.variable='LBXRBCSI' AND SD.RIAGENDR=RRa.gender AND SD.RIDAGEYR>=RRa.ageStart AND SD.RIDAGEYR<=RRa.ageEnd AND SD.LBXRBCSI<RRa.min)\n",
    "WHERE EXISTS\n",
    "(SELECT RRb.min\n",
    " FROM ReferenceRanges RRb\n",
    " WHERE RRb.variable='LBXRBCSI' AND SD.RIAGENDR=RRb.gender AND SD.RIDAGEYR>=RRb.ageStart AND SD.RIDAGEYR<=RRb.ageEnd AND SD.LBXRBCSI<RRb.min);\n",
    "UPDATE SurveyD SD\n",
    "SET SD.LBXRBCSI_d =\n",
    "(SELECT SD.LBXRBCSI-RRa.max\n",
    " FROM ReferenceRanges RRa\n",
    " WHERE RRa.variable='LBXRBCSI' AND SD.RIAGENDR=RRa.gender AND SD.RIDAGEYR>=RRa.ageStart AND SD.RIDAGEYR<=RRa.ageEnd AND SD.LBXRBCSI>RRa.max)\n",
    "WHERE SD.LBXRBCSI_d = 0 AND\n",
    "EXISTS (SELECT RRb.max\n",
    " FROM ReferenceRanges RRb\n",
    " WHERE RRb.variable='LBXRBCSI' AND SD.RIAGENDR=RRb.gender AND SD.RIDAGEYR>=RRb.ageStart AND SD.RIDAGEYR<=RRb.ageEnd AND SD.LBXRBCSI>RRb.max);\n",
    "\n",
    "-- Computing LBXHGB\n",
    "UPDATE SurveyD SD\n",
    "SET SD.LBXHGB_d =\n",
    "(SELECT RRa.min-SD.LBXHGB\n",
    " FROM ReferenceRanges RRa\n",
    " WHERE RRa.variable='LBXHGB' AND SD.RIAGENDR=RRa.gender AND SD.RIDAGEYR>=RRa.ageStart AND SD.RIDAGEYR<=RRa.ageEnd AND SD.LBXHGB<RRa.min)\n",
    "WHERE EXISTS\n",
    "(SELECT RRb.min\n",
    " FROM ReferenceRanges RRb\n",
    " WHERE RRb.variable='LBXHGB' AND SD.RIAGENDR=RRb.gender AND SD.RIDAGEYR>=RRb.ageStart AND SD.RIDAGEYR<=RRb.ageEnd AND SD.LBXHGB<RRb.min);\n",
    "UPDATE SurveyD SD\n",
    "SET SD.LBXHGB_d =\n",
    "(SELECT SD.LBXHGB-RRa.max\n",
    " FROM ReferenceRanges RRa\n",
    " WHERE RRa.variable='LBXHGB' AND SD.RIAGENDR=RRa.gender AND SD.RIDAGEYR>=RRa.ageStart AND SD.RIDAGEYR<=RRa.ageEnd AND SD.LBXHGB>RRa.max)\n",
    "WHERE SD.LBXHGB_d = 0 AND\n",
    "EXISTS (SELECT RRb.max\n",
    " FROM ReferenceRanges RRb\n",
    " WHERE RRb.variable='LBXHGB' AND SD.RIAGENDR=RRb.gender AND SD.RIDAGEYR>=RRb.ageStart AND SD.RIDAGEYR<=RRb.ageEnd AND SD.LBXHGB>RRb.max);\n",
    "\n",
    "-- Computing LBXHCT\n",
    "UPDATE SurveyD SD\n",
    "SET SD.LBXHCT_d =\n",
    "(SELECT RRa.min-SD.LBXHCT\n",
    " FROM ReferenceRanges RRa\n",
    " WHERE RRa.variable='LBXHCT' AND SD.RIAGENDR=RRa.gender AND SD.RIDAGEYR>=RRa.ageStart AND SD.RIDAGEYR<=RRa.ageEnd AND SD.LBXHCT<RRa.min)\n",
    "WHERE EXISTS\n",
    "(SELECT RRb.min\n",
    " FROM ReferenceRanges RRb\n",
    " WHERE RRb.variable='LBXHCT' AND SD.RIAGENDR=RRb.gender AND SD.RIDAGEYR>=RRb.ageStart AND SD.RIDAGEYR<=RRb.ageEnd AND SD.LBXHCT<RRb.min);\n",
    "UPDATE SurveyD SD\n",
    "SET SD.LBXHCT_d =\n",
    "(SELECT SD.LBXHCT-RRa.max\n",
    " FROM ReferenceRanges RRa\n",
    " WHERE RRa.variable='LBXHCT' AND SD.RIAGENDR=RRa.gender AND SD.RIDAGEYR>=RRa.ageStart AND SD.RIDAGEYR<=RRa.ageEnd AND SD.LBXHCT>RRa.max)\n",
    "WHERE SD.LBXHCT_d = 0 AND\n",
    "EXISTS (SELECT RRb.max\n",
    " FROM ReferenceRanges RRb\n",
    " WHERE RRb.variable='LBXHCT' AND SD.RIAGENDR=RRb.gender AND SD.RIDAGEYR>=RRb.ageStart AND SD.RIDAGEYR<=RRb.ageEnd AND SD.LBXHCT>RRb.max);\n",
    "\n",
    "-- Computing LBXMCVSI\n",
    "UPDATE SurveyD SD\n",
    "SET SD.LBXMCVSI_d =\n",
    "(SELECT RRa.min-SD.LBXMCVSI\n",
    " FROM ReferenceRanges RRa\n",
    " WHERE RRa.variable='LBXMCVSI' AND SD.RIAGENDR=RRa.gender AND SD.RIDAGEYR>=RRa.ageStart AND SD.RIDAGEYR<=RRa.ageEnd AND SD.LBXMCVSI<RRa.min)\n",
    "WHERE EXISTS\n",
    "(SELECT RRb.min\n",
    " FROM ReferenceRanges RRb\n",
    " WHERE RRb.variable='LBXMCVSI' AND SD.RIAGENDR=RRb.gender AND SD.RIDAGEYR>=RRb.ageStart AND SD.RIDAGEYR<=RRb.ageEnd AND SD.LBXMCVSI<RRb.min);\n",
    "UPDATE SurveyD SD\n",
    "SET SD.LBXMCVSI_d =\n",
    "(SELECT SD.LBXMCVSI-RRa.max\n",
    " FROM ReferenceRanges RRa\n",
    " WHERE RRa.variable='LBXMCVSI' AND SD.RIAGENDR=RRa.gender AND SD.RIDAGEYR>=RRa.ageStart AND SD.RIDAGEYR<=RRa.ageEnd AND SD.LBXMCVSI>RRa.max)\n",
    "WHERE SD.LBXMCVSI_d = 0 AND\n",
    "EXISTS (SELECT RRb.max\n",
    " FROM ReferenceRanges RRb\n",
    " WHERE RRb.variable='LBXMCVSI' AND SD.RIAGENDR=RRb.gender AND SD.RIDAGEYR>=RRb.ageStart AND SD.RIDAGEYR<=RRb.ageEnd AND SD.LBXMCVSI>RRb.max);\n",
    "\n",
    "-- Computing LBXMCHSI\n",
    "UPDATE SurveyD SD\n",
    "SET SD.LBXMCHSI_d =\n",
    "(SELECT RRa.min-SD.LBXMCHSI\n",
    " FROM ReferenceRanges RRa\n",
    " WHERE RRa.variable='LBXMCHSI' AND SD.RIAGENDR=RRa.gender AND SD.RIDAGEYR>=RRa.ageStart AND SD.RIDAGEYR<=RRa.ageEnd AND SD.LBXMCHSI<RRa.min)\n",
    "WHERE EXISTS\n",
    "(SELECT RRb.min\n",
    " FROM ReferenceRanges RRb\n",
    " WHERE RRb.variable='LBXMCHSI' AND SD.RIAGENDR=RRb.gender AND SD.RIDAGEYR>=RRb.ageStart AND SD.RIDAGEYR<=RRb.ageEnd AND SD.LBXMCHSI<RRb.min);\n",
    "UPDATE SurveyD SD\n",
    "SET SD.LBXMCHSI_d =\n",
    "(SELECT SD.LBXMCHSI-RRa.max\n",
    " FROM ReferenceRanges RRa\n",
    " WHERE RRa.variable='LBXMCHSI' AND SD.RIAGENDR=RRa.gender AND SD.RIDAGEYR>=RRa.ageStart AND SD.RIDAGEYR<=RRa.ageEnd AND SD.LBXMCHSI>RRa.max)\n",
    "WHERE SD.LBXMCHSI_d = 0 AND\n",
    "EXISTS (SELECT RRb.max\n",
    " FROM ReferenceRanges RRb\n",
    " WHERE RRb.variable='LBXMCHSI' AND SD.RIAGENDR=RRb.gender AND SD.RIDAGEYR>=RRb.ageStart AND SD.RIDAGEYR<=RRb.ageEnd AND SD.LBXMCHSI>RRb.max);\n",
    "\n",
    "-- Computing LBXMC\n",
    "UPDATE SurveyD SD\n",
    "SET SD.LBXMC_d =\n",
    "(SELECT RRa.min-SD.LBXMC\n",
    " FROM ReferenceRanges RRa\n",
    " WHERE RRa.variable='LBXMC' AND SD.RIAGENDR=RRa.gender AND SD.RIDAGEYR>=RRa.ageStart AND SD.RIDAGEYR<=RRa.ageEnd AND SD.LBXMC<RRa.min)\n",
    "WHERE EXISTS\n",
    "(SELECT RRb.min\n",
    " FROM ReferenceRanges RRb\n",
    " WHERE RRb.variable='LBXMC' AND SD.RIAGENDR=RRb.gender AND SD.RIDAGEYR>=RRb.ageStart AND SD.RIDAGEYR<=RRb.ageEnd AND SD.LBXMC<RRb.min);\n",
    "UPDATE SurveyD SD\n",
    "SET SD.LBXMC_d =\n",
    "(SELECT SD.LBXMC-RRa.max\n",
    " FROM ReferenceRanges RRa\n",
    " WHERE RRa.variable='LBXMC' AND SD.RIAGENDR=RRa.gender AND SD.RIDAGEYR>=RRa.ageStart AND SD.RIDAGEYR<=RRa.ageEnd AND SD.LBXMC>RRa.max)\n",
    "WHERE SD.LBXMC_d = 0 AND\n",
    "EXISTS (SELECT RRb.max\n",
    " FROM ReferenceRanges RRb\n",
    " WHERE RRb.variable='LBXMC' AND SD.RIAGENDR=RRb.gender AND SD.RIDAGEYR>=RRb.ageStart AND SD.RIDAGEYR<=RRb.ageEnd AND SD.LBXMC>RRb.max);\n",
    "\n",
    "-- Computing LBXRDW\n",
    "UPDATE SurveyD SD\n",
    "SET SD.LBXRDW_d =\n",
    "(SELECT RRa.min-SD.LBXRDW\n",
    " FROM ReferenceRanges RRa\n",
    " WHERE RRa.variable='LBXRDW' AND SD.RIAGENDR=RRa.gender AND SD.RIDAGEYR>=RRa.ageStart AND SD.RIDAGEYR<=RRa.ageEnd AND SD.LBXRDW<RRa.min)\n",
    "WHERE EXISTS\n",
    "(SELECT RRb.min\n",
    " FROM ReferenceRanges RRb\n",
    " WHERE RRb.variable='LBXRDW' AND SD.RIAGENDR=RRb.gender AND SD.RIDAGEYR>=RRb.ageStart AND SD.RIDAGEYR<=RRb.ageEnd AND SD.LBXRDW<RRb.min);\n",
    "UPDATE SurveyD SD\n",
    "SET SD.LBXRDW_d =\n",
    "(SELECT SD.LBXRDW-RRa.max\n",
    " FROM ReferenceRanges RRa\n",
    " WHERE RRa.variable='LBXRDW' AND SD.RIAGENDR=RRa.gender AND SD.RIDAGEYR>=RRa.ageStart AND SD.RIDAGEYR<=RRa.ageEnd AND SD.LBXRDW>RRa.max)\n",
    "WHERE SD.LBXRDW_d = 0 AND\n",
    "EXISTS (SELECT RRb.max\n",
    " FROM ReferenceRanges RRb\n",
    " WHERE RRb.variable='LBXRDW' AND SD.RIAGENDR=RRb.gender AND SD.RIDAGEYR>=RRb.ageStart AND SD.RIDAGEYR<=RRb.ageEnd AND SD.LBXRDW>RRb.max);\n",
    "\n",
    "-- Computing LBXPLTSI\n",
    "UPDATE SurveyD SD\n",
    "SET SD.LBXPLTSI_d =\n",
    "(SELECT RRa.min-SD.LBXPLTSI\n",
    " FROM ReferenceRanges RRa\n",
    " WHERE RRa.variable='LBXPLTSI' AND SD.RIAGENDR=RRa.gender AND SD.RIDAGEYR>=RRa.ageStart AND SD.RIDAGEYR<=RRa.ageEnd AND SD.LBXPLTSI<RRa.min)\n",
    "WHERE EXISTS\n",
    "(SELECT RRb.min\n",
    " FROM ReferenceRanges RRb\n",
    " WHERE RRb.variable='LBXPLTSI' AND SD.RIAGENDR=RRb.gender AND SD.RIDAGEYR>=RRb.ageStart AND SD.RIDAGEYR<=RRb.ageEnd AND SD.LBXPLTSI<RRb.min);\n",
    "UPDATE SurveyD SD\n",
    "SET SD.LBXPLTSI_d =\n",
    "(SELECT SD.LBXPLTSI-RRa.max\n",
    " FROM ReferenceRanges RRa\n",
    " WHERE RRa.variable='LBXPLTSI' AND SD.RIAGENDR=RRa.gender AND SD.RIDAGEYR>=RRa.ageStart AND SD.RIDAGEYR<=RRa.ageEnd AND SD.LBXPLTSI>RRa.max)\n",
    "WHERE SD.LBXPLTSI_d = 0 AND\n",
    "EXISTS (SELECT RRb.max\n",
    " FROM ReferenceRanges RRb\n",
    " WHERE RRb.variable='LBXPLTSI' AND SD.RIAGENDR=RRb.gender AND SD.RIDAGEYR>=RRb.ageStart AND SD.RIDAGEYR<=RRb.ageEnd AND SD.LBXPLTSI>RRb.max);\n",
    "\n",
    "-- Computing LBXMPSI\n",
    "UPDATE SurveyD SD\n",
    "SET SD.LBXMPSI_d =\n",
    "(SELECT RRa.min-SD.LBXMPSI\n",
    " FROM ReferenceRanges RRa\n",
    " WHERE RRa.variable='LBXMPSI' AND SD.RIAGENDR=RRa.gender AND SD.RIDAGEYR>=RRa.ageStart AND SD.RIDAGEYR<=RRa.ageEnd AND SD.LBXMPSI<RRa.min)\n",
    "WHERE EXISTS\n",
    "(SELECT RRb.min\n",
    " FROM ReferenceRanges RRb\n",
    " WHERE RRb.variable='LBXMPSI' AND SD.RIAGENDR=RRb.gender AND SD.RIDAGEYR>=RRb.ageStart AND SD.RIDAGEYR<=RRb.ageEnd AND SD.LBXMPSI<RRb.min);\n",
    "UPDATE SurveyD SD\n",
    "SET SD.LBXMPSI_d =\n",
    "(SELECT SD.LBXMPSI-RRa.max\n",
    " FROM ReferenceRanges RRa\n",
    " WHERE RRa.variable='LBXMPSI' AND SD.RIAGENDR=RRa.gender AND SD.RIDAGEYR>=RRa.ageStart AND SD.RIDAGEYR<=RRa.ageEnd AND SD.LBXMPSI>RRa.max)\n",
    "WHERE SD.LBXMPSI_d = 0 AND\n",
    "EXISTS (SELECT RRb.max\n",
    " FROM ReferenceRanges RRb\n",
    " WHERE RRb.variable='LBXMPSI' AND SD.RIAGENDR=RRb.gender AND SD.RIDAGEYR>=RRb.ageStart AND SD.RIDAGEYR<=RRb.ageEnd AND SD.LBXMPSI>RRb.max);"
   ]
  },
  {
   "cell_type": "markdown",
   "metadata": {},
   "source": [
    "## Matriz com  desvio final\n",
    "\n",
    "* Matriz final com identificação das pessoas e desvios."
   ]
  },
  {
   "cell_type": "code",
   "execution_count": 14,
   "metadata": {},
   "outputs": [
    {
     "data": {
      "application/vnd.jupyter.widget-view+json": {
       "model_id": "009073cd-c7d3-4f2c-9c6c-0a13bec4e534",
       "version_major": 2,
       "version_minor": 0
      },
      "method": "display_data"
     },
     "metadata": {},
     "output_type": "display_data"
    },
    {
     "data": {
      "application/vnd.jupyter.widget-view+json": {
       "model_id": "106d70f1-5b7d-447b-a44f-87407b5d733b",
       "version_major": 2,
       "version_minor": 0
      },
      "method": "display_data"
     },
     "metadata": {},
     "output_type": "display_data"
    }
   ],
   "source": [
    "DROP VIEW IF EXISTS CorrelationMatrixWeighted;\n",
    "\n",
    "CREATE VIEW CorrelationMatrixWeighted AS\n",
    "SELECT DISTINCT SD.SEQN, SD.LBXIRN_d, SD.LBXTIB_d, SD.LBXSLDSI_d, SD.LBXWBCSI_d, SD.LBXLYPCT_d, SD.LBXMOPCT_d, SD.LBXNEPCT_d, SD.LBXEOPCT_d, SD.LBXBAPCT_d, SD.LBXRBCSI_d, SD.LBXHGB_d, SD.LBXHCT_d, SD.LBXMCVSI_d, SD.LBXMCHSI_d, SD.LBXMC_d, SD.LBXRDW_d, SD.LBXPLTSI_d, SD.LBXMPSI_d\n",
    "FROM SurveyD SD, ReferenceRanges RR\n",
    "WHERE SD.RIAGENDR=RR.gender AND SD.RIDAGEYR>=RR.ageStart AND SD.RIDAGEYR<=RR.ageEnd AND\n",
    "(LBXIRN_d>0 OR LBXTIB_d>0 OR LBXSLDSI_d>0 OR LBXWBCSI_d>0 OR LBXLYPCT_d>0 OR LBXMOPCT_d>0 OR LBXNEPCT_d>0 OR LBXEOPCT_d>0 OR LBXBAPCT_d>0 OR LBXRBCSI_d>0 OR LBXHGB_d>0 OR LBXHCT_d>0 OR LBXMCVSI_d>0 OR LBXMCHSI_d>0 OR LBXMC_d>0 OR LBXRDW_d>0 OR LBXPLTSI_d>0 OR LBXMPSI_d>0);\n",
    "\n",
    "SELECT COUNT(*) FROM CorrelationMatrixWeighted;\n",
    "SELECT * FROM CorrelationMatrixWeighted;"
   ]
  },
  {
   "cell_type": "markdown",
   "metadata": {},
   "source": [
    "## Gravação da matriz final com desvios"
   ]
  },
  {
   "cell_type": "code",
   "execution_count": 15,
   "metadata": {},
   "outputs": [
    {
     "data": {
      "text/plain": [
       "1751"
      ]
     },
     "execution_count": 15,
     "metadata": {},
     "output_type": "execute_result"
    }
   ],
   "source": [
    "CALL CSVWRITE('../data/nhanes2005-2006/correlation-matrix-weighted.csv', 'SELECT * FROM CorrelationMatrixWeighted');"
   ]
  },
  {
   "cell_type": "markdown",
   "metadata": {},
   "source": [
    "# Rede de variáveis\n",
    "\n",
    "* Nesta rede cada nó será uma variável e cada aresta indica que duas variáveis se correlacionam com uma certa identidade."
   ]
  },
  {
   "cell_type": "markdown",
   "metadata": {},
   "source": [
    "## Lista de pares de variáveis\n",
    "\n",
    "* Esta view prepara a lista de correlação aos pares inicializada com 0."
   ]
  },
  {
   "cell_type": "code",
   "execution_count": 16,
   "metadata": {},
   "outputs": [
    {
     "data": {
      "application/vnd.jupyter.widget-view+json": {
       "model_id": "b0bc8878-e8e7-4da8-87c1-044645f64ec4",
       "version_major": 2,
       "version_minor": 0
      },
      "method": "display_data"
     },
     "metadata": {},
     "output_type": "display_data"
    },
    {
     "data": {
      "application/vnd.jupyter.widget-view+json": {
       "model_id": "3330cd42-087b-4559-86f8-67d94c040a12",
       "version_major": 2,
       "version_minor": 0
      },
      "method": "display_data"
     },
     "metadata": {},
     "output_type": "display_data"
    }
   ],
   "source": [
    "DROP VIEW IF EXISTS VariablesCorrelation;\n",
    "DROP VIEW IF EXISTS Variables;\n",
    "\n",
    "CREATE VIEW Variables AS\n",
    "SELECT DISTINCT variable AS var1 FROM ReferenceRanges;\n",
    "\n",
    "CREATE VIEW VariablesCorrelation AS\n",
    "SELECT DISTINCT Variables.var1, ReferenceRanges.variable AS var2, 0 AS correlation\n",
    "FROM Variables, ReferenceRanges\n",
    "WHERE Variables.var1 < ReferenceRanges.variable;\n",
    "\n",
    "SELECT COUNT(*) FROM VariablesCorrelation;\n",
    "SELECT * FROM VariablesCorrelation;"
   ]
  },
  {
   "cell_type": "markdown",
   "metadata": {},
   "source": [
    "## Verticalização do survey\n",
    "\n",
    "* As pessoas e variáveis que se apresentam originalmente em uma matriz são transformadas em uma lista: pessoa, variável e valor. Essa lista facilitará as análises subsequentes."
   ]
  },
  {
   "cell_type": "code",
   "execution_count": 17,
   "metadata": {},
   "outputs": [
    {
     "data": {
      "application/vnd.jupyter.widget-view+json": {
       "model_id": "93544700-e232-4c7b-90e5-6295854fe9a5",
       "version_major": 2,
       "version_minor": 0
      },
      "method": "display_data"
     },
     "metadata": {},
     "output_type": "display_data"
    }
   ],
   "source": [
    "DROP VIEW IF EXISTS VerticalSurvey;\n",
    "\n",
    "CREATE VIEW VerticalSurvey AS\n",
    "  SELECT SU.SEQN, RR.variable, SU.LBXIRN AS value, 0 AS deviation\n",
    "  FROM Survey SU, ReferenceRanges RR\n",
    "  WHERE RR.variable='LBXIRN'\n",
    "UNION\n",
    "  SELECT SU.SEQN, RR.variable, SU.LBXTIB AS value, 0 AS deviation\n",
    "  FROM Survey SU, ReferenceRanges RR\n",
    "  WHERE RR.variable='LBXTIB'\n",
    "UNION\n",
    "  SELECT SU.SEQN, RR.variable, SU.LBXSLDSI AS value, 0 AS deviation\n",
    "  FROM Survey SU, ReferenceRanges RR\n",
    "  WHERE RR.variable='LBXSLDSI'\n",
    "UNION\n",
    "  SELECT SU.SEQN, RR.variable, SU.LBXWBCSI AS value, 0 AS deviation\n",
    "  FROM Survey SU, ReferenceRanges RR\n",
    "  WHERE RR.variable='LBXWBCSI'\n",
    "UNION\n",
    "  SELECT SU.SEQN, RR.variable, SU.LBXLYPCT AS value, 0 AS deviation\n",
    "  FROM Survey SU, ReferenceRanges RR\n",
    "  WHERE RR.variable='LBXLYPCT'\n",
    "UNION\n",
    "  SELECT SU.SEQN, RR.variable, SU.LBXMOPCT AS value, 0 AS deviation\n",
    "  FROM Survey SU, ReferenceRanges RR\n",
    "  WHERE RR.variable='LBXMOPCT'\n",
    "UNION\n",
    "  SELECT SU.SEQN, RR.variable, SU.LBXNEPCT AS value, 0 AS deviation\n",
    "  FROM Survey SU, ReferenceRanges RR\n",
    "  WHERE RR.variable='LBXNEPCT'\n",
    "UNION\n",
    "  SELECT SU.SEQN, RR.variable, SU.LBXEOPCT AS value, 0 AS deviation\n",
    "  FROM Survey SU, ReferenceRanges RR\n",
    "  WHERE RR.variable='LBXEOPCT'\n",
    "UNION\n",
    "  SELECT SU.SEQN, RR.variable, SU.LBXBAPCT AS value, 0 AS deviation\n",
    "  FROM Survey SU, ReferenceRanges RR\n",
    "  WHERE RR.variable='LBXBAPCT'\n",
    "UNION\n",
    "  SELECT SU.SEQN, RR.variable, SU.LBXRBCSI AS value, 0 AS deviation\n",
    "  FROM Survey SU, ReferenceRanges RR\n",
    "  WHERE RR.variable='LBXRBCSI'\n",
    "UNION\n",
    "  SELECT SU.SEQN, RR.variable, SU.LBXHGB AS value, 0 AS deviation\n",
    "  FROM Survey SU, ReferenceRanges RR\n",
    "  WHERE RR.variable='LBXHGB'\n",
    "UNION\n",
    "  SELECT SU.SEQN, RR.variable, SU.LBXHCT AS value, 0 AS deviation\n",
    "  FROM Survey SU, ReferenceRanges RR\n",
    "  WHERE RR.variable='LBXHCT'\n",
    "UNION\n",
    "  SELECT SU.SEQN, RR.variable, SU.LBXMCVSI AS value, 0 AS deviation\n",
    "  FROM Survey SU, ReferenceRanges RR\n",
    "  WHERE RR.variable='LBXMCVSI'\n",
    "UNION\n",
    "  SELECT SU.SEQN, RR.variable, SU.LBXMCHSI AS value, 0 AS deviation\n",
    "  FROM Survey SU, ReferenceRanges RR\n",
    "  WHERE RR.variable='LBXMCHSI'\n",
    "UNION\n",
    "  SELECT SU.SEQN, RR.variable, SU.LBXMC AS value, 0 AS deviation\n",
    "  FROM Survey SU, ReferenceRanges RR\n",
    "  WHERE RR.variable='LBXMC'\n",
    "UNION\n",
    "  SELECT SU.SEQN, RR.variable, SU.LBXRDW AS value, 0 AS deviation\n",
    "  FROM Survey SU, ReferenceRanges RR\n",
    "  WHERE RR.variable='LBXRDW'\n",
    "UNION\n",
    "  SELECT SU.SEQN, RR.variable, SU.LBXPLTSI AS value, 0 AS deviation\n",
    "  FROM Survey SU, ReferenceRanges RR\n",
    "  WHERE RR.variable='LBXPLTSI'\n",
    "UNION\n",
    "  SELECT SU.SEQN, RR.variable, SU.LBXMPSI AS value, 0 AS deviation\n",
    "  FROM Survey SU, ReferenceRanges RR\n",
    "  WHERE RR.variable='LBXMPSI'\n",
    ";\n",
    "  \n",
    "SELECT * FROM VerticalSurvey;"
   ]
  },
  {
   "cell_type": "markdown",
   "metadata": {},
   "source": [
    "## Gravação do survey vertical em CSV"
   ]
  },
  {
   "cell_type": "code",
   "execution_count": 18,
   "metadata": {},
   "outputs": [
    {
     "data": {
      "text/plain": [
       "47970"
      ]
     },
     "execution_count": 18,
     "metadata": {},
     "output_type": "execute_result"
    }
   ],
   "source": [
    "CALL CSVWRITE('../data/nhanes2005-2006/vertical-survey.csv', 'SELECT SEQN,variable,value FROM VerticalSurvey');"
   ]
  },
  {
   "cell_type": "markdown",
   "metadata": {},
   "source": [
    "## Transformação da VIEW em tabela para permitir updates"
   ]
  },
  {
   "cell_type": "code",
   "execution_count": 19,
   "metadata": {},
   "outputs": [],
   "source": [
    "DROP TABLE IF EXISTS VerticalSurveyD;\n",
    "CREATE TABLE VerticalSurveyD (\n",
    "  SEQN VARCHAR(8),\n",
    "  variable VARCHAR(8),\n",
    "  value DECIMAL(7,1),\n",
    "  deviation DECIMAL(7,1),\n",
    "  PRIMARY KEY(SEQN, variable)\n",
    ") AS SELECT * FROM VerticalSurvey;"
   ]
  },
  {
   "cell_type": "markdown",
   "metadata": {},
   "source": [
    "## Cáculo do desvio de variáveis que ultrapassam o limite"
   ]
  },
  {
   "cell_type": "code",
   "execution_count": 20,
   "metadata": {},
   "outputs": [
    {
     "data": {
      "application/vnd.jupyter.widget-view+json": {
       "model_id": "8e99f14b-b6fe-4787-af19-32f3d410f3b3",
       "version_major": 2,
       "version_minor": 0
      },
      "method": "display_data"
     },
     "metadata": {},
     "output_type": "display_data"
    }
   ],
   "source": [
    "UPDATE VerticalSurveyD VS\n",
    "SET VS.deviation =\n",
    "(SELECT RRa.min-VS.value\n",
    " FROM Survey SUa, ReferenceRanges RRa\n",
    " WHERE RRa.variable=VS.variable AND SUa.SEQN=VS.SEQN AND SUa.RIAGENDR=RRa.gender AND SUa.RIDAGEYR>=RRa.ageStart AND SUa.RIDAGEYR<=RRa.ageEnd AND VS.value<RRa.min)\n",
    "WHERE EXISTS\n",
    "(SELECT RRb.min\n",
    " FROM Survey SUb, ReferenceRanges RRb\n",
    " WHERE RRb.variable=VS.variable AND SUb.SEQN=VS.SEQN AND SUb.RIAGENDR=RRb.gender AND SUb.RIDAGEYR>=RRb.ageStart AND SUb.RIDAGEYR<=RRb.ageEnd AND VS.value<RRb.min);\n",
    "\n",
    "UPDATE VerticalSurveyD VS\n",
    "SET VS.deviation =\n",
    "(SELECT VS.value-RRa.max\n",
    " FROM Survey SUa, ReferenceRanges RRa\n",
    " WHERE RRa.variable=VS.variable AND SUa.SEQN=VS.SEQN AND SUa.RIAGENDR=RRa.gender AND SUa.RIDAGEYR>=RRa.ageStart AND SUa.RIDAGEYR<=RRa.ageEnd AND VS.value>RRa.max)\n",
    "WHERE EXISTS\n",
    "(SELECT RRb.max\n",
    " FROM Survey SUb, ReferenceRanges RRb\n",
    " WHERE RRb.variable=VS.variable AND SUb.SEQN=VS.SEQN AND SUb.RIAGENDR=RRb.gender AND SUb.RIDAGEYR>=RRb.ageStart AND SUb.RIDAGEYR<=RRb.ageEnd AND VS.value>RRb.max);\n",
    " \n",
    "SELECT * FROM VerticalSurveyD WHERE deviation > 0;"
   ]
  },
  {
   "cell_type": "markdown",
   "metadata": {},
   "source": [
    "## Cálculo da média dos desvios\n",
    "\n",
    "* Tentativa de normalização dos valores, mas as médias estão estranahas."
   ]
  },
  {
   "cell_type": "code",
   "execution_count": 21,
   "metadata": {},
   "outputs": [
    {
     "data": {
      "application/vnd.jupyter.widget-view+json": {
       "model_id": "0c9f6559-37de-4958-b261-f3c13fa7fade",
       "version_major": 2,
       "version_minor": 0
      },
      "method": "display_data"
     },
     "metadata": {},
     "output_type": "display_data"
    }
   ],
   "source": [
    "SELECT variable, AVG(deviation) FROM VerticalSurveyD VS GROUP BY variable;"
   ]
  },
  {
   "cell_type": "markdown",
   "metadata": {},
   "source": [
    "## Correlação de variáveis por pessoa\n",
    "\n",
    "* Análise de pares de variáveis de pessoas que se correlacionam"
   ]
  },
  {
   "cell_type": "code",
   "execution_count": 22,
   "metadata": {},
   "outputs": [
    {
     "data": {
      "application/vnd.jupyter.widget-view+json": {
       "model_id": "1f89b51f-1cc3-4a85-9ea5-e5ad0149799d",
       "version_major": 2,
       "version_minor": 0
      },
      "method": "display_data"
     },
     "metadata": {},
     "output_type": "display_data"
    }
   ],
   "source": [
    "DROP VIEW IF EXISTS VariablePairCorrelation;\n",
    "DROP VIEW IF EXISTS IndividualVariablesCorrelation;\n",
    "\n",
    "CREATE VIEW IndividualVariablesCorrelation AS\n",
    "SELECT VS1.SEQN, CM.profile, VC.var1, VC.var2\n",
    "FROM VariablesCorrelation VC, VerticalSurveyD VS1, VerticalSurveyD VS2, CorrelationMatrix CM\n",
    "WHERE VS1.SEQN = VS2.SEQN AND VS1.variable = VC.var1 AND VS2.variable = VC.var2 AND \n",
    "      VS1.deviation > 0 AND VS2.deviation > 0 AND\n",
    "      VS1.SEQN = CM.SEQN;\n",
    "\n",
    "SELECT * FROM IndividualVariablesCorrelation\n",
    "ORDER BY var1, var2;"
   ]
  },
  {
   "cell_type": "markdown",
   "metadata": {},
   "source": [
    "## Correlação de pares de variáveis\n",
    "\n",
    "* Agrupamento das correlações por pares de variáveis.\n",
    "* Preparação para a montagem de rede com variáveis nos nós e arestas ligando variáveis que saíram dos limites juntas para a mesma pessoa."
   ]
  },
  {
   "cell_type": "code",
   "execution_count": 23,
   "metadata": {},
   "outputs": [
    {
     "data": {
      "application/vnd.jupyter.widget-view+json": {
       "model_id": "220a503c-8771-43d9-abe4-d0e4d70710aa",
       "version_major": 2,
       "version_minor": 0
      },
      "method": "display_data"
     },
     "metadata": {},
     "output_type": "display_data"
    }
   ],
   "source": [
    "DROP VIEW IF EXISTS VariablePairCorrelation;\n",
    "CREATE VIEW VariablePairCorrelation AS\n",
    "SELECT var1 AS source, var2 as TARGET, COUNT(*) AS weight\n",
    "FROM IndividualVariablesCorrelation\n",
    "GROUP BY var1, var2;\n",
    "\n",
    "SELECT * FROM VariablePairCorrelation;"
   ]
  },
  {
   "cell_type": "markdown",
   "metadata": {},
   "source": [
    "## Gravação de CSV de correlações para Gephi"
   ]
  },
  {
   "cell_type": "code",
   "execution_count": 24,
   "metadata": {},
   "outputs": [
    {
     "data": {
      "text/plain": [
       "152"
      ]
     },
     "execution_count": 24,
     "metadata": {},
     "output_type": "execute_result"
    }
   ],
   "source": [
    "CALL CSVWRITE('../data/nhanes2005-2006/variable-pair-correlation.csv', 'SELECT * FROM VariablePairCorrelation');"
   ]
  },
  {
   "cell_type": "markdown",
   "metadata": {},
   "source": [
    "# Variable Network\n",
    "\n",
    "* Rede de variáveis produzida no Gephi a partir do arquivo acima.\n",
    "\n",
    "![variable network](variable-network.svg \"Variable Network\")"
   ]
  },
  {
   "cell_type": "markdown",
   "metadata": {},
   "source": [
    "# Rede de perfis\n",
    "\n",
    "* Retomada da rede de perfis."
   ]
  },
  {
   "cell_type": "markdown",
   "metadata": {},
   "source": [
    "## Análise de correlação entre pares de perfis\n",
    "\n",
    "* Cada vez que duas pessoas compartilham uma variável fora dos limites, é definida uma aresta entre elas.\n",
    "* As arestas são agrupadas por pares de perfil. Para cada par é contado o número de indivíduos/variáveis que coocorrem."
   ]
  },
  {
   "cell_type": "code",
   "execution_count": 25,
   "metadata": {},
   "outputs": [
    {
     "data": {
      "application/vnd.jupyter.widget-view+json": {
       "model_id": "67671669-b345-4c50-bedf-80e1c9c93f15",
       "version_major": 2,
       "version_minor": 0
      },
      "method": "display_data"
     },
     "metadata": {},
     "output_type": "display_data"
    },
    {
     "data": {
      "application/vnd.jupyter.widget-view+json": {
       "model_id": "a2b6b392-ad46-45c3-9424-d4e17787baeb",
       "version_major": 2,
       "version_minor": 0
      },
      "method": "display_data"
     },
     "metadata": {},
     "output_type": "display_data"
    }
   ],
   "source": [
    "DROP VIEW IF EXISTS ProfileCorrelationWeight;\n",
    "DROP VIEW IF EXISTS ProfileCorrelation;\n",
    "DROP VIEW IF EXISTS IndividualVariablesCorrelationCopy;\n",
    "\n",
    "CREATE VIEW IndividualVariablesCorrelationCopy AS\n",
    "  SELECT SEQN, profile AS profileCopy, var1, var2\n",
    "  FROM IndividualVariablesCorrelation;\n",
    "\n",
    "CREATE VIEW ProfileCorrelation AS\n",
    "  SELECT IPC1.profile, IPC2.profileCopy\n",
    "  FROM IndividualVariablesCorrelation IPC1, IndividualVariablesCorrelationCopy IPC2\n",
    "  WHERE IPC1.var1 = IPC2.var1 AND IPC1.var2 = IPC2.var2 AND\n",
    "        IPC1.SEQN < IPC2.SEQN AND IPC1.profile <> IPC2.profileCopy;\n",
    "      \n",
    "CREATE VIEW ProfileCorrelationWeight AS\n",
    "  SELECT PC.profile AS source, PC.profileCopy as target, COUNT(*) as weight\n",
    "  FROM ProfileCorrelation PC\n",
    "  GROUP BY PC.profile, PC.profileCopy;\n",
    "  \n",
    "SELECT COUNT(*) FROM ProfileCorrelationWeight;\n",
    "SELECT * FROM ProfileCorrelationWeight;"
   ]
  },
  {
   "cell_type": "markdown",
   "metadata": {},
   "source": [
    "## Gravação de pares de perfis com similaridade para rede"
   ]
  },
  {
   "cell_type": "code",
   "execution_count": 26,
   "metadata": {},
   "outputs": [
    {
     "data": {
      "text/plain": [
       "9715"
      ]
     },
     "execution_count": 26,
     "metadata": {},
     "output_type": "execute_result"
    }
   ],
   "source": [
    "CALL CSVWRITE('../data/nhanes2005-2006/profile-pair-correlation.csv', 'SELECT * FROM ProfileCorrelationWeight');"
   ]
  },
  {
   "cell_type": "markdown",
   "metadata": {},
   "source": [
    "# Profile Network\n",
    "\n",
    "![profile network](profile-network.png \"Profile Network\")"
   ]
  }
 ],
 "metadata": {
  "kernelspec": {
   "display_name": "SQL",
   "language": "SQL",
   "name": "sql"
  },
  "language_info": {
   "codemirror_mode": "sql",
   "file_extension": ".sql",
   "mimetype": "",
   "name": "SQL",
   "nbconverter_exporter": "",
   "version": ""
  }
 },
 "nbformat": 4,
 "nbformat_minor": 2
}
