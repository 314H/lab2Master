{
 "cells": [
  {
   "cell_type": "code",
   "execution_count": 1,
   "metadata": {},
   "outputs": [],
   "source": [
    "%defaultDatasource jdbc:h2:mem:db"
   ]
  },
  {
   "cell_type": "markdown",
   "metadata": {},
   "source": [
    "# Primeiro conjunto de tabelas para consultas básicas"
   ]
  },
  {
   "cell_type": "code",
   "execution_count": 2,
   "metadata": {},
   "outputs": [],
   "source": [
    "DROP TABLE IF EXISTS Taxi;\n",
    "DROP TABLE IF EXISTS Cliente;\n",
    "DROP TABLE IF EXISTS Corrida;\n",
    "\n",
    "CREATE TABLE Taxi (\n",
    "  Placa VARCHAR(7) NOT NULL,\n",
    "  Marca VARCHAR(30) NOT NULL,\n",
    "  Modelo VARCHAR(30) NOT NULL,\n",
    "  AnoFab INTEGER,\n",
    "  Licenca VARCHAR(9),\n",
    "  PRIMARY KEY(Placa)\n",
    ");\n",
    "\n",
    "CREATE TABLE Cliente (\n",
    "  CliId VARCHAR(4) NOT NULL,\n",
    "  Nome VARCHAR(80) NOT NULL,\n",
    "  CPF VARCHAR(14) NOT NULL,\n",
    "  PRIMARY KEY(CliId)\n",
    ");\n",
    "\n",
    "CREATE TABLE Corrida (\n",
    "  CliId VARCHAR(4) NOT NULL,\n",
    "  Placa VARCHAR(7) NOT NULL,\n",
    "  DataPedido DATE NOT NULL,\n",
    "  PRIMARY KEY(CliId, Placa, DataPedido),\n",
    "  FOREIGN KEY(CliId)\n",
    "    REFERENCES Cliente(CliId)\n",
    "      ON DELETE NO ACTION\n",
    "      ON UPDATE NO ACTION,\n",
    "  FOREIGN KEY(Placa)\n",
    "    REFERENCES Taxi(Placa)\n",
    "      ON DELETE NO ACTION\n",
    "      ON UPDATE NO ACTION\n",
    ");"
   ]
  },
  {
   "cell_type": "code",
   "execution_count": 3,
   "metadata": {},
   "outputs": [],
   "source": [
    "INSERT INTO Cliente VALUES ('1532', 'Asdrúbal', '448.754.253-65');\n",
    "INSERT INTO Cliente VALUES ('1755', 'Doriana', '567.387.387-44');\n",
    "INSERT INTO Cliente VALUES ('1780', 'Quincas', '546.373.762-02');\n",
    "\n",
    "INSERT INTO Taxi VALUES ('DAE6534', 'Ford', 'Fiesta', 1999, 'MN572345');\n",
    "INSERT INTO Taxi VALUES ('DKL4598', 'Wolkswagen', 'Gol', 2001, 'AU876543');\n",
    "INSERT INTO Taxi VALUES ('DKL7878', 'Ford', 'Fiesta', 2001, 'OP102938');\n",
    "INSERT INTO Taxi VALUES ('JDM8776', 'Wolkswagen', 'Santana', 2002, 'QM365923');\n",
    "INSERT INTO Taxi VALUES ('JJM3692', 'Chevrolet', 'Corsa', 1999, 'UU335577');\n",
    "\n",
    "INSERT INTO Corrida VALUES ('1755', 'DAE6534', '2003-02-15');\n",
    "INSERT INTO Corrida VALUES ('1780', 'JDM8776', '2003-02-18');\n",
    "INSERT INTO Corrida VALUES ('1755', 'DKL7878', '2003-02-16');\n",
    "INSERT INTO Corrida VALUES ('1780', 'DKL4598', '2003-02-17');\n",
    "INSERT INTO Corrida VALUES ('1532', 'DKL4598', '2003-02-18');\n",
    "INSERT INTO Corrida VALUES ('1780', 'DAE6534', '2003-02-16');"
   ]
  },
  {
   "cell_type": "markdown",
   "metadata": {},
   "source": [
    "# Segundo conjunto de tabelas para consultas avançadas"
   ]
  },
  {
   "cell_type": "code",
   "execution_count": 4,
   "metadata": {},
   "outputs": [],
   "source": [
    "DROP TABLE IF EXISTS Motorista;\n",
    "DROP TABLE IF EXISTS Zona;\n",
    "DROP TABLE IF EXISTS Fila;\n",
    "\n",
    "CREATE TABLE Motorista (\n",
    "  CNH VARCHAR(6) NOT NULL,\n",
    "  Nome VARCHAR(80) NOT NULL,\n",
    "  CNHValid INTEGER,\n",
    "  Placa VARCHAR(7) NOT NULL,\n",
    "  PRIMARY KEY(CNH),\n",
    "  FOREIGN KEY(Placa)\n",
    "    REFERENCES Taxi(Placa)\n",
    "      ON DELETE NO ACTION\n",
    "      ON UPDATE NO ACTION\n",
    ");\n",
    "\n",
    "CREATE TABLE Zona (\n",
    "  Zona VARCHAR(40) NOT NULL,\n",
    "  PRIMARY KEY(Zona)\n",
    ");\n",
    "\n",
    "CREATE TABLE Fila (\n",
    "   Zona VARCHAR(40) NOT NULL,\n",
    "   CNH VARCHAR(6) NOT NULL,\n",
    "   DataHoraIn TIMESTAMP,\n",
    "   DataHoraOut TIMESTAMP,\n",
    "   KmIn INTEGER,\n",
    "   PRIMARY KEY (Zona, CNH),\n",
    "   FOREIGN KEY(Zona)\n",
    "     REFERENCES Zona(Zona)\n",
    "       ON DELETE NO ACTION\n",
    "       ON UPDATE NO ACTION,\n",
    "   FOREIGN KEY(CNH)\n",
    "     REFERENCES Motorista(CNH)\n",
    "       ON DELETE NO ACTION\n",
    "       ON UPDATE NO ACTION\n",
    ");"
   ]
  },
  {
   "cell_type": "code",
   "execution_count": 5,
   "metadata": {},
   "outputs": [],
   "source": [
    "INSERT INTO Taxi VALUES ('DXF5263', 'Ford', 'Escort', 2001, 'GG5263526');\n",
    "INSERT INTO Taxi VALUES ('MJN6578', 'Wolkswagen', 'Santana', 1998, 'KL856326');\n",
    "INSERT INTO Taxi VALUES ('MLA4545', 'Wolkswagen', 'Gol', 2000, 'YK6574837');\n",
    "INSERT INTO Taxi VALUES ('DXA7878', 'Ford', 'Escort', 2000, 'GG5263526');\n",
    "INSERT INTO Taxi VALUES ('DXF6767', 'Wolkswagen', 'Santana', 1998, 'YK7890081');\n",
    "\n",
    "INSERT INTO Motorista VALUES ('657483', 'Asdrubal', 1, 'DXF5263');\n",
    "INSERT INTO Motorista VALUES ('567892', 'Quincas', 1, 'MLA4545');\n",
    "INSERT INTO Motorista VALUES ('452635', 'Zandor', 1, 'DXA7878');\n",
    "INSERT INTO Motorista VALUES ('452452', 'Alcebiades', 1, 'DXF6767');\n",
    "INSERT INTO Motorista VALUES ('555555', 'Bonerges', 1, 'DAE6534');\n",
    "INSERT INTO Motorista VALUES ('987654', 'Doriana', 1, 'JDM8776');\n",
    "\n",
    "INSERT INTO Zona VALUES ('Barão Geraldo');\n",
    "INSERT INTO Zona VALUES ('Cambuí');\n",
    "INSERT INTO Zona VALUES ('Taquaral');\n",
    "INSERT INTO Zona VALUES ('Unicamp');\n",
    "\n",
    "INSERT INTO Fila VALUES ('Barão Geraldo', '567892', '2002-06-05 09:00:00', '2002-06-05 09:30:00', 4630);\n",
    "INSERT INTO Fila VALUES ('Barão Geraldo', '657483', '2002-06-05 07:30:00', '2002-06-05 07:45:00', 1567);\n",
    "INSERT INTO Fila VALUES ('Taquaral', '452452', '2002-06-05 09:00:00', '2002-06-05 09:50:00', 5000);\n",
    "INSERT INTO Fila VALUES ('Taquaral', '657483', '2002-06-06 08:00:00', '2002-06-06 08:07:00', 7900);\n",
    "INSERT INTO Fila VALUES ('Unicamp', '452635', '2002-06-02 08:00:00', '2002-06-02 08:00:00', 4800);\n",
    "INSERT INTO Fila VALUES ('Unicamp', '567892', '2002-06-06 06:00:00', '2002-06-06 06:00:00', 5263);\n",
    "INSERT INTO Fila VALUES ('Unicamp', '657483', '2002-06-06 23:00:00', '2002-06-06 23:00:00', 4541);\n",
    "INSERT INTO Fila VALUES ('Unicamp', '452452', '2002-06-05 10:30:00', '2002-06-05 10:30:00', 7800);\n",
    "INSERT INTO Fila VALUES ('Taquaral', '555555', '2002-06-06 08:10:00', '2002-06-06 08:10:00', 7910);\n",
    "INSERT INTO Fila VALUES ('Unicamp', '987654', '2002-06-05 10:30:00', '2002-06-05 10:35:00', 7850);"
   ]
  },
  {
   "cell_type": "markdown",
   "metadata": {},
   "source": [
    "# Exemplos de aninhamento de consulta"
   ]
  },
  {
   "cell_type": "markdown",
   "metadata": {},
   "source": [
    "## Zonas que receberam algum taxi na fila (sem aninhamento)"
   ]
  },
  {
   "cell_type": "code",
   "execution_count": 7,
   "metadata": {},
   "outputs": [
    {
     "data": {
      "application/vnd.jupyter.widget-view+json": {
       "model_id": "9d8cb1b6-2294-41b1-a9b6-d6f58840e3f6",
       "version_major": 2,
       "version_minor": 0
      },
      "method": "display_data"
     },
     "metadata": {},
     "output_type": "display_data"
    }
   ],
   "source": [
    "SELECT DISTINCT Z.zona\n",
    "FROM Zona Z, Fila F\n",
    "WHERE Z.zona = F.zona;"
   ]
  },
  {
   "cell_type": "markdown",
   "metadata": {},
   "source": [
    "## Zonas que receberam algum taxi na fila (com aninhamento / IN)"
   ]
  },
  {
   "cell_type": "code",
   "execution_count": 9,
   "metadata": {},
   "outputs": [
    {
     "data": {
      "application/vnd.jupyter.widget-view+json": {
       "model_id": "038a36b5-daec-45d6-8110-31c50497e763",
       "version_major": 2,
       "version_minor": 0
      },
      "method": "display_data"
     },
     "metadata": {},
     "output_type": "display_data"
    }
   ],
   "source": [
    "SELECT Z.zona\n",
    "FROM Zona Z\n",
    "WHERE Z.zona IN (SELECT DISTINCT F.zona FROM Fila F);"
   ]
  },
  {
   "cell_type": "markdown",
   "metadata": {},
   "source": [
    "## Zonas que receberam algum taxi na fila (com aninhamento / EXISTS)"
   ]
  },
  {
   "cell_type": "code",
   "execution_count": 11,
   "metadata": {},
   "outputs": [
    {
     "data": {
      "application/vnd.jupyter.widget-view+json": {
       "model_id": "19281f52-ade5-46c1-a87c-01a50988ed25",
       "version_major": 2,
       "version_minor": 0
      },
      "method": "display_data"
     },
     "metadata": {},
     "output_type": "display_data"
    }
   ],
   "source": [
    "SELECT Z.zona\n",
    "FROM Zona Z\n",
    "WHERE EXISTS (SELECT * FROM Fila F WHERE F.zona = Z.zona);"
   ]
  },
  {
   "cell_type": "markdown",
   "metadata": {},
   "source": [
    "## Zonas que nao receberam algum taxi na fila (com aninhamento / NOT IN)"
   ]
  },
  {
   "cell_type": "code",
   "execution_count": 13,
   "metadata": {},
   "outputs": [
    {
     "data": {
      "text/plain": [
       "Cambuí"
      ]
     },
     "execution_count": 13,
     "metadata": {},
     "output_type": "execute_result"
    }
   ],
   "source": [
    "SELECT Z.zona\n",
    "FROM Zona Z\n",
    "WHERE Z.zona NOT IN (SELECT DISTINCT F.zona FROM Fila F);"
   ]
  },
  {
   "cell_type": "markdown",
   "metadata": {},
   "source": [
    "## Zonas que nao receberam algum taxi na fila (com aninhamento / NOT EXISTS)"
   ]
  },
  {
   "cell_type": "code",
   "execution_count": 14,
   "metadata": {},
   "outputs": [
    {
     "data": {
      "text/plain": [
       "Cambuí"
      ]
     },
     "execution_count": 14,
     "metadata": {},
     "output_type": "execute_result"
    }
   ],
   "source": [
    "SELECT Z.zona\n",
    "FROM Zona Z\n",
    "WHERE NOT EXISTS (SELECT * FROM Fila F WHERE F.zona = Z.zona);"
   ]
  },
  {
   "cell_type": "markdown",
   "metadata": {},
   "source": [
    "## Taxis modelo Fiesta"
   ]
  },
  {
   "cell_type": "code",
   "execution_count": 15,
   "metadata": {},
   "outputs": [
    {
     "data": {
      "application/vnd.jupyter.widget-view+json": {
       "model_id": "bd3761c7-5c41-426a-a9d7-c7e89a3cfb79",
       "version_major": 2,
       "version_minor": 0
      },
      "method": "display_data"
     },
     "metadata": {},
     "output_type": "display_data"
    }
   ],
   "source": [
    "SELECT T.placa, T.modelo FROM Taxi T WHERE T.modelo = 'Fiesta';"
   ]
  },
  {
   "cell_type": "markdown",
   "metadata": {},
   "source": [
    "## Nome dos clientes que andaram nos taxis modelo Fiesta (sem aninhamento)"
   ]
  },
  {
   "cell_type": "code",
   "execution_count": 16,
   "metadata": {},
   "outputs": [
    {
     "data": {
      "application/vnd.jupyter.widget-view+json": {
       "model_id": "a2764e8a-f4a8-4697-9e5d-bcd326bb76b4",
       "version_major": 2,
       "version_minor": 0
      },
      "method": "display_data"
     },
     "metadata": {},
     "output_type": "display_data"
    }
   ],
   "source": [
    "SELECT DISTINCT Cl.nome\n",
    "FROM Cliente Cl, Corrida Co, Taxi Tx\n",
    "WHERE Cl.cliid = Co.cliid AND Co.placa = Tx.placa AND\n",
    "      Tx.modelo = 'Fiesta';"
   ]
  },
  {
   "cell_type": "markdown",
   "metadata": {},
   "source": [
    "## Nome dos clientes que andaram nos taxis modelo Fiesta (com aninhamento)"
   ]
  },
  {
   "cell_type": "code",
   "execution_count": 18,
   "metadata": {},
   "outputs": [
    {
     "data": {
      "application/vnd.jupyter.widget-view+json": {
       "model_id": "ac14cc5e-e2d0-4ca6-97dc-a09c10fb3283",
       "version_major": 2,
       "version_minor": 0
      },
      "method": "display_data"
     },
     "metadata": {},
     "output_type": "display_data"
    }
   ],
   "source": [
    "SELECT DISTINCT Cl.nome\n",
    "FROM Cliente Cl, Corrida Co\n",
    "WHERE Cl.cliid = Co.cliid AND\n",
    "      Co.placa IN (SELECT Tx.placa FROM Taxi Tx\n",
    "                   WHERE Tx.modelo = 'Fiesta');"
   ]
  },
  {
   "cell_type": "markdown",
   "metadata": {},
   "source": [
    "## Nome dos clientes que andaram no taxi dirigido por Bonerges"
   ]
  },
  {
   "cell_type": "code",
   "execution_count": 19,
   "metadata": {},
   "outputs": [
    {
     "data": {
      "application/vnd.jupyter.widget-view+json": {
       "model_id": "2c3331a1-611d-4064-8cf5-263552b9c073",
       "version_major": 2,
       "version_minor": 0
      },
      "method": "display_data"
     },
     "metadata": {},
     "output_type": "display_data"
    }
   ],
   "source": [
    "SELECT DISTINCT Cl.nome\n",
    "FROM Cliente Cl, Corrida Co\n",
    "WHERE Cl.cliid = Co.cliid AND\n",
    "      Co.placa = (SELECT Tx.placa FROM Taxi Tx, Motorista Mo\n",
    "                  WHERE Tx.placa = Mo.placa AND\n",
    "                        Mo.nome = 'Bonerges');"
   ]
  },
  {
   "cell_type": "markdown",
   "metadata": {},
   "source": [
    "## Taxis que entraram na fila antes da primeira entrada de Alcebiades"
   ]
  },
  {
   "cell_type": "code",
   "execution_count": 20,
   "metadata": {},
   "outputs": [
    {
     "data": {
      "application/vnd.jupyter.widget-view+json": {
       "model_id": "f36337d4-f38f-4715-a5c9-d2ad547fe76c",
       "version_major": 2,
       "version_minor": 0
      },
      "method": "display_data"
     },
     "metadata": {},
     "output_type": "display_data"
    }
   ],
   "source": [
    "SELECT Mo.placa, Fi.datahorain\n",
    "FROM Motorista Mo, Fila Fi\n",
    "WHERE Mo.cnh = Fi.cnh AND\n",
    "      Fi.datahorain < (SELECT MIN(F.datahorain)\n",
    "                       FROM Motorista M, Fila F\n",
    "                       WHERE M.cnh = F.cnh AND\n",
    "                             M.nome = 'Alcebiades');"
   ]
  },
  {
   "cell_type": "markdown",
   "metadata": {},
   "source": [
    "## Quem foi o primeiro motorista a entrar em qualquer uma das filas"
   ]
  },
  {
   "cell_type": "code",
   "execution_count": 22,
   "metadata": {},
   "outputs": [
    {
     "data": {
      "application/vnd.jupyter.widget-view+json": {
       "model_id": "26492914-5ce8-4196-841f-3db0305da89c",
       "version_major": 2,
       "version_minor": 0
      },
      "method": "display_data"
     },
     "metadata": {},
     "output_type": "display_data"
    }
   ],
   "source": [
    "SELECT Mo.nome, Fi.datahorain\n",
    "FROM Motorista Mo, Fila Fi\n",
    "WHERE Mo.cnh = Fi.cnh AND\n",
    "      Fi.datahorain <= ALL (SELECT datahorain FROM Fila);"
   ]
  },
  {
   "cell_type": "markdown",
   "metadata": {},
   "source": [
    "## Quem nao foi o primeiro motorista a entrar em qualquer uma das filas"
   ]
  },
  {
   "cell_type": "code",
   "execution_count": 23,
   "metadata": {},
   "outputs": [
    {
     "data": {
      "application/vnd.jupyter.widget-view+json": {
       "model_id": "21e89999-1243-4de2-86a6-77be56e79344",
       "version_major": 2,
       "version_minor": 0
      },
      "method": "display_data"
     },
     "metadata": {},
     "output_type": "display_data"
    }
   ],
   "source": [
    "SELECT Mo.nome, Fi.datahorain\n",
    "FROM Motorista Mo, Fila Fi\n",
    "WHERE Mo.cnh = Fi.cnh AND\n",
    "      Fi.datahorain > ANY (SELECT DataHoraIn FROM Fila);"
   ]
  }
 ],
 "metadata": {
  "kernelspec": {
   "display_name": "SQL",
   "language": "SQL",
   "name": "sql"
  },
  "language_info": {
   "codemirror_mode": "sql",
   "file_extension": ".sql",
   "mimetype": "",
   "name": "SQL",
   "nbconverter_exporter": "",
   "version": ""
  },
  "toc": {
   "base_numbering": 1,
   "nav_menu": {},
   "number_sections": false,
   "sideBar": false,
   "skip_h1_title": false,
   "title_cell": "Table of Contents",
   "title_sidebar": "Contents",
   "toc_cell": false,
   "toc_position": {},
   "toc_section_display": false,
   "toc_window_display": false
  }
 },
 "nbformat": 4,
 "nbformat_minor": 2
}
