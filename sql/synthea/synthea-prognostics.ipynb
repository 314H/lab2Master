{
 "cells": [
  {
   "cell_type": "code",
   "execution_count": 1,
   "metadata": {},
   "outputs": [],
   "source": [
    "%defaultDatasource jdbc:h2:mem:db"
   ]
  },
  {
   "cell_type": "code",
   "execution_count": 2,
   "metadata": {},
   "outputs": [],
   "source": [
    "DROP TABLE IF EXISTS Patients;\n",
    "\n",
    "CREATE TABLE Patients(\n",
    "    id VARCHAR(36),\n",
    "    birthdate DATE,\n",
    "    deathdate DATE,\n",
    "    ssn VARCHAR(11),\n",
    "    drivers VARCHAR(9),\n",
    "    passport VARCHAR(15),\n",
    "    prefix VARCHAR(4),\n",
    "    first VARCHAR(20),\n",
    "    last VARCHAR(20),\n",
    "    suffix VARCHAR(5),\n",
    "    maiden VARCHAR(20),\n",
    "    marital CHAR,\n",
    "    race VARCHAR(10),\n",
    "    ethnicity VARCHAR(15),\n",
    "    gender CHAR,\n",
    "    birthplace VARCHAR(100),\n",
    "    address VARCHAR(50),\n",
    "    city VARCHAR(30),\n",
    "    state VARCHAR(30),\n",
    "    county VARCHAR(50),\n",
    "    zip VARCHAR(10),\n",
    "    lat DECIMAL(18,15),\n",
    "    lon DECIMAL(18,15),\n",
    "    healthcare_expenses VARCHAR(20),\n",
    "    healthcare_coverage VARCHAR(20),\n",
    "    PRIMARY KEY(id)\n",
    ") AS SELECT id,birthdate,deathdate,ssn,drivers,passport,prefix,first,last,suffix,maiden,marital,race,ethnicity,gender,\n",
    "            birthplace,address,city,state,county,zip,lat,lon,healthcare_expenses,healthcare_coverage\n",
    "FROM CSVREAD('../../data/synthea/scenario01/csv/patients.csv');\n",
    "\n",
    "DROP TABLE IF EXISTS Encounters;\n",
    "\n",
    "CREATE TABLE Encounters(\n",
    "    id VARCHAR(36),\n",
    "    start DATETIME,\n",
    "    stop DATETIME,\n",
    "    patient VARCHAR(36),\n",
    "    organization VARCHAR(36),\n",
    "    provider VARCHAR(36),\n",
    "    payer  VARCHAR(36),\n",
    "    encounterclass VARCHAR(20),\n",
    "    code VARCHAR(15),\n",
    "    description VARCHAR(100),\n",
    "    base_encounter_cost DECIMAL(8,2),\n",
    "    total_claim_cost DECIMAL(8,2),\n",
    "    payer_coverage DECIMAL(8,2),\n",
    "    reasoncode VARCHAR(15),\n",
    "    reasondescription VARCHAR(100),\n",
    "    PRIMARY KEY(id)\n",
    ") AS SELECT id,start,stop,patient,organization,provider,payer,encounterclass,code,description,base_encounter_cost,\n",
    "            total_claim_cost,payer_coverage,reasoncode,reasondescription\n",
    "FROM CSVREAD('../../data/synthea/scenario01/csv/encounters.csv');\n",
    "\n",
    "DROP TABLE IF EXISTS Conditions;\n",
    "\n",
    "CREATE TABLE Conditions(\n",
    "    start DATETIME,\n",
    "    stop DATETIME,\n",
    "    patient VARCHAR(36),\n",
    "    encounter VARCHAR(36),\n",
    "    code VARCHAR(20),\n",
    "    description_condition VARCHAR(100),\n",
    ") AS SELECT start,stop,patient,encounter,code,description\n",
    "FROM CSVREAD('../../data/synthea/scenario01/csv/conditions.csv');"
   ]
  },
  {
   "cell_type": "markdown",
   "metadata": {},
   "source": [
    "## Listing Patients"
   ]
  },
  {
   "cell_type": "code",
   "execution_count": 3,
   "metadata": {},
   "outputs": [
    {
     "data": {
      "application/vnd.jupyter.widget-view+json": {
       "model_id": "95101f66-d9bd-4276-b438-00e57bc08fe7",
       "version_major": 2,
       "version_minor": 0
      },
      "method": "display_data"
     },
     "metadata": {},
     "output_type": "display_data"
    }
   ],
   "source": [
    "SELECT id, to_char(birthdate,'dd-mm-yyyy') birth, to_char(deathdate,'dd-mm-yyyy') death,\n",
    "       deathdate-birthdate days_life\n",
    "FROM Patients\n",
    "LIMIT 5;"
   ]
  },
  {
   "cell_type": "markdown",
   "metadata": {},
   "source": [
    "## Number of Dead Patients"
   ]
  },
  {
   "cell_type": "code",
   "execution_count": 4,
   "metadata": {},
   "outputs": [
    {
     "data": {
      "text/plain": [
       "174"
      ]
     },
     "execution_count": 4,
     "metadata": {},
     "output_type": "execute_result"
    }
   ],
   "source": [
    "SELECT COUNT(*) FROM Patients WHERE deathdate IS NOT NULL;"
   ]
  },
  {
   "cell_type": "markdown",
   "metadata": {},
   "source": [
    "## Listing Encounters"
   ]
  },
  {
   "cell_type": "code",
   "execution_count": 5,
   "metadata": {},
   "outputs": [
    {
     "data": {
      "application/vnd.jupyter.widget-view+json": {
       "model_id": "18f35571-b727-45df-9f35-92d226bfddab",
       "version_major": 2,
       "version_minor": 0
      },
      "method": "display_data"
     },
     "metadata": {},
     "output_type": "display_data"
    }
   ],
   "source": [
    "SELECT id, to_char(start,'dd-mm-yyyy') start, encounterclass, description\n",
    "FROM Encounters\n",
    "LIMIT 5;"
   ]
  },
  {
   "cell_type": "markdown",
   "metadata": {},
   "source": [
    "## Number of Patients with Cardiac Arrest"
   ]
  },
  {
   "cell_type": "code",
   "execution_count": 6,
   "metadata": {},
   "outputs": [
    {
     "data": {
      "text/plain": [
       "119"
      ]
     },
     "execution_count": 6,
     "metadata": {},
     "output_type": "execute_result"
    }
   ],
   "source": [
    "SELECT count(patient) FROM Encounters\n",
    "       WHERE encounterclass = 'emergency' AND\n",
    "       (description = 'Cardiac Arrest' OR description='Stroke' OR description='Myocardial Infarction');"
   ]
  },
  {
   "cell_type": "markdown",
   "metadata": {},
   "source": [
    "## Number of Patients that Visited the Emergency"
   ]
  },
  {
   "cell_type": "code",
   "execution_count": 7,
   "metadata": {},
   "outputs": [
    {
     "data": {
      "text/plain": [
       "800"
      ]
     },
     "execution_count": 7,
     "metadata": {},
     "output_type": "execute_result"
    }
   ],
   "source": [
    "SELECT COUNT(DISTINCT patient) FROM Encounters\n",
    "       WHERE encounterclass = 'emergency';"
   ]
  },
  {
   "cell_type": "markdown",
   "metadata": {},
   "source": [
    "## Last Encounter in the Emergency"
   ]
  },
  {
   "cell_type": "code",
   "execution_count": 8,
   "metadata": {},
   "outputs": [],
   "source": [
    "DROP VIEW IF EXISTS Emergency;\n",
    "\n",
    "CREATE VIEW Emergency AS\n",
    "SELECT patient, MAX(start) last_encounter\n",
    "       FROM Encounters\n",
    "       WHERE encounterclass = 'emergency'\n",
    "       GROUP BY patient;"
   ]
  },
  {
   "cell_type": "markdown",
   "metadata": {},
   "source": [
    "## Conditions in the Last Encounter"
   ]
  },
  {
   "cell_type": "code",
   "execution_count": 9,
   "metadata": {},
   "outputs": [
    {
     "data": {
      "application/vnd.jupyter.widget-view+json": {
       "model_id": "7f2351bc-5553-4bc0-9fed-0e1abeaf7039",
       "version_major": 2,
       "version_minor": 0
      },
      "method": "display_data"
     },
     "metadata": {},
     "output_type": "display_data"
    }
   ],
   "source": [
    "SELECT e.patient, c.code, c.description_condition\n",
    "       FROM Emergency e, Conditions c\n",
    "       WHERE e.patient = c.patient\n",
    "       LIMIT 10;"
   ]
  },
  {
   "cell_type": "code",
   "execution_count": 10,
   "metadata": {},
   "outputs": [
    {
     "data": {
      "text/plain": [
       "202"
      ]
     },
     "execution_count": 10,
     "metadata": {},
     "output_type": "execute_result"
    }
   ],
   "source": [
    "SELECT COUNT(DISTINCT e.patient)\n",
    "       FROM Emergency e, Conditions c\n",
    "       WHERE e.patient = c.patient AND c.code='59621000';"
   ]
  },
  {
   "cell_type": "code",
   "execution_count": 11,
   "metadata": {},
   "outputs": [],
   "source": [
    "DROP VIEW IF EXISTS Stroke;\n",
    "\n",
    "CREATE VIEW Stroke AS\n",
    "SELECT patient, MAX(start) last_encounter FROM Encounters\n",
    "       WHERE encounterclass = 'emergency' AND (description = 'Cardiac Arrest' OR description='Stroke' OR description='Myocardial Infarction')\n",
    "       GROUP BY patient;"
   ]
  },
  {
   "cell_type": "code",
   "execution_count": 12,
   "metadata": {
    "scrolled": true
   },
   "outputs": [
    {
     "data": {
      "application/vnd.jupyter.widget-view+json": {
       "model_id": "43b9309f-538b-4dda-9e37-01f34e7c4f77",
       "version_major": 2,
       "version_minor": 0
      },
      "method": "display_data"
     },
     "metadata": {},
     "output_type": "display_data"
    },
    {
     "data": {
      "application/vnd.jupyter.widget-view+json": {
       "model_id": "b3c98bf7-5225-4a2c-aec5-ecbb7b5097f0",
       "version_major": 2,
       "version_minor": 0
      },
      "method": "display_data"
     },
     "metadata": {},
     "output_type": "display_data"
    }
   ],
   "source": [
    "SELECT COUNT(*)\n",
    "       FROM Patients p, Emergency s\n",
    "       WHERE p.id=s.patient AND p.deathdate IS NOT NULL AND p.deathdate-s.last_encounter <= 60;\n",
    "\n",
    "SELECT DISTINCT p.first, p.last,\n",
    "                to_char(p.birthdate,'dd-mm-yyyy') birth, to_char(p.deathdate,'dd-mm-yyyy') death,\n",
    "                (p.deathdate-p.birthdate)/365 age,\n",
    "                to_char(s.last_encounter,'dd-mm-yyyy') last_encounter,\n",
    "                p.deathdate-s.last_encounter days\n",
    "       FROM Patients p, Emergency s\n",
    "       WHERE p.id=s.patient AND p.deathdate IS NOT NULL AND p.deathdate-s.last_encounter <= 60;"
   ]
  },
  {
   "cell_type": "code",
   "execution_count": 13,
   "metadata": {},
   "outputs": [
    {
     "data": {
      "application/vnd.jupyter.widget-view+json": {
       "model_id": "95eb37e6-9614-4ef5-b231-a29c83ca107d",
       "version_major": 2,
       "version_minor": 0
      },
      "method": "display_data"
     },
     "metadata": {},
     "output_type": "display_data"
    },
    {
     "data": {
      "application/vnd.jupyter.widget-view+json": {
       "model_id": "14ff9136-7aac-44a6-83ab-3455bafda8a4",
       "version_major": 2,
       "version_minor": 0
      },
      "method": "display_data"
     },
     "metadata": {},
     "output_type": "display_data"
    }
   ],
   "source": [
    "SELECT COUNT(*)\n",
    "       FROM Patients p, Stroke s\n",
    "       WHERE p.id=s.patient AND p.deathdate IS NOT NULL AND p.deathdate-s.last_encounter <= 60;\n",
    "\n",
    "SELECT DISTINCT p.first, p.last,\n",
    "                to_char(p.birthdate,'dd-mm-yyyy') birth, to_char(p.deathdate,'dd-mm-yyyy') death,\n",
    "                (p.deathdate-p.birthdate)/365 age,\n",
    "                to_char(s.last_encounter,'dd-mm-yyyy') last_encounter,\n",
    "                p.deathdate-s.last_encounter days\n",
    "       FROM Patients p, Stroke s\n",
    "       WHERE p.id=s.patient AND p.deathdate IS NOT NULL AND p.deathdate-s.last_encounter <= 60;"
   ]
  },
  {
   "cell_type": "code",
   "execution_count": 14,
   "metadata": {},
   "outputs": [
    {
     "data": {
      "application/vnd.jupyter.widget-view+json": {
       "model_id": "d6b5e06a-3c86-49e8-81b7-f5b1b2bf9e16",
       "version_major": 2,
       "version_minor": 0
      },
      "method": "display_data"
     },
     "metadata": {},
     "output_type": "display_data"
    }
   ],
   "source": [
    "SELECT DISTINCT description_condition FROM conditions ORDER BY description_condition;"
   ]
  },
  {
   "cell_type": "code",
   "execution_count": 15,
   "metadata": {},
   "outputs": [
    {
     "data": {
      "application/vnd.jupyter.widget-view+json": {
       "model_id": "28df3337-3959-448e-ac40-494d60d69018",
       "version_major": 2,
       "version_minor": 0
      },
      "method": "display_data"
     },
     "metadata": {},
     "output_type": "display_data"
    }
   ],
   "source": [
    "SELECT DISTINCT c.description_condition, e.description\n",
    "       FROM conditions c, encounters e\n",
    "       WHERE c.encounter = e.id AND encounterclass = 'emergency';"
   ]
  },
  {
   "cell_type": "code",
   "execution_count": 16,
   "metadata": {},
   "outputs": [
    {
     "data": {
      "application/vnd.jupyter.widget-view+json": {
       "model_id": "515d3f65-9b2a-4b6e-a17a-ae41f2bceaaf",
       "version_major": 2,
       "version_minor": 0
      },
      "method": "display_data"
     },
     "metadata": {},
     "output_type": "display_data"
    }
   ],
   "source": [
    "SELECT DISTINCT description FROM encounters ORDER BY description;"
   ]
  },
  {
   "cell_type": "code",
   "execution_count": 17,
   "metadata": {},
   "outputs": [
    {
     "data": {
      "application/vnd.jupyter.widget-view+json": {
       "model_id": "08715a04-c816-4105-9599-2b820016b4b8",
       "version_major": 2,
       "version_minor": 0
      },
      "method": "display_data"
     },
     "metadata": {},
     "output_type": "display_data"
    }
   ],
   "source": [
    "SELECT description_condition FROM conditions;"
   ]
  }
 ],
 "metadata": {
  "kernelspec": {
   "display_name": "SQL",
   "language": "SQL",
   "name": "sql"
  },
  "language_info": {
   "codemirror_mode": "sql",
   "file_extension": ".sql",
   "mimetype": "",
   "name": "SQL",
   "nbconverter_exporter": "",
   "version": ""
  },
  "toc": {
   "base_numbering": 1,
   "nav_menu": {},
   "number_sections": false,
   "sideBar": false,
   "skip_h1_title": false,
   "title_cell": "Table of Contents",
   "title_sidebar": "Contents",
   "toc_cell": false,
   "toc_position": {},
   "toc_section_display": false,
   "toc_window_display": false
  }
 },
 "nbformat": 4,
 "nbformat_minor": 2
}
