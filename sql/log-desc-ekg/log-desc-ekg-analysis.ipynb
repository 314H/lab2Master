{
 "cells": [
  {
   "cell_type": "code",
   "execution_count": 1,
   "metadata": {},
   "outputs": [],
   "source": [
    "%defaultDatasource jdbc:h2:mem:db"
   ]
  },
  {
   "cell_type": "code",
   "execution_count": 2,
   "metadata": {},
   "outputs": [],
   "source": [
    "DROP TABLE IF EXISTS DescEKGCases;\n",
    "\n",
    "CREATE TABLE DescEKGCases (\n",
    "  user INT NOT NULL,\n",
    "  casen VARCHAR(7),\n",
    "  stage VARCHAR(22),\n",
    "  answer VARCHAR(200),\n",
    "  points DECIMAL(3,1),\n",
    "  confidence INT,\n",
    "  time DECIMAL(8,2),\n",
    "  ctype VARCHAR(2),\n",
    "  PRIMARY KEY(user, casen, stage)\n",
    ") AS SELECT *\n",
    "  FROM CSVREAD('../../data/logx/AllT.csv');"
   ]
  },
  {
   "cell_type": "markdown",
   "metadata": {},
   "source": [
    "# Question 01\n",
    "The order of the presentation affects the confidence"
   ]
  },
  {
   "cell_type": "code",
   "execution_count": 3,
   "metadata": {},
   "outputs": [
    {
     "data": {
      "application/vnd.jupyter.widget-view+json": {
       "model_id": "c3cef81a-e1a0-4eed-97e7-8b1cd3d627ac",
       "version_major": 2,
       "version_minor": 0
      },
      "method": "display_data"
     },
     "metadata": {},
     "output_type": "display_data"
    }
   ],
   "source": [
    "SELECT ctype, AVG(confidence) AVG_confidence, STDDEV_SAMP(confidence) STD_Deviation_confidence FROM DescEKGCases GROUP BY ctype;"
   ]
  },
  {
   "cell_type": "markdown",
   "metadata": {},
   "source": [
    "# Question 02\n",
    "The confidence score (first stage) affects the time it takes to accomplish the second stage.\n",
    "\n",
    "## Description First"
   ]
  },
  {
   "cell_type": "code",
   "execution_count": 4,
   "metadata": {},
   "outputs": [
    {
     "data": {
      "application/vnd.jupyter.widget-view+json": {
       "model_id": "eb2a77ae-94f9-4eec-93e7-401233f07947",
       "version_major": 2,
       "version_minor": 0
      },
      "method": "display_data"
     },
     "metadata": {},
     "output_type": "display_data"
    }
   ],
   "source": [
    "DROP TABLE IF EXISTS Confidence_First_DF;\n",
    "CREATE VIEW Confidence_First_DF AS\n",
    "SELECT casen, AVG(confidence) AVG_confidence_first_stage\n",
    "FROM DescEKGCases\n",
    "WHERE stage = 'Description Hypothesis' AND ctype='DF'\n",
    "GROUP BY casen\n",
    "ORDER by casen;\n",
    "\n",
    "DROP VIEW IF EXISTS Time_Second_DF;\n",
    "CREATE VIEW Time_Second_DF AS\n",
    "SELECT casen, AVG(time) AVG_time_second_stage\n",
    "FROM DescEKGCases\n",
    "WHERE stage = 'EKG Hypothesis' AND ctype='DF'\n",
    "GROUP BY casen\n",
    "ORDER by casen;\n",
    "\n",
    "SELECT CF.casen, AVG_confidence_first_stage, AVG_time_second_stage\n",
    "FROM Confidence_First_DF CF, Time_Second_DF TS\n",
    "WHERE CF.casen = TS.casen;"
   ]
  },
  {
   "cell_type": "markdown",
   "metadata": {},
   "source": [
    "## EKG First"
   ]
  },
  {
   "cell_type": "code",
   "execution_count": 5,
   "metadata": {},
   "outputs": [
    {
     "data": {
      "application/vnd.jupyter.widget-view+json": {
       "model_id": "ce83610d-998b-42ba-954b-9097caff99e2",
       "version_major": 2,
       "version_minor": 0
      },
      "method": "display_data"
     },
     "metadata": {},
     "output_type": "display_data"
    }
   ],
   "source": [
    "DROP VIEW IF EXISTS Confidence_First_EF;\n",
    "CREATE VIEW Confidence_First_EF AS\n",
    "SELECT casen, AVG(confidence) AVG_confidence_first_stage\n",
    "FROM DescEKGCases\n",
    "WHERE stage = 'EKG Hypothesis' AND ctype='EF'\n",
    "GROUP BY casen\n",
    "ORDER by casen;\n",
    "\n",
    "DROP VIEW IF EXISTS Time_Second_EF;\n",
    "CREATE VIEW Time_Second_EF AS\n",
    "SELECT casen, AVG(time) AVG_time_second_stage\n",
    "FROM DescEKGCases\n",
    "WHERE stage = 'Description Hypothesis' AND ctype='EF'\n",
    "GROUP BY casen\n",
    "ORDER by casen;\n",
    "\n",
    "SELECT CF.casen, AVG_confidence_first_stage, AVG_time_second_stage\n",
    "FROM Confidence_First_EF CF, Time_Second_EF TS\n",
    "WHERE CF.casen = TS.casen;"
   ]
  },
  {
   "cell_type": "markdown",
   "metadata": {},
   "source": [
    "# Question 3\n",
    "\n",
    "The confidence score will influence the probability of changing the hypothesis.\n",
    "\n",
    "## Description First"
   ]
  },
  {
   "cell_type": "code",
   "execution_count": 6,
   "metadata": {},
   "outputs": [
    {
     "data": {
      "application/vnd.jupyter.widget-view+json": {
       "model_id": "ba921888-26c3-4a71-b8df-31a7365f91f3",
       "version_major": 2,
       "version_minor": 0
      },
      "method": "display_data"
     },
     "metadata": {},
     "output_type": "display_data"
    }
   ],
   "source": [
    "DROP VIEW IF EXISTS First_Answer_DF;\n",
    "CREATE VIEW First_Answer_DF AS\n",
    "SELECT user, casen, answer First_Answer, confidence\n",
    "FROM DescEKGCases\n",
    "WHERE stage = 'Description Hypothesis' AND ctype = 'DF';\n",
    "\n",
    "DROP VIEW IF EXISTS Second_Answer_DF;\n",
    "CREATE VIEW Second_Answer_DF AS\n",
    "SELECT user, casen, answer Second_Answer\n",
    "FROM DescEKGCases\n",
    "WHERE stage = 'EKG Hypothesis' AND ctype = 'DF';\n",
    "\n",
    "SELECT D1.user, D1.casen, First_Answer, confidence, Second_Answer\n",
    "FROM First_Answer_DF D1, Second_Answer_DF D2\n",
    "WHERE D1.user = D2.user AND D1.casen = D2.casen;"
   ]
  },
  {
   "cell_type": "markdown",
   "metadata": {},
   "source": [
    "### AVG confidence for same answer"
   ]
  },
  {
   "cell_type": "code",
   "execution_count": 7,
   "metadata": {},
   "outputs": [
    {
     "data": {
      "application/vnd.jupyter.widget-view+json": {
       "model_id": "209ca41e-2e62-49d8-8446-f40da5868c54",
       "version_major": 2,
       "version_minor": 0
      },
      "method": "display_data"
     },
     "metadata": {},
     "output_type": "display_data"
    }
   ],
   "source": [
    "SELECT D1.casen, AVG(confidence) AVG_confidence, COUNT(*)\n",
    "FROM First_Answer_DF D1, Second_Answer_DF D2\n",
    "WHERE D1.user = D2.user AND D1.casen = D2.casen AND First_Answer = Second_Answer\n",
    "GROUP BY D1.casen;"
   ]
  },
  {
   "cell_type": "markdown",
   "metadata": {},
   "source": [
    "### AVG confidence for different answer"
   ]
  },
  {
   "cell_type": "code",
   "execution_count": 8,
   "metadata": {},
   "outputs": [
    {
     "data": {
      "application/vnd.jupyter.widget-view+json": {
       "model_id": "01088822-fdeb-47bd-844f-5d82cc82f87f",
       "version_major": 2,
       "version_minor": 0
      },
      "method": "display_data"
     },
     "metadata": {},
     "output_type": "display_data"
    }
   ],
   "source": [
    "SELECT D1.casen, AVG(confidence) AVG_confidence, COUNT(*)\n",
    "FROM First_Answer_DF D1, Second_Answer_DF D2\n",
    "WHERE D1.user = D2.user AND D1.casen = D2.casen AND First_Answer <> Second_Answer\n",
    "GROUP BY D1.casen;"
   ]
  },
  {
   "cell_type": "markdown",
   "metadata": {},
   "source": [
    "## EKG First"
   ]
  },
  {
   "cell_type": "code",
   "execution_count": 9,
   "metadata": {},
   "outputs": [
    {
     "data": {
      "application/vnd.jupyter.widget-view+json": {
       "model_id": "a0b200da-ec3b-4a44-b195-5334309621d6",
       "version_major": 2,
       "version_minor": 0
      },
      "method": "display_data"
     },
     "metadata": {},
     "output_type": "display_data"
    }
   ],
   "source": [
    "DROP VIEW IF EXISTS First_Answer_EF;\n",
    "CREATE VIEW First_Answer_EF AS\n",
    "SELECT user, casen, answer First_Answer, confidence\n",
    "FROM DescEKGCases\n",
    "WHERE stage = 'EKG Hypothesis' AND ctype = 'EF';\n",
    "\n",
    "DROP VIEW IF EXISTS Second_Answer_EF;\n",
    "CREATE VIEW Second_Answer_EF AS\n",
    "SELECT user, casen, answer Second_Answer\n",
    "FROM DescEKGCases\n",
    "WHERE stage = 'Description Hypothesis' AND ctype = 'EF';\n",
    "\n",
    "SELECT E1.user, E1.casen, First_Answer, confidence, Second_Answer\n",
    "FROM First_Answer_EF E1, Second_Answer_EF E2\n",
    "WHERE E1.user = E2.user AND E1.casen = E2.casen;"
   ]
  },
  {
   "cell_type": "markdown",
   "metadata": {},
   "source": [
    "### AVG confidence for same answer"
   ]
  },
  {
   "cell_type": "code",
   "execution_count": 10,
   "metadata": {},
   "outputs": [
    {
     "data": {
      "application/vnd.jupyter.widget-view+json": {
       "model_id": "d18c2fd5-cc1a-4232-8712-7323be613ac3",
       "version_major": 2,
       "version_minor": 0
      },
      "method": "display_data"
     },
     "metadata": {},
     "output_type": "display_data"
    }
   ],
   "source": [
    "SELECT E1.casen, AVG(confidence) AVG_confidence, COUNT(*)\n",
    "FROM First_Answer_EF E1, Second_Answer_EF E2\n",
    "WHERE E1.user = E2.user AND E1.casen = E2.casen AND First_Answer = Second_Answer\n",
    "GROUP BY E1.casen;"
   ]
  },
  {
   "cell_type": "markdown",
   "metadata": {},
   "source": [
    "### AVG confidence for different answer"
   ]
  },
  {
   "cell_type": "code",
   "execution_count": 11,
   "metadata": {},
   "outputs": [
    {
     "data": {
      "application/vnd.jupyter.widget-view+json": {
       "model_id": "bedb27b2-5a28-4c73-b342-134cd6849c20",
       "version_major": 2,
       "version_minor": 0
      },
      "method": "display_data"
     },
     "metadata": {},
     "output_type": "display_data"
    }
   ],
   "source": [
    "SELECT E1.casen, AVG(confidence) AVG_confidence, COUNT(*)\n",
    "FROM First_Answer_EF E1, Second_Answer_EF E2\n",
    "WHERE E1.user = E2.user AND E1.casen = E2.casen AND First_Answer <> Second_Answer\n",
    "GROUP BY E1.casen;"
   ]
  },
  {
   "cell_type": "markdown",
   "metadata": {},
   "source": [
    "# Question 4\n",
    "\n",
    "The time to accomplish the first task between the groups."
   ]
  },
  {
   "cell_type": "code",
   "execution_count": 14,
   "metadata": {},
   "outputs": [
    {
     "data": {
      "application/vnd.jupyter.widget-view+json": {
       "model_id": "6ceffd5f-9caa-4542-aca5-8d0b99131670",
       "version_major": 2,
       "version_minor": 0
      },
      "method": "display_data"
     },
     "metadata": {},
     "output_type": "display_data"
    }
   ],
   "source": [
    "DROP VIEW IF EXISTS Confidence_AVG_DF;\n",
    "CREATE VIEW Confidence_AVG_DF AS\n",
    "SELECT casen, AVG(time) AVG_Time_Description_First\n",
    "FROM DescEKGCases\n",
    "WHERE ctype='DF' AND stage = 'Description Hypothesis'\n",
    "GROUP BY casen\n",
    "ORDER BY casen;\n",
    "\n",
    "DROP VIEW IF EXISTS Confidence_AVG_EF;\n",
    "CREATE VIEW Confidence_AVG_EF AS\n",
    "SELECT casen, AVG(time) AVG_Time_EKG_First\n",
    "FROM DescEKGCases\n",
    "WHERE ctype='EF' AND stage = 'EKG Hypothesis'\n",
    "GROUP BY casen\n",
    "ORDER BY casen;\n",
    "\n",
    "SELECT DF.casen, AVG_Time_Description_First, AVG_Time_EKG_First\n",
    "FROM Confidence_AVG_DF DF, Confidence_AVG_EF EF\n",
    "WHERE DF.casen = EF.casen;"
   ]
  },
  {
   "cell_type": "markdown",
   "metadata": {},
   "source": [
    "# Question 5\n",
    "\n",
    "The time between the first and the second task.\n",
    "\n",
    "## Description First"
   ]
  },
  {
   "cell_type": "code",
   "execution_count": 18,
   "metadata": {},
   "outputs": [
    {
     "data": {
      "application/vnd.jupyter.widget-view+json": {
       "model_id": "c9ff0723-3d0f-4a0f-801f-8481fc9155fb",
       "version_major": 2,
       "version_minor": 0
      },
      "method": "display_data"
     },
     "metadata": {},
     "output_type": "display_data"
    }
   ],
   "source": [
    "DROP VIEW IF EXISTS Confidence_AVG_Task1_DF;\n",
    "CREATE VIEW Confidence_AVG_Task1_DF AS\n",
    "SELECT casen, AVG(time) AVG_Time_Task1\n",
    "FROM DescEKGCases\n",
    "WHERE ctype='DF' AND stage = 'Description Hypothesis'\n",
    "GROUP BY casen\n",
    "ORDER BY casen;\n",
    "\n",
    "DROP VIEW IF EXISTS Confidence_AVG_Task2_DF;\n",
    "CREATE VIEW Confidence_AVG_Task2_DF AS\n",
    "SELECT casen, AVG(time) AVG_Time_Task2\n",
    "FROM DescEKGCases\n",
    "WHERE ctype='DF' AND stage = 'EKG Hypothesis'\n",
    "GROUP BY casen\n",
    "ORDER BY casen;\n",
    "\n",
    "SELECT T1.casen, AVG_Time_Task1, AVG_Time_Task2\n",
    "FROM Confidence_AVG_Task1_DF T1, Confidence_AVG_Task2_DF T2\n",
    "WHERE T1.casen = T2.casen;"
   ]
  },
  {
   "cell_type": "markdown",
   "metadata": {},
   "source": [
    "## EKG First"
   ]
  },
  {
   "cell_type": "code",
   "execution_count": 17,
   "metadata": {},
   "outputs": [
    {
     "data": {
      "application/vnd.jupyter.widget-view+json": {
       "model_id": "493a5525-f29c-4906-b96b-4346ff5bc5d6",
       "version_major": 2,
       "version_minor": 0
      },
      "method": "display_data"
     },
     "metadata": {},
     "output_type": "display_data"
    }
   ],
   "source": [
    "DROP VIEW IF EXISTS Confidence_AVG_Task1_EF;\n",
    "CREATE VIEW Confidence_AVG_Task1_EF AS\n",
    "SELECT casen, AVG(time) AVG_Time_Task1\n",
    "FROM DescEKGCases\n",
    "WHERE ctype='EF' AND stage = 'EKG Hypothesis'\n",
    "GROUP BY casen\n",
    "ORDER BY casen;\n",
    "\n",
    "DROP VIEW IF EXISTS Confidence_AVG_Task2_EF;\n",
    "CREATE VIEW Confidence_AVG_Task2_EF AS\n",
    "SELECT casen, AVG(time) AVG_Time_Task2\n",
    "FROM DescEKGCases\n",
    "WHERE ctype='EF' AND stage = 'Description Hypothesis'\n",
    "GROUP BY casen\n",
    "ORDER BY casen;\n",
    "\n",
    "SELECT T1.casen, AVG_Time_Task1, AVG_Time_Task2\n",
    "FROM Confidence_AVG_Task1_EF T1, Confidence_AVG_Task2_EF T2\n",
    "WHERE T1.casen = T2.casen;"
   ]
  },
  {
   "cell_type": "markdown",
   "metadata": {},
   "source": [
    "# Question 6\n",
    "\n",
    "The confidence level in the interpretation of EKG can indicate their proficiency."
   ]
  }
 ],
 "metadata": {
  "kernelspec": {
   "display_name": "SQL",
   "language": "SQL",
   "name": "sql"
  },
  "language_info": {
   "codemirror_mode": "sql",
   "file_extension": ".sql",
   "mimetype": "",
   "name": "SQL",
   "nbconverter_exporter": "",
   "version": ""
  },
  "toc": {
   "base_numbering": 1,
   "nav_menu": {},
   "number_sections": false,
   "sideBar": false,
   "skip_h1_title": false,
   "title_cell": "Table of Contents",
   "title_sidebar": "Contents",
   "toc_cell": false,
   "toc_position": {},
   "toc_section_display": false,
   "toc_window_display": false
  }
 },
 "nbformat": 4,
 "nbformat_minor": 2
}
