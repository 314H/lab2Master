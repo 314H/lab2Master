{
 "cells": [
  {
   "cell_type": "markdown",
   "metadata": {},
   "source": [
    "# Estradas e Trajetos\n",
    "\n",
    "Considere o diagrama abaixo representa graficamente um modelo relacional de tabelas que controlam cidades, estradas e trajetos entre cidades. A seguir a descrição o papel de cada tabela:\n",
    "* _Cidades_: mantém um cadastro de cidades.\n",
    "* _Estradas_: registra estradas que ligam uma cidade (cidade_origem) a outra (cidade_destino), bem como sua quilometragem.\n",
    "* _Trajeto_: cada registro da tabela Trajeto identifica um trajeto, que consiste em uma sequência ordenada de estradas que ligam duas cidades (cidade_origem e cidade_destino), por exemplo, um trajeto entre Salvador e Curitiba, pode envolver uma sequência de estradas: Salvador-Belo Horizonte, Belo Horizonte-São Paulo e São Paulo-Curitiba. Um Trajeto agrega um conjunto de Segmentos.\n",
    "* _Segmento_: associa estradas a trajetos. O campo ordem é um campo numérico sequencial (iniciado de 1 para cada trajeto) usado para ordenar os segmentos (estradas) dentro de um trajeto.\n",
    "\n",
    "![UML](uml-estradas.png) ![Relacional](relacional-estradas.png)"
   ]
  },
  {
   "cell_type": "code",
   "execution_count": 1,
   "metadata": {},
   "outputs": [
    {
     "data": {
      "application/vnd.jupyter.widget-view+json": {
       "model_id": "2efcfb78-a893-4ba9-95f0-986ca05af22a",
       "version_major": 2,
       "version_minor": 0
      },
      "method": "display_data"
     },
     "metadata": {},
     "output_type": "display_data"
    },
    {
     "data": {
      "application/vnd.jupyter.widget-view+json": {
       "model_id": "c04846a8-7e95-4cba-9ab3-13019eb47497",
       "version_major": 2,
       "version_minor": 0
      },
      "method": "display_data"
     },
     "metadata": {},
     "output_type": "display_data"
    },
    {
     "data": {
      "application/vnd.jupyter.widget-view+json": {
       "model_id": "ff89b425-c0e5-409c-b133-4d04c1806111",
       "version_major": 2,
       "version_minor": 0
      },
      "method": "display_data"
     },
     "metadata": {},
     "output_type": "display_data"
    },
    {
     "data": {
      "application/vnd.jupyter.widget-view+json": {
       "model_id": "1fa8c357-0087-444e-88a4-13513e7f4be5",
       "version_major": 2,
       "version_minor": 0
      },
      "method": "display_data"
     },
     "metadata": {},
     "output_type": "display_data"
    }
   ],
   "source": [
    "%defaultDatasource jdbc:h2:file:~/data/estradas/estradas\n",
    "\n",
    "CREATE TABLE Cidade (\n",
    "  cidadeid VARCHAR(5) NOT NULL ,\n",
    "  nome VARCHAR(100) ,\n",
    "  PRIMARY KEY (cidadeid) );\n",
    "\n",
    "INSERT INTO Cidade VALUES ('SSA', 'Salvador');\n",
    "INSERT INTO Cidade VALUES ('SP',  'Sao Paulo');\n",
    "INSERT INTO Cidade VALUES ('RJ',  'Rio de Janeiro');\n",
    "INSERT INTO Cidade VALUES ('FLO', 'Florianopolis');\n",
    "INSERT INTO Cidade VALUES ('CUR', 'Curitiba');\n",
    "\n",
    "CREATE TABLE Estrada (\n",
    "  estradaid VARCHAR(5) NOT NULL ,\n",
    "  nome VARCHAR(100) ,\n",
    "  cidade_origem VARCHAR(5) NOT NULL ,\n",
    "  cidade_destino VARCHAR(5) NOT NULL ,\n",
    "  extensao_km INT ,\n",
    "  PRIMARY KEY (estradaid) ,\n",
    "  FOREIGN KEY (cidade_origem )\n",
    "    REFERENCES Cidade (cidadeid )\n",
    "    ON DELETE NO ACTION\n",
    "    ON UPDATE NO ACTION,\n",
    "  FOREIGN KEY (cidade_destino )\n",
    "    REFERENCES Cidade (cidadeid )\n",
    "    ON DELETE NO ACTION\n",
    "    ON UPDATE NO ACTION);\n",
    "\n",
    "INSERT INTO Estrada VALUES ('4545', 'Estrada 4545', 'SSA', 'RJ', 1800);\n",
    "INSERT INTO Estrada VALUES ('2835', 'Estrada 2835', 'RJ', 'SP', 400);\n",
    "INSERT INTO Estrada VALUES ('1012', 'Estrada 1012', 'SP', 'FLO', 600);\n",
    "INSERT INTO Estrada VALUES ('1212', 'Estrada 1212', 'SP', 'CUR', 800);\n",
    "INSERT INTO Estrada VALUES ('6032', 'Estrada 6032', 'FLO', 'CUR', 200);\n",
    "\n",
    "CREATE TABLE Trajeto (\n",
    "  trajetoid VARCHAR(5) NOT NULL ,\n",
    "  cidade_origem VARCHAR(5) NOT NULL ,\n",
    "  cidade_destino VARCHAR(5) NOT NULL ,\n",
    "  PRIMARY KEY (trajetoid) ,\n",
    "  FOREIGN KEY (cidade_origem )\n",
    "    REFERENCES Cidade (cidadeid )\n",
    "    ON DELETE NO ACTION\n",
    "    ON UPDATE NO ACTION,\n",
    "  FOREIGN KEY (cidade_destino )\n",
    "    REFERENCES Cidade (cidadeid )\n",
    "    ON DELETE NO ACTION\n",
    "    ON UPDATE NO ACTION);\n",
    "\n",
    "INSERT INTO Trajeto VALUES ('TJ001', 'SSA', 'SP');\n",
    "INSERT INTO Trajeto VALUES ('TJ002', 'SSA', 'FLO');\n",
    "INSERT INTO Trajeto VALUES ('TJ003', 'SP', 'CUR');\n",
    "INSERT INTO Trajeto VALUES ('TJ004', 'SP', 'CUR');\n",
    "INSERT INTO Trajeto VALUES ('TJ005', 'RJ', 'CUR');\n",
    "\n",
    "CREATE TABLE Segmento (\n",
    "  trajetoid VARCHAR(5) NOT NULL ,\n",
    "  estradaid VARCHAR(5) NOT NULL ,\n",
    "  ordem INT ,\n",
    "  PRIMARY KEY (trajetoid, estradaid) ,\n",
    "  FOREIGN KEY (estradaid )\n",
    "    REFERENCES Estrada (estradaid )\n",
    "    ON DELETE NO ACTION\n",
    "    ON UPDATE NO ACTION,\n",
    "  FOREIGN KEY (trajetoid )\n",
    "    REFERENCES Trajeto (trajetoid )\n",
    "    ON DELETE NO ACTION\n",
    "    ON UPDATE NO ACTION);\n",
    "\n",
    "INSERT INTO Segmento VALUES ('TJ001', '4545', 1);\n",
    "INSERT INTO Segmento VALUES ('TJ001', '2835', 2);\n",
    "INSERT INTO Segmento VALUES ('TJ002', '4545', 1);\n",
    "INSERT INTO Segmento VALUES ('TJ002', '2835', 2);\n",
    "INSERT INTO Segmento VALUES ('TJ002', '1012', 3);\n",
    "INSERT INTO Segmento VALUES ('TJ003', '4545', 1);\n",
    "INSERT INTO Segmento VALUES ('TJ003', '2835', 2);\n",
    "INSERT INTO Segmento VALUES ('TJ003', '1012', 3);\n",
    "INSERT INTO Segmento VALUES ('TJ004', '4545', 1);\n",
    "INSERT INTO Segmento VALUES ('TJ004', '2835', 2);\n",
    "INSERT INTO Segmento VALUES ('TJ004', '1012', 3);\n",
    "INSERT INTO Segmento VALUES ('TJ004', '6032', 4);\n",
    "INSERT INTO Segmento VALUES ('TJ005', '1012', 1);\n",
    "INSERT INTO Segmento VALUES ('TJ005', '6032', 2);\n",
    "\n",
    "SELECT * FROM Cidade;\n",
    "SELECT * FROM Estrada;\n",
    "SELECT * FROM Trajeto;\n",
    "SELECT * FROM Segmento;"
   ]
  }
 ],
 "metadata": {
  "kernelspec": {
   "display_name": "SQL",
   "language": "SQL",
   "name": "sql"
  },
  "language_info": {
   "codemirror_mode": "sql",
   "file_extension": ".sql",
   "mimetype": "",
   "name": "SQL",
   "nbconverter_exporter": "",
   "version": ""
  }
 },
 "nbformat": 4,
 "nbformat_minor": 2
}
