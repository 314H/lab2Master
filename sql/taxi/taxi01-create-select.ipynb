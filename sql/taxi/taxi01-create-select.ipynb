{
 "cells": [
  {
   "cell_type": "code",
   "execution_count": 1,
   "metadata": {},
   "outputs": [],
   "source": [
    "%defaultDatasource jdbc:h2:mem:db"
   ]
  },
  {
   "cell_type": "code",
   "execution_count": 2,
   "metadata": {},
   "outputs": [],
   "source": [
    "DROP TABLE IF EXISTS Taxi;\n",
    "DROP TABLE IF EXISTS Cliente;\n",
    "DROP TABLE IF EXISTS Corrida;"
   ]
  },
  {
   "cell_type": "code",
   "execution_count": 3,
   "metadata": {},
   "outputs": [],
   "source": [
    "CREATE TABLE Taxi (\n",
    "  Placa VARCHAR(7) NOT NULL,\n",
    "  Marca VARCHAR(30) NOT NULL,\n",
    "  Modelo VARCHAR(30) NOT NULL,\n",
    "  AnoFab INTEGER,\n",
    "  Licenca VARCHAR(9),\n",
    "  PRIMARY KEY(Placa)\n",
    ");\n",
    "\n",
    "CREATE TABLE Cliente (\n",
    "  CliId VARCHAR(4) NOT NULL,\n",
    "  Nome VARCHAR(80) NOT NULL,\n",
    "  CPF VARCHAR(14) NOT NULL,\n",
    "  PRIMARY KEY(CliId)\n",
    ");\n",
    "\n",
    "CREATE TABLE Corrida (\n",
    "  CliId VARCHAR(4) NOT NULL,\n",
    "  Placa VARCHAR(7) NOT NULL,\n",
    "  DataPedido DATE NOT NULL,\n",
    "  PRIMARY KEY(CliId, Placa, DataPedido),\n",
    "  FOREIGN KEY(CliId)\n",
    "    REFERENCES Cliente(CliId)\n",
    "      ON DELETE NO ACTION\n",
    "      ON UPDATE NO ACTION,\n",
    "  FOREIGN KEY(Placa)\n",
    "    REFERENCES Taxi(Placa)\n",
    "      ON DELETE NO ACTION\n",
    "      ON UPDATE NO ACTION\n",
    ");"
   ]
  },
  {
   "cell_type": "code",
   "execution_count": 4,
   "metadata": {},
   "outputs": [],
   "source": [
    "INSERT INTO Cliente VALUES ('1532', 'Asdrúbal', '448.754.253-65');\n",
    "INSERT INTO Cliente VALUES ('1755', 'Doriana', '567.387.387-44');\n",
    "INSERT INTO Cliente VALUES ('1780', 'Quincas', '546.373.762-02');\n",
    "INSERT INTO Cliente VALUES ('1888', 'Melissa', '123.456.789-10');\n",
    "\n",
    "INSERT INTO Taxi VALUES ('DAE6534', 'Ford', 'Fiesta', 1999, 'MN572345');\n",
    "INSERT INTO Taxi VALUES ('DKL4598', 'Wolkswagen', 'Gol', 2001, 'AU876543');\n",
    "INSERT INTO Taxi VALUES ('DKL7878', 'Ford', 'Fiesta', 2001, 'OP102938');\n",
    "INSERT INTO Taxi VALUES ('JDM8776', 'Wolkswagen', 'Santana', 2002, 'QM365923');\n",
    "INSERT INTO Taxi VALUES ('JJM3692', 'Chevrolet', 'Corsa', 1999, 'UU335577');\n",
    "\n",
    "INSERT INTO Corrida VALUES ('1755', 'DAE6534', '2003-02-15');\n",
    "INSERT INTO Corrida VALUES ('1780', 'JDM8776', '2003-02-18');\n",
    "INSERT INTO Corrida VALUES ('1755', 'DKL7878', '2003-02-16');\n",
    "INSERT INTO Corrida VALUES ('1780', 'DKL4598', '2003-02-17');\n",
    "INSERT INTO Corrida VALUES ('1532', 'DKL4598', '2003-02-18');\n",
    "INSERT INTO Corrida VALUES ('1780', 'DAE6534', '2003-02-16');"
   ]
  },
  {
   "cell_type": "code",
   "execution_count": 5,
   "metadata": {},
   "outputs": [
    {
     "data": {
      "application/vnd.jupyter.widget-view+json": {
       "model_id": "6a375277-8d4c-4839-8d8c-bfb7c22155d1",
       "version_major": 2,
       "version_minor": 0
      },
      "method": "display_data"
     },
     "metadata": {},
     "output_type": "display_data"
    }
   ],
   "source": [
    "-- Todos os Taxis com todos os atributos\n",
    "SELECT * FROM Taxi;"
   ]
  },
  {
   "cell_type": "code",
   "execution_count": 6,
   "metadata": {
    "scrolled": true
   },
   "outputs": [
    {
     "data": {
      "application/vnd.jupyter.widget-view+json": {
       "model_id": "a45ec28a-58af-4747-919e-9b52b59a194b",
       "version_major": 2,
       "version_minor": 0
      },
      "method": "display_data"
     },
     "metadata": {},
     "output_type": "display_data"
    }
   ],
   "source": [
    "-- Marca e Modelo dos Taxis disponíveis\n",
    "SELECT Marca, Modelo FROM Taxi;"
   ]
  },
  {
   "cell_type": "code",
   "execution_count": 7,
   "metadata": {},
   "outputs": [
    {
     "data": {
      "application/vnd.jupyter.widget-view+json": {
       "model_id": "4b8b1427-7321-4133-9930-83fe0fadc9c5",
       "version_major": 2,
       "version_minor": 0
      },
      "method": "display_data"
     },
     "metadata": {},
     "output_type": "display_data"
    }
   ],
   "source": [
    "-- Taxis fabricados depois do ano 2000\n",
    "SELECT * FROM Taxi WHERE AnoFab > 2000;"
   ]
  },
  {
   "cell_type": "code",
   "execution_count": 8,
   "metadata": {},
   "outputs": [
    {
     "data": {
      "application/vnd.jupyter.widget-view+json": {
       "model_id": "90dd6b6f-ac59-4606-a708-2bee4b00fb53",
       "version_major": 2,
       "version_minor": 0
      },
      "method": "display_data"
     },
     "metadata": {},
     "output_type": "display_data"
    }
   ],
   "source": [
    "-- Placas que comecem com DK\n",
    "SELECT * FROM Taxi WHERE placa LIKE 'DK%';"
   ]
  },
  {
   "cell_type": "code",
   "execution_count": 9,
   "metadata": {},
   "outputs": [
    {
     "data": {
      "application/vnd.jupyter.widget-view+json": {
       "model_id": "faf43e4a-b561-4f28-95d3-38ecedf7961f",
       "version_major": 2,
       "version_minor": 0
      },
      "method": "display_data"
     },
     "metadata": {},
     "output_type": "display_data"
    }
   ],
   "source": [
    "-- Placas com '7' na penultima posicao\n",
    "SELECT * FROM Taxi WHERE placa LIKE '%7_';"
   ]
  },
  {
   "cell_type": "code",
   "execution_count": 10,
   "metadata": {},
   "outputs": [
    {
     "data": {
      "application/vnd.jupyter.widget-view+json": {
       "model_id": "48e96a6b-5666-4b35-b79c-86c6e912614c",
       "version_major": 2,
       "version_minor": 0
      },
      "method": "display_data"
     },
     "metadata": {},
     "output_type": "display_data"
    }
   ],
   "source": [
    "-- Produto Cartesiano entre Clientes e Corridas\n",
    "SELECT Cliente.CliId, Cliente.Nome, Corrida.Placa, Corrida.DataPedido\n",
    "FROM Cliente, Corrida"
   ]
  },
  {
   "cell_type": "code",
   "execution_count": 11,
   "metadata": {},
   "outputs": [
    {
     "data": {
      "application/vnd.jupyter.widget-view+json": {
       "model_id": "81adb672-181c-4280-b318-9761c719e158",
       "version_major": 2,
       "version_minor": 0
      },
      "method": "display_data"
     },
     "metadata": {},
     "output_type": "display_data"
    }
   ],
   "source": [
    "-- Cientes e as respectivas corridas - Join Implícito\n",
    "SELECT Cliente.CliId, Cliente.Nome, Corrida.Placa, Corrida.DataPedido\n",
    "FROM Cliente, Corrida\n",
    "WHERE Cliente.CliId = Corrida.CliId"
   ]
  },
  {
   "cell_type": "code",
   "execution_count": 12,
   "metadata": {},
   "outputs": [
    {
     "data": {
      "application/vnd.jupyter.widget-view+json": {
       "model_id": "ab8bd533-ff2c-4ac6-b0e9-1d7759bec703",
       "version_major": 2,
       "version_minor": 0
      },
      "method": "display_data"
     },
     "metadata": {},
     "output_type": "display_data"
    }
   ],
   "source": [
    "-- Modelo de taxi para cada corrida\n",
    "SELECT Corrida.DataPedido, Corrida.Placa, Taxi.Modelo\n",
    "       FROM Corrida, Taxi\n",
    "       WHERE Corrida.Placa = Taxi.Placa;"
   ]
  },
  {
   "cell_type": "code",
   "execution_count": 13,
   "metadata": {},
   "outputs": [
    {
     "data": {
      "application/vnd.jupyter.widget-view+json": {
       "model_id": "da053fac-5f7c-4953-8450-1cd68b5d4b2b",
       "version_major": 2,
       "version_minor": 0
      },
      "method": "display_data"
     },
     "metadata": {},
     "output_type": "display_data"
    }
   ],
   "source": [
    "-- Modelos de Táxi por Cliente (estágio 1)\n",
    "SELECT Cliente.Nome, Corrida.DataPedido, Corrida.Placa, Taxi.Modelo\n",
    "       FROM Cliente, Corrida, Taxi\n",
    "       WHERE Cliente.CliId = Corrida.CliId AND Corrida.Placa = Taxi.Placa;"
   ]
  },
  {
   "cell_type": "code",
   "execution_count": 14,
   "metadata": {},
   "outputs": [
    {
     "data": {
      "application/vnd.jupyter.widget-view+json": {
       "model_id": "87332613-7487-4aba-86d5-52b948406ba1",
       "version_major": 2,
       "version_minor": 0
      },
      "method": "display_data"
     },
     "metadata": {},
     "output_type": "display_data"
    }
   ],
   "source": [
    "-- Modelos de Táxi por Cliente (estágio 2)\n",
    "SELECT DISTINCT Cliente.Nome, Taxi.Modelo\n",
    "       FROM Cliente, Corrida, Taxi\n",
    "       WHERE Cliente.CliId = Corrida.CliId AND Corrida.Placa = Taxi.Placa;"
   ]
  },
  {
   "cell_type": "code",
   "execution_count": 15,
   "metadata": {},
   "outputs": [
    {
     "data": {
      "application/vnd.jupyter.widget-view+json": {
       "model_id": "4fa395e5-cddd-496f-a3f8-b017ec22d7cd",
       "version_major": 2,
       "version_minor": 0
      },
      "method": "display_data"
     },
     "metadata": {},
     "output_type": "display_data"
    }
   ],
   "source": [
    "-- Modelos de taxi e os clientes que os tomaram\n",
    "-- Ordena por Modelo, mas não por Cliente\n",
    "SELECT DISTINCT Cl.Nome, T.Modelo\n",
    "       FROM Cliente Cl, Corrida Co, Taxi T\n",
    "       WHERE Cl.CliId = Co.CliId AND\n",
    "             Co.Placa = T.Placa\n",
    "       ORDER BY T.Modelo;"
   ]
  },
  {
   "cell_type": "code",
   "execution_count": 16,
   "metadata": {},
   "outputs": [
    {
     "data": {
      "application/vnd.jupyter.widget-view+json": {
       "model_id": "8905d55b-8f11-4e95-bedf-ca64eeb0e75a",
       "version_major": 2,
       "version_minor": 0
      },
      "method": "display_data"
     },
     "metadata": {},
     "output_type": "display_data"
    }
   ],
   "source": [
    "-- Ordena por Modelo e, para cada Modelo, por Cliente\n",
    "SELECT DISTINCT Cl.Nome, T.Modelo\n",
    "       FROM Cliente Cl, Corrida Co, Taxi T\n",
    "       WHERE Cl.CliId = Co.CliId AND\n",
    "             Co.Placa = T.Placa\n",
    "       ORDER BY T.Modelo, Cl.Nome;"
   ]
  },
  {
   "cell_type": "code",
   "execution_count": 17,
   "metadata": {},
   "outputs": [
    {
     "data": {
      "application/vnd.jupyter.widget-view+json": {
       "model_id": "fb8ceedb-a3af-4b92-9eaf-c0a6ed667abe",
       "version_major": 2,
       "version_minor": 0
      },
      "method": "display_data"
     },
     "metadata": {},
     "output_type": "display_data"
    }
   ],
   "source": [
    "-- Cliente e os modelos de taxi tomados\n",
    "-- Ordena por Cliente, mas não por Modelo\n",
    "SELECT DISTINCT Cl.Nome, T.Modelo\n",
    "       FROM Cliente Cl, Corrida Co, Taxi T\n",
    "       WHERE Cl.CliId = Co.CliId AND\n",
    "             Co.Placa = T.Placa\n",
    "       ORDER BY Cl.Nome;"
   ]
  },
  {
   "cell_type": "code",
   "execution_count": 18,
   "metadata": {},
   "outputs": [
    {
     "data": {
      "application/vnd.jupyter.widget-view+json": {
       "model_id": "1d8437d3-74ee-4750-9c00-3efa4c98c834",
       "version_major": 2,
       "version_minor": 0
      },
      "method": "display_data"
     },
     "metadata": {},
     "output_type": "display_data"
    }
   ],
   "source": [
    "-- Ordena por Cliente e, para cada Cliente, por Modelo\n",
    "SELECT DISTINCT Cl.Nome, T.Modelo\n",
    "       FROM Cliente Cl, Corrida Co, Taxi T\n",
    "       WHERE Cl.CliId = Co.CliId AND\n",
    "             Co.Placa = T.Placa\n",
    "       ORDER BY Cl.Nome, T.Modelo;"
   ]
  },
  {
   "cell_type": "code",
   "execution_count": 19,
   "metadata": {},
   "outputs": [
    {
     "data": {
      "application/vnd.jupyter.widget-view+json": {
       "model_id": "726b0027-f563-4057-b375-2aae65322b20",
       "version_major": 2,
       "version_minor": 0
      },
      "method": "display_data"
     },
     "metadata": {},
     "output_type": "display_data"
    }
   ],
   "source": [
    "-- Taxis e respectivas corridas (para taxis que fizeram corrida)\n",
    "SELECT Tx.placa, Co.cliid\n",
    "       FROM Taxi Tx JOIN Corrida Co\n",
    "            ON Tx.placa = Co.placa;"
   ]
  },
  {
   "cell_type": "code",
   "execution_count": 20,
   "metadata": {},
   "outputs": [
    {
     "data": {
      "application/vnd.jupyter.widget-view+json": {
       "model_id": "521855fc-8beb-460c-a0c2-ba452ad681b9",
       "version_major": 2,
       "version_minor": 0
      },
      "method": "display_data"
     },
     "metadata": {},
     "output_type": "display_data"
    }
   ],
   "source": [
    "-- Natural Join\n",
    "SELECT Tx.placa, Co.cliid\n",
    "       FROM Taxi Tx\n",
    "            NATURAL JOIN Corrida Co;"
   ]
  },
  {
   "cell_type": "code",
   "execution_count": 21,
   "metadata": {},
   "outputs": [
    {
     "data": {
      "application/vnd.jupyter.widget-view+json": {
       "model_id": "8dfe3cd7-d9a9-48ba-9a27-14e8ef60a976",
       "version_major": 2,
       "version_minor": 0
      },
      "method": "display_data"
     },
     "metadata": {},
     "output_type": "display_data"
    }
   ],
   "source": [
    "-- Taxis e respectivas corridas (para todos os taxis)\n",
    "SELECT Tx.placa, Co.cliid\n",
    "       FROM Taxi Tx LEFT JOIN Corrida Co\n",
    "            ON Tx.placa = Co.placa;"
   ]
  },
  {
   "cell_type": "code",
   "execution_count": 22,
   "metadata": {},
   "outputs": [
    {
     "data": {
      "application/vnd.jupyter.widget-view+json": {
       "model_id": "f84b2389-7653-4601-b9be-c6c7015e9971",
       "version_major": 2,
       "version_minor": 0
      },
      "method": "display_data"
     },
     "metadata": {},
     "output_type": "display_data"
    }
   ],
   "source": [
    "-- Corridas e respectivos clientes (para todos os clientes)\n",
    "SELECT Co.placa, Cl.nome\n",
    "       FROM Corrida Co RIGHT JOIN Cliente Cl\n",
    "            ON Co.cliid = Cl.cliid;"
   ]
  }
 ],
 "metadata": {
  "kernelspec": {
   "display_name": "SQL",
   "language": "SQL",
   "name": "sql"
  },
  "language_info": {
   "codemirror_mode": "sql",
   "file_extension": ".sql",
   "mimetype": "",
   "name": "SQL",
   "nbconverter_exporter": "",
   "version": ""
  },
  "toc": {
   "base_numbering": 1,
   "nav_menu": {},
   "number_sections": false,
   "sideBar": false,
   "skip_h1_title": false,
   "title_cell": "Table of Contents",
   "title_sidebar": "Contents",
   "toc_cell": false,
   "toc_position": {},
   "toc_section_display": false,
   "toc_window_display": false
  }
 },
 "nbformat": 4,
 "nbformat_minor": 2
}
