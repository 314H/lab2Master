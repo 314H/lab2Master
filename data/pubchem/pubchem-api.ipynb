{
 "cells": [
  {
   "cell_type": "code",
   "execution_count": 7,
   "metadata": {},
   "outputs": [
    {
     "name": "stdout",
     "output_type": "stream",
     "text": [
      "2244\n",
      "137329\n",
      "91626\n",
      "9905405\n",
      "9871508\n",
      "24666\n",
      "24847961\n",
      "16099592\n",
      "9938610\n",
      "71586929\n",
      "56841578\n",
      "44153517\n",
      "24936226\n",
      "24847798\n",
      "11980079\n",
      "145904\n",
      "83966\n",
      "56841602\n",
      "54681542\n",
      "24847819\n",
      "612  records\n"
     ]
    }
   ],
   "source": [
    "import io\n",
    "import requests\n",
    "import xml.etree.ElementTree as et\n",
    "url = \"https://pubchem.ncbi.nlm.nih.gov/rest/pug/compound/fastsubstructure/cid/2244/cids/XML\"\n",
    "data = requests.get(url).content\n",
    "tree = et.parse(io.StringIO(data.decode(\"utf-8\")))\n",
    "pc = tree.getroot()\n",
    "cont = 0\n",
    "for child in pc:\n",
    "    cont = cont + 1\n",
    "    if cont <= 20:\n",
    "        print(child.text)\n",
    "print(cont, ' records')"
   ]
  },
  {
   "cell_type": "code",
   "execution_count": 1,
   "metadata": {},
   "outputs": [
    {
     "name": "stdout",
     "output_type": "stream",
     "text": [
      "612  records\n"
     ]
    }
   ],
   "source": [
    "import io\n",
    "import requests\n",
    "import xml.etree.ElementTree as et\n",
    "import re\n",
    "url = \"https://pubchem.ncbi.nlm.nih.gov/rest/pug/compound/fastsubstructure/cid/2244/cids/XML\"\n",
    "data = requests.get(url).content\n",
    "tree = et.parse(io.StringIO(data.decode(\"utf-8\")))\n",
    "pc = tree.getroot()\n",
    "cont = 0\n",
    "f = open(\"pubchem-aspirin-similar-structure.xml\", \"w\")\n",
    "f.write('<PC-DataSet>')\n",
    "for child in pc:\n",
    "    cont = cont + 1\n",
    "    subst = 'https://pubchem.ncbi.nlm.nih.gov/rest/pug/compound/cid/' + child.text + '/synonyms/XML'\n",
    "    datas = requests.get(subst).content\n",
    "    datastr = datas.decode(\"utf-8\")\n",
    "    datastr = datastr.replace('<?xml version=\"1.0\"?>', '')\n",
    "    datastr = re.sub(r'<InformationList[^>]*>', '<InformationList>', datastr, re.M)\n",
    "    f.write(datastr)\n",
    "f.write('</PC-DataSet>')\n",
    "f.close()\n",
    "print(cont, ' records')"
   ]
  },
  {
   "cell_type": "code",
   "execution_count": null,
   "metadata": {},
   "outputs": [],
   "source": []
  }
 ],
 "metadata": {
  "kernelspec": {
   "display_name": "Python 3",
   "language": "python",
   "name": "python3"
  },
  "language_info": {
   "codemirror_mode": {
    "name": "ipython",
    "version": 3
   },
   "file_extension": ".py",
   "mimetype": "text/x-python",
   "name": "python",
   "nbconvert_exporter": "python",
   "pygments_lexer": "ipython3",
   "version": "3.7.8"
  }
 },
 "nbformat": 4,
 "nbformat_minor": 4
}
