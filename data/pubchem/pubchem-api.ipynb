{
 "cells": [
  {
   "cell_type": "code",
   "execution_count": 7,
   "metadata": {},
   "outputs": [
    {
     "name": "stdout",
     "output_type": "stream",
     "text": [
      "2244\n",
      "137329\n",
      "91626\n",
      "9905405\n",
      "9871508\n",
      "24666\n",
      "24847961\n",
      "16099592\n",
      "9938610\n",
      "71586929\n",
      "56841578\n",
      "44153517\n",
      "24936226\n",
      "24847798\n",
      "11980079\n",
      "145904\n",
      "83966\n",
      "56841602\n",
      "54681542\n",
      "24847819\n",
      "612  records\n"
     ]
    }
   ],
   "source": [
    "import io\n",
    "import requests\n",
    "import xml.etree.ElementTree as et\n",
    "url = \"https://pubchem.ncbi.nlm.nih.gov/rest/pug/compound/fastsubstructure/cid/2244/cids/XML\"\n",
    "data = requests.get(url).content\n",
    "tree = et.parse(io.StringIO(data.decode(\"utf-8\")))\n",
    "pc = tree.getroot()\n",
    "cont = 0\n",
    "for child in pc:\n",
    "    cont = cont + 1\n",
    "    if cont <= 20:\n",
    "        print(child.text)\n",
    "print(cont, ' records')"
   ]
  },
  {
   "cell_type": "code",
   "execution_count": 3,
   "metadata": {},
   "outputs": [
    {
     "name": "stdout",
     "output_type": "stream",
     "text": [
      "https://pubchem.ncbi.nlm.nih.gov/rest/pug/compound/cid/2244/synonyms/XML\n",
      "https://pubchem.ncbi.nlm.nih.gov/rest/pug/compound/cid/137329/synonyms/XML\n",
      "https://pubchem.ncbi.nlm.nih.gov/rest/pug/compound/cid/91626/synonyms/XML\n",
      "https://pubchem.ncbi.nlm.nih.gov/rest/pug/compound/cid/9905405/synonyms/XML\n",
      "https://pubchem.ncbi.nlm.nih.gov/rest/pug/compound/cid/9871508/synonyms/XML\n",
      "https://pubchem.ncbi.nlm.nih.gov/rest/pug/compound/cid/24666/synonyms/XML\n",
      "https://pubchem.ncbi.nlm.nih.gov/rest/pug/compound/cid/24847961/synonyms/XML\n",
      "https://pubchem.ncbi.nlm.nih.gov/rest/pug/compound/cid/16099592/synonyms/XML\n",
      "https://pubchem.ncbi.nlm.nih.gov/rest/pug/compound/cid/9938610/synonyms/XML\n",
      "https://pubchem.ncbi.nlm.nih.gov/rest/pug/compound/cid/71586929/synonyms/XML\n",
      "https://pubchem.ncbi.nlm.nih.gov/rest/pug/compound/cid/56841578/synonyms/XML\n",
      "https://pubchem.ncbi.nlm.nih.gov/rest/pug/compound/cid/44153517/synonyms/XML\n",
      "https://pubchem.ncbi.nlm.nih.gov/rest/pug/compound/cid/24936226/synonyms/XML\n",
      "https://pubchem.ncbi.nlm.nih.gov/rest/pug/compound/cid/24847798/synonyms/XML\n",
      "https://pubchem.ncbi.nlm.nih.gov/rest/pug/compound/cid/11980079/synonyms/XML\n",
      "https://pubchem.ncbi.nlm.nih.gov/rest/pug/compound/cid/145904/synonyms/XML\n",
      "https://pubchem.ncbi.nlm.nih.gov/rest/pug/compound/cid/83966/synonyms/XML\n",
      "https://pubchem.ncbi.nlm.nih.gov/rest/pug/compound/cid/56841602/synonyms/XML\n",
      "https://pubchem.ncbi.nlm.nih.gov/rest/pug/compound/cid/54681542/synonyms/XML\n",
      "https://pubchem.ncbi.nlm.nih.gov/rest/pug/compound/cid/24847819/synonyms/XML\n",
      "https://pubchem.ncbi.nlm.nih.gov/rest/pug/compound/cid/6453785/synonyms/XML\n",
      "https://pubchem.ncbi.nlm.nih.gov/rest/pug/compound/cid/5748307/synonyms/XML\n",
      "https://pubchem.ncbi.nlm.nih.gov/rest/pug/compound/cid/5492635/synonyms/XML\n",
      "https://pubchem.ncbi.nlm.nih.gov/rest/pug/compound/cid/5491280/synonyms/XML\n",
      "https://pubchem.ncbi.nlm.nih.gov/rest/pug/compound/cid/3047224/synonyms/XML\n",
      "https://pubchem.ncbi.nlm.nih.gov/rest/pug/compound/cid/197105/synonyms/XML\n",
      "https://pubchem.ncbi.nlm.nih.gov/rest/pug/compound/cid/171511/synonyms/XML\n",
      "https://pubchem.ncbi.nlm.nih.gov/rest/pug/compound/cid/169926/synonyms/XML\n",
      "https://pubchem.ncbi.nlm.nih.gov/rest/pug/compound/cid/162666/synonyms/XML\n",
      "https://pubchem.ncbi.nlm.nih.gov/rest/pug/compound/cid/150304/synonyms/XML\n",
      "https://pubchem.ncbi.nlm.nih.gov/rest/pug/compound/cid/129634348/synonyms/XML\n",
      "https://pubchem.ncbi.nlm.nih.gov/rest/pug/compound/cid/124201540/synonyms/XML\n",
      "https://pubchem.ncbi.nlm.nih.gov/rest/pug/compound/cid/123131972/synonyms/XML\n",
      "https://pubchem.ncbi.nlm.nih.gov/rest/pug/compound/cid/78401031/synonyms/XML\n",
      "https://pubchem.ncbi.nlm.nih.gov/rest/pug/compound/cid/71309054/synonyms/XML\n",
      "https://pubchem.ncbi.nlm.nih.gov/rest/pug/compound/cid/69975280/synonyms/XML\n",
      "https://pubchem.ncbi.nlm.nih.gov/rest/pug/compound/cid/69725476/synonyms/XML\n",
      "https://pubchem.ncbi.nlm.nih.gov/rest/pug/compound/cid/56843206/synonyms/XML\n",
      "https://pubchem.ncbi.nlm.nih.gov/rest/pug/compound/cid/56842252/synonyms/XML\n",
      "https://pubchem.ncbi.nlm.nih.gov/rest/pug/compound/cid/54693034/synonyms/XML\n",
      "https://pubchem.ncbi.nlm.nih.gov/rest/pug/compound/cid/46780045/synonyms/XML\n",
      "https://pubchem.ncbi.nlm.nih.gov/rest/pug/compound/cid/44154303/synonyms/XML\n",
      "https://pubchem.ncbi.nlm.nih.gov/rest/pug/compound/cid/44149172/synonyms/XML\n",
      "https://pubchem.ncbi.nlm.nih.gov/rest/pug/compound/cid/44144595/synonyms/XML\n",
      "https://pubchem.ncbi.nlm.nih.gov/rest/pug/compound/cid/24847962/synonyms/XML\n",
      "https://pubchem.ncbi.nlm.nih.gov/rest/pug/compound/cid/24847791/synonyms/XML\n",
      "https://pubchem.ncbi.nlm.nih.gov/rest/pug/compound/cid/23673598/synonyms/XML\n",
      "https://pubchem.ncbi.nlm.nih.gov/rest/pug/compound/cid/20056736/synonyms/XML\n",
      "https://pubchem.ncbi.nlm.nih.gov/rest/pug/compound/cid/12280114/synonyms/XML\n",
      "https://pubchem.ncbi.nlm.nih.gov/rest/pug/compound/cid/11988046/synonyms/XML\n",
      "612  records\n"
     ]
    }
   ],
   "source": [
    "import io\n",
    "import requests\n",
    "import xml.etree.ElementTree as et\n",
    "import re\n",
    "url = \"https://pubchem.ncbi.nlm.nih.gov/rest/pug/compound/fastsubstructure/cid/2244/cids/XML\"\n",
    "data = requests.get(url).content\n",
    "tree = et.parse(io.StringIO(data.decode(\"utf-8\")))\n",
    "pc = tree.getroot()\n",
    "cont = 0\n",
    "f = open(\"pubchem-aspirin-similar-structure.xml\", \"w\")\n",
    "f.write('<PC-DataSet>')\n",
    "for child in pc:\n",
    "    cont = cont + 1\n",
    "    if cont <= 50:\n",
    "        subst = 'https://pubchem.ncbi.nlm.nih.gov/rest/pug/compound/cid/' + child.text + '/synonyms/XML'\n",
    "        print(subst)\n",
    "        datas = requests.get(subst).content\n",
    "        datastr = datas.decode(\"utf-8\")\n",
    "        datastr = datastr.replace('<?xml version=\"1.0\"?>', '')\n",
    "        datastr = re.sub(r'<InformationList[^>]*>', '<InformationList>', datastr, re.M)\n",
    "        f.write(datastr)\n",
    "f.write('</PC-DataSet>')\n",
    "f.close()\n",
    "print(cont, ' records')"
   ]
  },
  {
   "cell_type": "code",
   "execution_count": null,
   "metadata": {},
   "outputs": [],
   "source": []
  }
 ],
 "metadata": {
  "kernelspec": {
   "display_name": "Python 3",
   "language": "python",
   "name": "python3"
  },
  "language_info": {
   "codemirror_mode": {
    "name": "ipython",
    "version": 3
   },
   "file_extension": ".py",
   "mimetype": "text/x-python",
   "name": "python",
   "nbconvert_exporter": "python",
   "pygments_lexer": "ipython3",
   "version": "3.7.8"
  }
 },
 "nbformat": 4,
 "nbformat_minor": 4
}
